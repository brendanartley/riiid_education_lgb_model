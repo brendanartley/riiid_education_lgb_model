{
 "cells": [
  {
   "cell_type": "code",
   "execution_count": 1,
   "metadata": {
    "execution": {
     "iopub.execute_input": "2020-11-18T19:53:23.537236Z",
     "iopub.status.busy": "2020-11-18T19:53:23.536357Z",
     "iopub.status.idle": "2020-11-18T19:53:24.873565Z",
     "shell.execute_reply": "2020-11-18T19:53:24.872435Z"
    },
    "papermill": {
     "duration": 1.413003,
     "end_time": "2020-11-18T19:53:24.873799",
     "exception": false,
     "start_time": "2020-11-18T19:53:23.460796",
     "status": "completed"
    },
    "tags": []
   },
   "outputs": [
    {
     "name": "stdout",
     "output_type": "stream",
     "text": [
      "/kaggle/input/riiid-test-answer-prediction/lectures.csv\n",
      "/kaggle/input/riiid-test-answer-prediction/example_test.csv\n",
      "/kaggle/input/riiid-test-answer-prediction/example_sample_submission.csv\n",
      "/kaggle/input/riiid-test-answer-prediction/train.csv\n",
      "/kaggle/input/riiid-test-answer-prediction/questions.csv\n",
      "/kaggle/input/riiid-test-answer-prediction/riiideducation/__init__.py\n",
      "/kaggle/input/riiid-test-answer-prediction/riiideducation/competition.cpython-37m-x86_64-linux-gnu.so\n"
     ]
    }
   ],
   "source": [
    "import numpy as np\n",
    "\n",
    "import pandas as pd\n",
    "import seaborn as sns \n",
    "import matplotlib.pyplot as plt\n",
    "from sklearn.model_selection import train_test_split\n",
    "from lightgbm import LGBMClassifier\n",
    "from sklearn.metrics import roc_auc_score\n",
    "\n",
    "%matplotlib inline\n",
    "\n",
    "# You can only call make_env() once, so don't lose it!\n",
    "import riiideducation\n",
    "#env = riiideducation.make_env()\n",
    "\n",
    "import os\n",
    "for dirname, _, filenames in os.walk('/kaggle/input'):\n",
    "    for filename in filenames:\n",
    "        print(os.path.join(dirname, filename))"
   ]
  },
  {
   "cell_type": "markdown",
   "metadata": {
    "papermill": {
     "duration": 0.06207,
     "end_time": "2020-11-18T19:53:25.001421",
     "exception": false,
     "start_time": "2020-11-18T19:53:24.939351",
     "status": "completed"
    },
    "tags": []
   },
   "source": [
    "# INSPIRED BY\n",
    "\n",
    "- [Kostiantyn Isaienkov's EDA Notebook](https://www.kaggle.com/isaienkov/riiid-answer-correctness-prediction-eda-modeling/)\n",
    "- [Ilia Larchenko's Simple EDA and Baseline Notebook](https://www.kaggle.com/ilialar/simple-eda-and-baseline)\n"
   ]
  },
  {
   "cell_type": "markdown",
   "metadata": {
    "papermill": {
     "duration": 0.061549,
     "end_time": "2020-11-18T19:53:25.133540",
     "exception": false,
     "start_time": "2020-11-18T19:53:25.071991",
     "status": "completed"
    },
    "tags": []
   },
   "source": [
    "### Training data is in the competition dataset as usual\n",
    "\n",
    "It's larger than will fit in memory with default settings, so we'll specify more efficient datatypes and only load a subset of the data for now."
   ]
  },
  {
   "cell_type": "code",
   "execution_count": 2,
   "metadata": {
    "execution": {
     "iopub.execute_input": "2020-11-18T19:53:25.272016Z",
     "iopub.status.busy": "2020-11-18T19:53:25.270987Z",
     "iopub.status.idle": "2020-11-18T19:53:58.612021Z",
     "shell.execute_reply": "2020-11-18T19:53:58.611087Z"
    },
    "papermill": {
     "duration": 33.416702,
     "end_time": "2020-11-18T19:53:58.612153",
     "exception": false,
     "start_time": "2020-11-18T19:53:25.195451",
     "status": "completed"
    },
    "tags": []
   },
   "outputs": [
    {
     "name": "stdout",
     "output_type": "stream",
     "text": [
      "(10000000, 10)\n"
     ]
    }
   ],
   "source": [
    "#Reading Files\n",
    "\n",
    "#train_df - Two options, for a smallish sample load data with code\n",
    "# cell a couple below. For all data go to modelling section in notebook.\n",
    "\n",
    "#questions.csv\n",
    "used_data_types_dict = {\n",
    "    'question_id': 'int16',\n",
    "    'bundle_id': 'int16',\n",
    "    'correct_answer': 'int8',\n",
    "    'part': 'int8',\n",
    "    'tags': 'str',\n",
    "}\n",
    "\n",
    "\n",
    "questions = pd.read_csv('/kaggle/input/riiid-test-answer-prediction/questions.csv',\n",
    "                       usecols = used_data_types_dict.keys(), dtype=used_data_types_dict)\n",
    "\n",
    "\n",
    "#lectures.csv\n",
    "lect = pd.read_csv('../input/riiid-test-answer-prediction/lectures.csv')\n",
    "\n",
    "#example_test\n",
    "et = pd.read_csv('../input/riiid-test-answer-prediction/example_test.csv', index_col='row_id')\n",
    "\n",
    "#train_df\n",
    "train_df = pd.read_csv('/kaggle/input/riiid-test-answer-prediction/train.csv', low_memory=False, nrows=10**7, \n",
    "                       dtype={'row_id': 'int64',\n",
    "                              'timestamp': 'int64',\n",
    "                              'user_id': 'int32',\n",
    "                              'content_id': 'int16',\n",
    "                              'content_type_id': 'int8',\n",
    "                              'task_container_id': 'int16',\n",
    "                              'user_answer': 'int8',\n",
    "                              'answered_correctly': 'int8',\n",
    "                              'prior_question_elapsed_time': 'float32',\n",
    "                              'prior_question_had_explanation': 'boolean',\n",
    "                             })\n",
    "print(train_df.shape)"
   ]
  },
  {
   "cell_type": "code",
   "execution_count": 3,
   "metadata": {
    "execution": {
     "iopub.execute_input": "2020-11-18T19:53:58.741401Z",
     "iopub.status.busy": "2020-11-18T19:53:58.740594Z",
     "iopub.status.idle": "2020-11-18T19:53:58.743917Z",
     "shell.execute_reply": "2020-11-18T19:53:58.743154Z"
    },
    "papermill": {
     "duration": 0.07022,
     "end_time": "2020-11-18T19:53:58.744051",
     "exception": false,
     "start_time": "2020-11-18T19:53:58.673831",
     "status": "completed"
    },
    "tags": []
   },
   "outputs": [],
   "source": [
    "#CHECKLIST\n",
    "#1: Explore variables\n",
    "    #TRAIN.CSV \n",
    "    #QUESTIONS.CSV\n",
    "    #LECTURES.CSV\n",
    "\n",
    "#2: Explore creating new features from variables combinations\n",
    "\n"
   ]
  },
  {
   "cell_type": "markdown",
   "metadata": {
    "papermill": {
     "duration": 0.061198,
     "end_time": "2020-11-18T19:53:58.866838",
     "exception": false,
     "start_time": "2020-11-18T19:53:58.805640",
     "status": "completed"
    },
    "tags": []
   },
   "source": [
    "# Data Exploration Stuff"
   ]
  },
  {
   "cell_type": "markdown",
   "metadata": {
    "papermill": {
     "duration": 0.061092,
     "end_time": "2020-11-18T19:53:58.989192",
     "exception": false,
     "start_time": "2020-11-18T19:53:58.928100",
     "status": "completed"
    },
    "tags": []
   },
   "source": [
    "### train.csv"
   ]
  },
  {
   "cell_type": "markdown",
   "metadata": {
    "papermill": {
     "duration": 0.065615,
     "end_time": "2020-11-18T19:53:59.125187",
     "exception": false,
     "start_time": "2020-11-18T19:53:59.059572",
     "status": "completed"
    },
    "tags": []
   },
   "source": [
    "* timestamp: done\n",
    "* user_id: done\n",
    "* content_id: done\n",
    "* content_type_id: done\n",
    "* task_container_id: done\n",
    "* user_answer: done\n",
    "* answered_correctly: done\n",
    "* prior_question_elapsed_time: done\n",
    "* prior_question_had_explanation: done"
   ]
  },
  {
   "cell_type": "code",
   "execution_count": 4,
   "metadata": {
    "execution": {
     "iopub.execute_input": "2020-11-18T19:53:59.256011Z",
     "iopub.status.busy": "2020-11-18T19:53:59.254645Z",
     "iopub.status.idle": "2020-11-18T19:53:59.468081Z",
     "shell.execute_reply": "2020-11-18T19:53:59.467415Z"
    },
    "papermill": {
     "duration": 0.281037,
     "end_time": "2020-11-18T19:53:59.468209",
     "exception": false,
     "start_time": "2020-11-18T19:53:59.187172",
     "status": "completed"
    },
    "tags": []
   },
   "outputs": [
    {
     "data": {
      "text/plain": [
       "row_id                                 0\n",
       "timestamp                              0\n",
       "user_id                                0\n",
       "content_id                             0\n",
       "content_type_id                        0\n",
       "task_container_id                      0\n",
       "user_answer                            0\n",
       "answered_correctly                     0\n",
       "prior_question_elapsed_time       234784\n",
       "prior_question_had_explanation     39388\n",
       "dtype: int64"
      ]
     },
     "execution_count": 4,
     "metadata": {},
     "output_type": "execute_result"
    }
   ],
   "source": [
    "train_df.isnull().sum()"
   ]
  },
  {
   "cell_type": "code",
   "execution_count": 5,
   "metadata": {
    "execution": {
     "iopub.execute_input": "2020-11-18T19:53:59.603923Z",
     "iopub.status.busy": "2020-11-18T19:53:59.602959Z",
     "iopub.status.idle": "2020-11-18T19:54:00.422020Z",
     "shell.execute_reply": "2020-11-18T19:54:00.421234Z"
    },
    "papermill": {
     "duration": 0.891127,
     "end_time": "2020-11-18T19:54:00.422159",
     "exception": false,
     "start_time": "2020-11-18T19:53:59.531032",
     "status": "completed"
    },
    "tags": []
   },
   "outputs": [
    {
     "name": "stdout",
     "output_type": "stream",
     "text": [
      "Correct: 6457425 (64.6%)\n",
      "Incorrect: 3347179 (33.5%)\n",
      "Total: 10000000\n"
     ]
    }
   ],
   "source": [
    "correct = train_df[train_df['answered_correctly'] == 1]\n",
    "incorrect = train_df[train_df['answered_correctly'] == 0]\n",
    "\n",
    "print (\"Correct: %i (%.1f%%)\"%(len(correct), float(len(correct))/len(train_df)*100.0))\n",
    "print (\"Incorrect: %i (%.1f%%)\"%(len(incorrect), float(len(incorrect))/len(train_df)*100.0))\n",
    "print (\"Total: %i\"%len(train_df))"
   ]
  },
  {
   "cell_type": "markdown",
   "metadata": {
    "papermill": {
     "duration": 0.063815,
     "end_time": "2020-11-18T19:54:00.551147",
     "exception": false,
     "start_time": "2020-11-18T19:54:00.487332",
     "status": "completed"
    },
    "tags": []
   },
   "source": [
    "### timestamp"
   ]
  },
  {
   "cell_type": "code",
   "execution_count": 6,
   "metadata": {
    "execution": {
     "iopub.execute_input": "2020-11-18T19:54:00.687022Z",
     "iopub.status.busy": "2020-11-18T19:54:00.685550Z",
     "iopub.status.idle": "2020-11-18T19:54:00.975239Z",
     "shell.execute_reply": "2020-11-18T19:54:00.975867Z"
    },
    "papermill": {
     "duration": 0.361185,
     "end_time": "2020-11-18T19:54:00.976045",
     "exception": false,
     "start_time": "2020-11-18T19:54:00.614860",
     "status": "completed"
    },
    "tags": []
   },
   "outputs": [
    {
     "data": {
      "text/plain": [
       "count    1.000000e+07\n",
       "mean     7.546528e+09\n",
       "std      1.141381e+10\n",
       "min      0.000000e+00\n",
       "25%      5.109600e+08\n",
       "50%      2.612310e+09\n",
       "75%      9.751909e+09\n",
       "max      8.470816e+10\n",
       "Name: timestamp, dtype: float64"
      ]
     },
     "execution_count": 6,
     "metadata": {},
     "output_type": "execute_result"
    }
   ],
   "source": [
    "train_df.timestamp.describe()"
   ]
  },
  {
   "cell_type": "code",
   "execution_count": 7,
   "metadata": {
    "execution": {
     "iopub.execute_input": "2020-11-18T19:54:01.115909Z",
     "iopub.status.busy": "2020-11-18T19:54:01.115092Z",
     "iopub.status.idle": "2020-11-18T19:54:03.357483Z",
     "shell.execute_reply": "2020-11-18T19:54:03.356420Z"
    },
    "papermill": {
     "duration": 2.316729,
     "end_time": "2020-11-18T19:54:03.357661",
     "exception": false,
     "start_time": "2020-11-18T19:54:01.040932",
     "status": "completed"
    },
    "tags": []
   },
   "outputs": [
    {
     "data": {
      "text/plain": [
       "<matplotlib.legend.Legend at 0x7f0c952a4710>"
      ]
     },
     "execution_count": 7,
     "metadata": {},
     "output_type": "execute_result"
    },
    {
     "data": {
      "image/png": "[encoded data removed]",
      "text/plain": [
       "<Figure size 432x288 with 1 Axes>"
      ]
     },
     "metadata": {
      "needs_background": "light"
     },
     "output_type": "display_data"
    }
   ],
   "source": [
    "plt.xlim(0,50000000000)\n",
    "sns.distplot(a=correct['timestamp'], label='correct', kde=False)\n",
    "sns.distplot(a=incorrect['timestamp'], label=\"incorrect\", kde=False)\n",
    "plt.title(\"TimeStamp: Correct vs Incorrect\")\n",
    "plt.legend()"
   ]
  },
  {
   "cell_type": "markdown",
   "metadata": {
    "papermill": {
     "duration": 0.066389,
     "end_time": "2020-11-18T19:54:03.504808",
     "exception": false,
     "start_time": "2020-11-18T19:54:03.438419",
     "status": "completed"
    },
    "tags": []
   },
   "source": [
    "### prior_question_elapsed_time"
   ]
  },
  {
   "cell_type": "code",
   "execution_count": 8,
   "metadata": {
    "execution": {
     "iopub.execute_input": "2020-11-18T19:54:03.746892Z",
     "iopub.status.busy": "2020-11-18T19:54:03.744929Z",
     "iopub.status.idle": "2020-11-18T19:54:05.966879Z",
     "shell.execute_reply": "2020-11-18T19:54:05.965803Z"
    },
    "papermill": {
     "duration": 2.395817,
     "end_time": "2020-11-18T19:54:05.967095",
     "exception": false,
     "start_time": "2020-11-18T19:54:03.571278",
     "status": "completed"
    },
    "tags": []
   },
   "outputs": [
    {
     "data": {
      "text/plain": [
       "<matplotlib.legend.Legend at 0x7f0c95229a90>"
      ]
     },
     "execution_count": 8,
     "metadata": {},
     "output_type": "execute_result"
    },
    {
     "data": {
      "image/png": "[encoded data removed]",
      "text/plain": [
       "<Figure size 432x288 with 1 Axes>"
      ]
     },
     "metadata": {
      "needs_background": "light"
     },
     "output_type": "display_data"
    }
   ],
   "source": [
    "plt.xlim(0, 150000)\n",
    "\n",
    "sns.distplot(a=correct['prior_question_elapsed_time'], label='correct', kde=False)\n",
    "sns.distplot(a=incorrect['prior_question_elapsed_time'], label=\"incorrect\", kde=False)\n",
    "plt.title(\"prior_question_elapsed_time: Correct vs Incorrect\")\n",
    "plt.legend()"
   ]
  },
  {
   "cell_type": "markdown",
   "metadata": {
    "papermill": {
     "duration": 0.06922,
     "end_time": "2020-11-18T19:54:06.110499",
     "exception": false,
     "start_time": "2020-11-18T19:54:06.041279",
     "status": "completed"
    },
    "tags": []
   },
   "source": [
    "### prior_question_had_explanation"
   ]
  },
  {
   "cell_type": "code",
   "execution_count": 9,
   "metadata": {
    "execution": {
     "iopub.execute_input": "2020-11-18T19:54:06.295389Z",
     "iopub.status.busy": "2020-11-18T19:54:06.294189Z",
     "iopub.status.idle": "2020-11-18T19:54:06.814693Z",
     "shell.execute_reply": "2020-11-18T19:54:06.813667Z"
    },
    "papermill": {
     "duration": 0.635209,
     "end_time": "2020-11-18T19:54:06.814873",
     "exception": false,
     "start_time": "2020-11-18T19:54:06.179664",
     "status": "completed"
    },
    "tags": []
   },
   "outputs": [
    {
     "data": {
      "text/html": [
       "<div>\n",
       "<style scoped>\n",
       "    .dataframe tbody tr th:only-of-type {\n",
       "        vertical-align: middle;\n",
       "    }\n",
       "\n",
       "    .dataframe tbody tr th {\n",
       "        vertical-align: top;\n",
       "    }\n",
       "\n",
       "    .dataframe thead th {\n",
       "        text-align: right;\n",
       "    }\n",
       "</style>\n",
       "<table border=\"1\" class=\"dataframe\">\n",
       "  <thead>\n",
       "    <tr style=\"text-align: right;\">\n",
       "      <th></th>\n",
       "      <th>prior_question_had_explanation</th>\n",
       "      <th>answered_correctly</th>\n",
       "    </tr>\n",
       "  </thead>\n",
       "  <tbody>\n",
       "    <tr>\n",
       "      <th>0</th>\n",
       "      <td>False</td>\n",
       "      <td>0.235064</td>\n",
       "    </tr>\n",
       "    <tr>\n",
       "      <th>1</th>\n",
       "      <td>True</td>\n",
       "      <td>0.674771</td>\n",
       "    </tr>\n",
       "    <tr>\n",
       "      <th>2</th>\n",
       "      <td>&lt;NA&gt;</td>\n",
       "      <td>0.680309</td>\n",
       "    </tr>\n",
       "  </tbody>\n",
       "</table>\n",
       "</div>"
      ],
      "text/plain": [
       "  prior_question_had_explanation  answered_correctly\n",
       "0                          False            0.235064\n",
       "1                           True            0.674771\n",
       "2                           <NA>            0.680309"
      ]
     },
     "execution_count": 9,
     "metadata": {},
     "output_type": "execute_result"
    }
   ],
   "source": [
    "train_df[['prior_question_had_explanation', 'answered_correctly']].groupby(['prior_question_had_explanation'], \n",
    "                                                                           as_index=False, dropna=False).mean()"
   ]
  },
  {
   "cell_type": "markdown",
   "metadata": {
    "papermill": {
     "duration": 0.068908,
     "end_time": "2020-11-18T19:54:06.955862",
     "exception": false,
     "start_time": "2020-11-18T19:54:06.886954",
     "status": "completed"
    },
    "tags": []
   },
   "source": [
    "Ideas?\n",
    "\n",
    "* for the first question of a test is the prior_question_had_explanation always false, or is it filled with a null value?\n",
    "\n",
    "* why are the prior_question_elapsed_time and prior_question_elapsed_time not the same in terms of null values?"
   ]
  },
  {
   "cell_type": "markdown",
   "metadata": {
    "papermill": {
     "duration": 0.072889,
     "end_time": "2020-11-18T19:54:07.099046",
     "exception": false,
     "start_time": "2020-11-18T19:54:07.026157",
     "status": "completed"
    },
    "tags": []
   },
   "source": [
    "### Task Container ID"
   ]
  },
  {
   "cell_type": "code",
   "execution_count": 10,
   "metadata": {
    "execution": {
     "iopub.execute_input": "2020-11-18T19:54:07.250515Z",
     "iopub.status.busy": "2020-11-18T19:54:07.249732Z",
     "iopub.status.idle": "2020-11-18T19:54:07.355977Z",
     "shell.execute_reply": "2020-11-18T19:54:07.354852Z"
    },
    "papermill": {
     "duration": 0.185177,
     "end_time": "2020-11-18T19:54:07.356143",
     "exception": false,
     "start_time": "2020-11-18T19:54:07.170966",
     "status": "completed"
    },
    "tags": []
   },
   "outputs": [
    {
     "data": {
      "text/plain": [
       "10000"
      ]
     },
     "execution_count": 10,
     "metadata": {},
     "output_type": "execute_result"
    }
   ],
   "source": [
    "train_df.task_container_id.nunique()\n"
   ]
  },
  {
   "cell_type": "code",
   "execution_count": 11,
   "metadata": {
    "execution": {
     "iopub.execute_input": "2020-11-18T19:54:07.504543Z",
     "iopub.status.busy": "2020-11-18T19:54:07.503721Z",
     "iopub.status.idle": "2020-11-18T19:54:08.154737Z",
     "shell.execute_reply": "2020-11-18T19:54:08.154108Z"
    },
    "papermill": {
     "duration": 0.727426,
     "end_time": "2020-11-18T19:54:08.154876",
     "exception": false,
     "start_time": "2020-11-18T19:54:07.427450",
     "status": "completed"
    },
    "tags": []
   },
   "outputs": [
    {
     "data": {
      "text/plain": [
       "<matplotlib.axes._subplots.AxesSubplot at 0x7f0c8c7c35d0>"
      ]
     },
     "execution_count": 11,
     "metadata": {},
     "output_type": "execute_result"
    },
    {
     "data": {
      "image/png": "[encoded data removed]",
      "text/plain": [
       "<Figure size 720x432 with 1 Axes>"
      ]
     },
     "metadata": {
      "needs_background": "light"
     },
     "output_type": "display_data"
    }
   ],
   "source": [
    "train_df['task_container_id'].value_counts(ascending=True)[-30:].plot(kind='barh', figsize=(10,6),\n",
    "                                                                      title='Top 30: task_container_ids')"
   ]
  },
  {
   "cell_type": "code",
   "execution_count": 12,
   "metadata": {
    "execution": {
     "iopub.execute_input": "2020-11-18T19:54:08.299985Z",
     "iopub.status.busy": "2020-11-18T19:54:08.299138Z",
     "iopub.status.idle": "2020-11-18T19:54:08.814025Z",
     "shell.execute_reply": "2020-11-18T19:54:08.813284Z"
    },
    "papermill": {
     "duration": 0.589925,
     "end_time": "2020-11-18T19:54:08.814167",
     "exception": false,
     "start_time": "2020-11-18T19:54:08.224242",
     "status": "completed"
    },
    "tags": []
   },
   "outputs": [
    {
     "data": {
      "text/plain": [
       "Text(0, 0.5, 'counts')"
      ]
     },
     "execution_count": 12,
     "metadata": {},
     "output_type": "execute_result"
    },
    {
     "data": {
      "image/png": "[encoded data removed]",
      "text/plain": [
       "<Figure size 720x432 with 1 Axes>"
      ]
     },
     "metadata": {
      "needs_background": "light"
     },
     "output_type": "display_data"
    }
   ],
   "source": [
    "train_df['task_container_id'].value_counts().plot(kind='line', figsize=(10,6))\n",
    "plt.xlabel('task_container_id')\n",
    "plt.ylabel('counts')"
   ]
  },
  {
   "cell_type": "markdown",
   "metadata": {
    "papermill": {
     "duration": 0.071094,
     "end_time": "2020-11-18T19:54:08.958262",
     "exception": false,
     "start_time": "2020-11-18T19:54:08.887168",
     "status": "completed"
    },
    "tags": []
   },
   "source": [
    "### user_answer"
   ]
  },
  {
   "cell_type": "code",
   "execution_count": 13,
   "metadata": {
    "execution": {
     "iopub.execute_input": "2020-11-18T19:54:09.105775Z",
     "iopub.status.busy": "2020-11-18T19:54:09.104969Z",
     "iopub.status.idle": "2020-11-18T19:54:09.232942Z",
     "shell.execute_reply": "2020-11-18T19:54:09.232143Z"
    },
    "papermill": {
     "duration": 0.203563,
     "end_time": "2020-11-18T19:54:09.233082",
     "exception": false,
     "start_time": "2020-11-18T19:54:09.029519",
     "status": "completed"
    },
    "tags": []
   },
   "outputs": [
    {
     "data": {
      "text/plain": [
       " 0    0.278403\n",
       " 1    0.266066\n",
       " 3    0.257953\n",
       " 2    0.178039\n",
       "-1    0.019540\n",
       "Name: user_answer, dtype: float64"
      ]
     },
     "execution_count": 13,
     "metadata": {},
     "output_type": "execute_result"
    }
   ],
   "source": [
    "train_df.user_answer.value_counts(normalize=True)"
   ]
  },
  {
   "cell_type": "code",
   "execution_count": 14,
   "metadata": {
    "execution": {
     "iopub.execute_input": "2020-11-18T19:54:09.412395Z",
     "iopub.status.busy": "2020-11-18T19:54:09.411290Z",
     "iopub.status.idle": "2020-11-18T19:54:09.787283Z",
     "shell.execute_reply": "2020-11-18T19:54:09.787871Z"
    },
    "papermill": {
     "duration": 0.483384,
     "end_time": "2020-11-18T19:54:09.788036",
     "exception": false,
     "start_time": "2020-11-18T19:54:09.304652",
     "status": "completed"
    },
    "tags": []
   },
   "outputs": [
    {
     "data": {
      "text/html": [
       "<div>\n",
       "<style scoped>\n",
       "    .dataframe tbody tr th:only-of-type {\n",
       "        vertical-align: middle;\n",
       "    }\n",
       "\n",
       "    .dataframe tbody tr th {\n",
       "        vertical-align: top;\n",
       "    }\n",
       "\n",
       "    .dataframe thead th {\n",
       "        text-align: right;\n",
       "    }\n",
       "</style>\n",
       "<table border=\"1\" class=\"dataframe\">\n",
       "  <thead>\n",
       "    <tr style=\"text-align: right;\">\n",
       "      <th></th>\n",
       "      <th>user_answer</th>\n",
       "      <th>answered_correctly</th>\n",
       "    </tr>\n",
       "  </thead>\n",
       "  <tbody>\n",
       "    <tr>\n",
       "      <th>0</th>\n",
       "      <td>-1</td>\n",
       "      <td>-1.000000</td>\n",
       "    </tr>\n",
       "    <tr>\n",
       "      <th>1</th>\n",
       "      <td>0</td>\n",
       "      <td>0.659294</td>\n",
       "    </tr>\n",
       "    <tr>\n",
       "      <th>2</th>\n",
       "      <td>1</td>\n",
       "      <td>0.649283</td>\n",
       "    </tr>\n",
       "    <tr>\n",
       "      <th>3</th>\n",
       "      <td>2</td>\n",
       "      <td>0.669495</td>\n",
       "    </tr>\n",
       "    <tr>\n",
       "      <th>4</th>\n",
       "      <td>3</td>\n",
       "      <td>0.659986</td>\n",
       "    </tr>\n",
       "  </tbody>\n",
       "</table>\n",
       "</div>"
      ],
      "text/plain": [
       "   user_answer  answered_correctly\n",
       "0           -1           -1.000000\n",
       "1            0            0.659294\n",
       "2            1            0.649283\n",
       "3            2            0.669495\n",
       "4            3            0.659986"
      ]
     },
     "execution_count": 14,
     "metadata": {},
     "output_type": "execute_result"
    }
   ],
   "source": [
    "train_df[['user_answer', 'answered_correctly']].groupby(['user_answer'], as_index=False).mean()"
   ]
  },
  {
   "cell_type": "markdown",
   "metadata": {
    "papermill": {
     "duration": 0.072701,
     "end_time": "2020-11-18T19:54:09.933556",
     "exception": false,
     "start_time": "2020-11-18T19:54:09.860855",
     "status": "completed"
    },
    "tags": []
   },
   "source": [
    "### User ID"
   ]
  },
  {
   "cell_type": "code",
   "execution_count": 15,
   "metadata": {
    "execution": {
     "iopub.execute_input": "2020-11-18T19:54:10.088067Z",
     "iopub.status.busy": "2020-11-18T19:54:10.087157Z",
     "iopub.status.idle": "2020-11-18T19:54:10.491520Z",
     "shell.execute_reply": "2020-11-18T19:54:10.490716Z"
    },
    "papermill": {
     "duration": 0.485508,
     "end_time": "2020-11-18T19:54:10.491688",
     "exception": false,
     "start_time": "2020-11-18T19:54:10.006180",
     "status": "completed"
    },
    "tags": []
   },
   "outputs": [
    {
     "data": {
      "text/plain": [
       "73289878     15871\n",
       "39919444     14905\n",
       "66756934     14510\n",
       "195124785    14180\n",
       "40224694     14136\n",
       "             ...  \n",
       "121434886        1\n",
       "38532797         1\n",
       "19887248         1\n",
       "190075469        1\n",
       "60215278         1\n",
       "Name: user_id, Length: 39491, dtype: int64"
      ]
     },
     "execution_count": 15,
     "metadata": {},
     "output_type": "execute_result"
    }
   ],
   "source": [
    "train_df['user_id'].value_counts()"
   ]
  },
  {
   "cell_type": "code",
   "execution_count": 16,
   "metadata": {
    "execution": {
     "iopub.execute_input": "2020-11-18T19:54:10.645637Z",
     "iopub.status.busy": "2020-11-18T19:54:10.644813Z",
     "iopub.status.idle": "2020-11-18T19:54:10.923450Z",
     "shell.execute_reply": "2020-11-18T19:54:10.922764Z"
    },
    "papermill": {
     "duration": 0.357781,
     "end_time": "2020-11-18T19:54:10.923581",
     "exception": false,
     "start_time": "2020-11-18T19:54:10.565800",
     "status": "completed"
    },
    "tags": []
   },
   "outputs": [],
   "source": [
    "#essentially makes a dataset with the value_counts of the user_id column\n",
    "#need to figure out how to effectively use this.\n",
    "ds = train_df['user_id'].value_counts().reset_index()\n",
    "ds.columns = ['user_id', 'count']\n",
    "ds = ds.sort_values('count')"
   ]
  },
  {
   "cell_type": "code",
   "execution_count": 17,
   "metadata": {
    "execution": {
     "iopub.execute_input": "2020-11-18T19:54:11.077597Z",
     "iopub.status.busy": "2020-11-18T19:54:11.076778Z",
     "iopub.status.idle": "2020-11-18T19:54:11.666739Z",
     "shell.execute_reply": "2020-11-18T19:54:11.665968Z"
    },
    "papermill": {
     "duration": 0.669909,
     "end_time": "2020-11-18T19:54:11.666871",
     "exception": false,
     "start_time": "2020-11-18T19:54:10.996962",
     "status": "completed"
    },
    "tags": []
   },
   "outputs": [
    {
     "data": {
      "text/plain": [
       "<matplotlib.axes._subplots.AxesSubplot at 0x7f0c8c63ed50>"
      ]
     },
     "execution_count": 17,
     "metadata": {},
     "output_type": "execute_result"
    },
    {
     "data": {
      "image/png": "[encoded data removed]",
      "text/plain": [
       "<Figure size 720x432 with 1 Axes>"
      ]
     },
     "metadata": {
      "needs_background": "light"
     },
     "output_type": "display_data"
    }
   ],
   "source": [
    "train_df['user_id'].value_counts(ascending=True)[-30:].plot(kind='barh', figsize=(10,6),\n",
    "                                                                      title='Top 30: user_ids')"
   ]
  },
  {
   "cell_type": "code",
   "execution_count": 18,
   "metadata": {
    "execution": {
     "iopub.execute_input": "2020-11-18T19:54:11.827404Z",
     "iopub.status.busy": "2020-11-18T19:54:11.825815Z",
     "iopub.status.idle": "2020-11-18T19:54:12.426422Z",
     "shell.execute_reply": "2020-11-18T19:54:12.425642Z"
    },
    "papermill": {
     "duration": 0.68301,
     "end_time": "2020-11-18T19:54:12.426554",
     "exception": false,
     "start_time": "2020-11-18T19:54:11.743544",
     "status": "completed"
    },
    "tags": []
   },
   "outputs": [
    {
     "data": {
      "text/plain": [
       "<matplotlib.axes._subplots.AxesSubplot at 0x7f0c8c758ed0>"
      ]
     },
     "execution_count": 18,
     "metadata": {},
     "output_type": "execute_result"
    },
    {
     "data": {
      "image/png": "[encoded data removed]",
      "text/plain": [
       "<Figure size 720x432 with 1 Axes>"
      ]
     },
     "metadata": {
      "needs_background": "light"
     },
     "output_type": "display_data"
    }
   ],
   "source": [
    "train_df['user_id'].value_counts()[-30:].plot(kind='barh', figsize=(10,6),\n",
    "                                                                      title='Bottom 30: user_ids')"
   ]
  },
  {
   "cell_type": "code",
   "execution_count": 19,
   "metadata": {
    "execution": {
     "iopub.execute_input": "2020-11-18T19:54:12.588704Z",
     "iopub.status.busy": "2020-11-18T19:54:12.587031Z",
     "iopub.status.idle": "2020-11-18T19:54:29.290056Z",
     "shell.execute_reply": "2020-11-18T19:54:29.290696Z"
    },
    "papermill": {
     "duration": 16.787478,
     "end_time": "2020-11-18T19:54:29.290858",
     "exception": false,
     "start_time": "2020-11-18T19:54:12.503380",
     "status": "completed"
    },
    "tags": []
   },
   "outputs": [
    {
     "data": {
      "text/plain": [
       "Text(0.5, 1.0, 'number of rows per user_id')"
      ]
     },
     "execution_count": 19,
     "metadata": {},
     "output_type": "execute_result"
    },
    {
     "data": {
      "image/png": "[encoded data removed]",
      "text/plain": [
       "<Figure size 1008x432 with 1 Axes>"
      ]
     },
     "metadata": {
      "needs_background": "light"
     },
     "output_type": "display_data"
    }
   ],
   "source": [
    "plt.figure(figsize=(14,6))\n",
    "sns.lineplot(x=train_df['user_id'], y=train_df['user_id'].value_counts())\n",
    "plt.xlabel(\"user_id\")\n",
    "plt.ylabel(\"count\")\n",
    "plt.title(\"number of rows per user_id\")"
   ]
  },
  {
   "cell_type": "markdown",
   "metadata": {
    "papermill": {
     "duration": 0.081548,
     "end_time": "2020-11-18T19:54:29.451960",
     "exception": false,
     "start_time": "2020-11-18T19:54:29.370412",
     "status": "completed"
    },
    "tags": []
   },
   "source": [
    "we can see from the above that the value_count doesnt seem to change between low and high user_id's. "
   ]
  },
  {
   "cell_type": "markdown",
   "metadata": {
    "papermill": {
     "duration": 0.078234,
     "end_time": "2020-11-18T19:54:29.609364",
     "exception": false,
     "start_time": "2020-11-18T19:54:29.531130",
     "status": "completed"
    },
    "tags": []
   },
   "source": [
    "### content_id"
   ]
  },
  {
   "cell_type": "code",
   "execution_count": 20,
   "metadata": {
    "execution": {
     "iopub.execute_input": "2020-11-18T19:54:29.775194Z",
     "iopub.status.busy": "2020-11-18T19:54:29.774371Z",
     "iopub.status.idle": "2020-11-18T19:54:29.853275Z",
     "shell.execute_reply": "2020-11-18T19:54:29.853925Z"
    },
    "papermill": {
     "duration": 0.164729,
     "end_time": "2020-11-18T19:54:29.854103",
     "exception": false,
     "start_time": "2020-11-18T19:54:29.689374",
     "status": "completed"
    },
    "tags": []
   },
   "outputs": [
    {
     "data": {
      "text/plain": [
       "13749"
      ]
     },
     "execution_count": 20,
     "metadata": {},
     "output_type": "execute_result"
    }
   ],
   "source": [
    "train_df.content_id.nunique()"
   ]
  },
  {
   "cell_type": "code",
   "execution_count": 21,
   "metadata": {
    "execution": {
     "iopub.execute_input": "2020-11-18T19:54:30.074764Z",
     "iopub.status.busy": "2020-11-18T19:54:30.073895Z",
     "iopub.status.idle": "2020-11-18T19:54:30.468227Z",
     "shell.execute_reply": "2020-11-18T19:54:30.467399Z"
    },
    "papermill": {
     "duration": 0.533728,
     "end_time": "2020-11-18T19:54:30.468357",
     "exception": false,
     "start_time": "2020-11-18T19:54:29.934629",
     "status": "completed"
    },
    "tags": []
   },
   "outputs": [
    {
     "data": {
      "text/html": [
       "<div>\n",
       "<style scoped>\n",
       "    .dataframe tbody tr th:only-of-type {\n",
       "        vertical-align: middle;\n",
       "    }\n",
       "\n",
       "    .dataframe tbody tr th {\n",
       "        vertical-align: top;\n",
       "    }\n",
       "\n",
       "    .dataframe thead th {\n",
       "        text-align: right;\n",
       "    }\n",
       "</style>\n",
       "<table border=\"1\" class=\"dataframe\">\n",
       "  <thead>\n",
       "    <tr style=\"text-align: right;\">\n",
       "      <th></th>\n",
       "      <th>content_id</th>\n",
       "      <th>count</th>\n",
       "    </tr>\n",
       "  </thead>\n",
       "  <tbody>\n",
       "    <tr>\n",
       "      <th>0</th>\n",
       "      <td>6116</td>\n",
       "      <td>21103</td>\n",
       "    </tr>\n",
       "    <tr>\n",
       "      <th>1</th>\n",
       "      <td>6173</td>\n",
       "      <td>20060</td>\n",
       "    </tr>\n",
       "    <tr>\n",
       "      <th>2</th>\n",
       "      <td>4120</td>\n",
       "      <td>19826</td>\n",
       "    </tr>\n",
       "    <tr>\n",
       "      <th>3</th>\n",
       "      <td>175</td>\n",
       "      <td>19520</td>\n",
       "    </tr>\n",
       "    <tr>\n",
       "      <th>4</th>\n",
       "      <td>7876</td>\n",
       "      <td>18886</td>\n",
       "    </tr>\n",
       "  </tbody>\n",
       "</table>\n",
       "</div>"
      ],
      "text/plain": [
       "   content_id  count\n",
       "0        6116  21103\n",
       "1        6173  20060\n",
       "2        4120  19826\n",
       "3         175  19520\n",
       "4        7876  18886"
      ]
     },
     "execution_count": 21,
     "metadata": {},
     "output_type": "execute_result"
    }
   ],
   "source": [
    "ds = train_df['content_id'].value_counts().reset_index()\n",
    "ds.columns = ['content_id', 'count']\n",
    "ds = ds.sort_values('count', ascending=False)\n",
    "\n",
    "ds.head(5)"
   ]
  },
  {
   "cell_type": "code",
   "execution_count": 22,
   "metadata": {
    "execution": {
     "iopub.execute_input": "2020-11-18T19:54:30.649224Z",
     "iopub.status.busy": "2020-11-18T19:54:30.648388Z",
     "iopub.status.idle": "2020-11-18T19:54:31.020621Z",
     "shell.execute_reply": "2020-11-18T19:54:31.019748Z"
    },
    "papermill": {
     "duration": 0.470455,
     "end_time": "2020-11-18T19:54:31.020793",
     "exception": false,
     "start_time": "2020-11-18T19:54:30.550338",
     "status": "completed"
    },
    "tags": []
   },
   "outputs": [
    {
     "data": {
      "text/plain": [
       "<matplotlib.axes._subplots.AxesSubplot at 0x7f0c8c358f10>"
      ]
     },
     "execution_count": 22,
     "metadata": {},
     "output_type": "execute_result"
    },
    {
     "data": {
      "image/png": "[encoded data removed]",
      "text/plain": [
       "<Figure size 720x432 with 1 Axes>"
      ]
     },
     "metadata": {
      "needs_background": "light"
     },
     "output_type": "display_data"
    }
   ],
   "source": [
    "plt.figure(figsize=(10,6))\n",
    "plt.title('Top 30: content_ids')\n",
    "\n",
    "sns.barplot(x=ds.head(30)['count'], y=ds.head(30).content_id, orient = 'h', \n",
    "            order=ds.head(30).sort_values('count', ascending = False).content_id)"
   ]
  },
  {
   "cell_type": "code",
   "execution_count": 23,
   "metadata": {
    "execution": {
     "iopub.execute_input": "2020-11-18T19:54:31.308464Z",
     "iopub.status.busy": "2020-11-18T19:54:31.306752Z",
     "iopub.status.idle": "2020-11-18T19:54:31.736503Z",
     "shell.execute_reply": "2020-11-18T19:54:31.735712Z"
    },
    "papermill": {
     "duration": 0.632081,
     "end_time": "2020-11-18T19:54:31.736649",
     "exception": false,
     "start_time": "2020-11-18T19:54:31.104568",
     "status": "completed"
    },
    "tags": []
   },
   "outputs": [
    {
     "data": {
      "text/plain": [
       "<matplotlib.axes._subplots.AxesSubplot at 0x7f0c8c35f8d0>"
      ]
     },
     "execution_count": 23,
     "metadata": {},
     "output_type": "execute_result"
    },
    {
     "data": {
      "image/png": "[encoded data removed]",
      "text/plain": [
       "<Figure size 720x432 with 1 Axes>"
      ]
     },
     "metadata": {
      "needs_background": "light"
     },
     "output_type": "display_data"
    }
   ],
   "source": [
    "plt.figure(figsize=(10,6))\n",
    "plt.title('Bottom 30: content_ids')\n",
    "\n",
    "sns.barplot(x=ds.tail(30)['count'], y=ds.tail(30).content_id, orient = 'h', \n",
    "            order=ds.tail(30).sort_values('count').content_id)"
   ]
  },
  {
   "cell_type": "code",
   "execution_count": 24,
   "metadata": {
    "execution": {
     "iopub.execute_input": "2020-11-18T19:54:31.919371Z",
     "iopub.status.busy": "2020-11-18T19:54:31.915903Z",
     "iopub.status.idle": "2020-11-18T19:54:33.142886Z",
     "shell.execute_reply": "2020-11-18T19:54:33.142200Z"
    },
    "papermill": {
     "duration": 1.321147,
     "end_time": "2020-11-18T19:54:33.143022",
     "exception": false,
     "start_time": "2020-11-18T19:54:31.821875",
     "status": "completed"
    },
    "tags": []
   },
   "outputs": [
    {
     "data": {
      "text/plain": [
       "Text(0, 0.5, 'count')"
      ]
     },
     "execution_count": 24,
     "metadata": {},
     "output_type": "execute_result"
    },
    {
     "data": {
      "image/png": "[encoded data removed]",
      "text/plain": [
       "<Figure size 432x288 with 1 Axes>"
      ]
     },
     "metadata": {
      "needs_background": "light"
     },
     "output_type": "display_data"
    }
   ],
   "source": [
    "sns.lineplot(data=ds['count'])\n",
    "plt.xlabel('content_id')\n",
    "plt.ylabel('count')"
   ]
  },
  {
   "cell_type": "markdown",
   "metadata": {
    "papermill": {
     "duration": 0.085499,
     "end_time": "2020-11-18T19:54:33.314302",
     "exception": false,
     "start_time": "2020-11-18T19:54:33.228803",
     "status": "completed"
    },
    "tags": []
   },
   "source": [
    "### content_type_id"
   ]
  },
  {
   "cell_type": "code",
   "execution_count": 25,
   "metadata": {
    "execution": {
     "iopub.execute_input": "2020-11-18T19:54:33.496973Z",
     "iopub.status.busy": "2020-11-18T19:54:33.496102Z",
     "iopub.status.idle": "2020-11-18T19:54:33.624838Z",
     "shell.execute_reply": "2020-11-18T19:54:33.623957Z"
    },
    "papermill": {
     "duration": 0.219814,
     "end_time": "2020-11-18T19:54:33.624994",
     "exception": false,
     "start_time": "2020-11-18T19:54:33.405180",
     "status": "completed"
    },
    "tags": []
   },
   "outputs": [
    {
     "data": {
      "text/plain": [
       " 0    2784028\n",
       " 1    2660660\n",
       " 3    2579528\n",
       " 2    1780388\n",
       "-1     195396\n",
       "Name: user_answer, dtype: int64"
      ]
     },
     "execution_count": 25,
     "metadata": {},
     "output_type": "execute_result"
    }
   ],
   "source": [
    "train_df.user_answer.value_counts()"
   ]
  },
  {
   "cell_type": "code",
   "execution_count": 26,
   "metadata": {
    "execution": {
     "iopub.execute_input": "2020-11-18T19:54:33.803511Z",
     "iopub.status.busy": "2020-11-18T19:54:33.802654Z",
     "iopub.status.idle": "2020-11-18T19:54:33.931096Z",
     "shell.execute_reply": "2020-11-18T19:54:33.930236Z"
    },
    "papermill": {
     "duration": 0.219568,
     "end_time": "2020-11-18T19:54:33.931234",
     "exception": false,
     "start_time": "2020-11-18T19:54:33.711666",
     "status": "completed"
    },
    "tags": []
   },
   "outputs": [
    {
     "data": {
      "text/plain": [
       "0    9804604\n",
       "1     195396\n",
       "Name: content_type_id, dtype: int64"
      ]
     },
     "execution_count": 26,
     "metadata": {},
     "output_type": "execute_result"
    }
   ],
   "source": [
    "train_df.content_type_id.value_counts()"
   ]
  },
  {
   "cell_type": "markdown",
   "metadata": {
    "papermill": {
     "duration": 0.086218,
     "end_time": "2020-11-18T19:54:34.103635",
     "exception": false,
     "start_time": "2020-11-18T19:54:34.017417",
     "status": "completed"
    },
    "tags": []
   },
   "source": [
    "* 0 if the event was a question being posed to the user\n",
    "* 1 if the event was the user watching a lecture\n",
    "\n",
    "note: we can see that there are the same number of content_type_id = 1 as there is user_answer = -1."
   ]
  },
  {
   "cell_type": "markdown",
   "metadata": {
    "papermill": {
     "duration": 0.085648,
     "end_time": "2020-11-18T19:54:34.276662",
     "exception": false,
     "start_time": "2020-11-18T19:54:34.191014",
     "status": "completed"
    },
    "tags": []
   },
   "source": [
    "# questions.csv\n",
    "\n",
    "question_id - foreign key for the content_id column in train/test data"
   ]
  },
  {
   "cell_type": "code",
   "execution_count": 27,
   "metadata": {
    "execution": {
     "iopub.execute_input": "2020-11-18T19:54:34.458183Z",
     "iopub.status.busy": "2020-11-18T19:54:34.457128Z",
     "iopub.status.idle": "2020-11-18T19:54:34.485640Z",
     "shell.execute_reply": "2020-11-18T19:54:34.485012Z"
    },
    "papermill": {
     "duration": 0.122727,
     "end_time": "2020-11-18T19:54:34.485793",
     "exception": false,
     "start_time": "2020-11-18T19:54:34.363066",
     "status": "completed"
    },
    "tags": []
   },
   "outputs": [
    {
     "data": {
      "text/html": [
       "<div>\n",
       "<style scoped>\n",
       "    .dataframe tbody tr th:only-of-type {\n",
       "        vertical-align: middle;\n",
       "    }\n",
       "\n",
       "    .dataframe tbody tr th {\n",
       "        vertical-align: top;\n",
       "    }\n",
       "\n",
       "    .dataframe thead th {\n",
       "        text-align: right;\n",
       "    }\n",
       "</style>\n",
       "<table border=\"1\" class=\"dataframe\">\n",
       "  <thead>\n",
       "    <tr style=\"text-align: right;\">\n",
       "      <th></th>\n",
       "      <th>bundle_id</th>\n",
       "      <th>correct_answer</th>\n",
       "      <th>part</th>\n",
       "      <th>tags</th>\n",
       "    </tr>\n",
       "    <tr>\n",
       "      <th>question_id</th>\n",
       "      <th></th>\n",
       "      <th></th>\n",
       "      <th></th>\n",
       "      <th></th>\n",
       "    </tr>\n",
       "  </thead>\n",
       "  <tbody>\n",
       "    <tr>\n",
       "      <th>0</th>\n",
       "      <td>0</td>\n",
       "      <td>0</td>\n",
       "      <td>1</td>\n",
       "      <td>51 131 162 38</td>\n",
       "    </tr>\n",
       "    <tr>\n",
       "      <th>1</th>\n",
       "      <td>1</td>\n",
       "      <td>1</td>\n",
       "      <td>1</td>\n",
       "      <td>131 36 81</td>\n",
       "    </tr>\n",
       "    <tr>\n",
       "      <th>2</th>\n",
       "      <td>2</td>\n",
       "      <td>0</td>\n",
       "      <td>1</td>\n",
       "      <td>131 101 162 92</td>\n",
       "    </tr>\n",
       "    <tr>\n",
       "      <th>3</th>\n",
       "      <td>3</td>\n",
       "      <td>0</td>\n",
       "      <td>1</td>\n",
       "      <td>131 149 162 29</td>\n",
       "    </tr>\n",
       "    <tr>\n",
       "      <th>4</th>\n",
       "      <td>4</td>\n",
       "      <td>3</td>\n",
       "      <td>1</td>\n",
       "      <td>131 5 162 38</td>\n",
       "    </tr>\n",
       "    <tr>\n",
       "      <th>...</th>\n",
       "      <td>...</td>\n",
       "      <td>...</td>\n",
       "      <td>...</td>\n",
       "      <td>...</td>\n",
       "    </tr>\n",
       "    <tr>\n",
       "      <th>13518</th>\n",
       "      <td>13518</td>\n",
       "      <td>3</td>\n",
       "      <td>5</td>\n",
       "      <td>14</td>\n",
       "    </tr>\n",
       "    <tr>\n",
       "      <th>13519</th>\n",
       "      <td>13519</td>\n",
       "      <td>3</td>\n",
       "      <td>5</td>\n",
       "      <td>8</td>\n",
       "    </tr>\n",
       "    <tr>\n",
       "      <th>13520</th>\n",
       "      <td>13520</td>\n",
       "      <td>2</td>\n",
       "      <td>5</td>\n",
       "      <td>73</td>\n",
       "    </tr>\n",
       "    <tr>\n",
       "      <th>13521</th>\n",
       "      <td>13521</td>\n",
       "      <td>0</td>\n",
       "      <td>5</td>\n",
       "      <td>125</td>\n",
       "    </tr>\n",
       "    <tr>\n",
       "      <th>13522</th>\n",
       "      <td>13522</td>\n",
       "      <td>3</td>\n",
       "      <td>5</td>\n",
       "      <td>55</td>\n",
       "    </tr>\n",
       "  </tbody>\n",
       "</table>\n",
       "<p>13523 rows × 4 columns</p>\n",
       "</div>"
      ],
      "text/plain": [
       "             bundle_id  correct_answer  part            tags\n",
       "question_id                                                 \n",
       "0                    0               0     1   51 131 162 38\n",
       "1                    1               1     1       131 36 81\n",
       "2                    2               0     1  131 101 162 92\n",
       "3                    3               0     1  131 149 162 29\n",
       "4                    4               3     1    131 5 162 38\n",
       "...                ...             ...   ...             ...\n",
       "13518            13518               3     5              14\n",
       "13519            13519               3     5               8\n",
       "13520            13520               2     5              73\n",
       "13521            13521               0     5             125\n",
       "13522            13522               3     5              55\n",
       "\n",
       "[13523 rows x 4 columns]"
      ]
     },
     "execution_count": 27,
     "metadata": {},
     "output_type": "execute_result"
    }
   ],
   "source": [
    "que = pd.read_csv('/kaggle/input/riiid-test-answer-prediction/questions.csv', index_col='question_id')\n",
    "que"
   ]
  },
  {
   "cell_type": "code",
   "execution_count": 28,
   "metadata": {
    "execution": {
     "iopub.execute_input": "2020-11-18T19:54:34.672614Z",
     "iopub.status.busy": "2020-11-18T19:54:34.669958Z",
     "iopub.status.idle": "2020-11-18T19:54:34.677857Z",
     "shell.execute_reply": "2020-11-18T19:54:34.677141Z"
    },
    "papermill": {
     "duration": 0.103582,
     "end_time": "2020-11-18T19:54:34.678165",
     "exception": false,
     "start_time": "2020-11-18T19:54:34.574583",
     "status": "completed"
    },
    "tags": []
   },
   "outputs": [
    {
     "data": {
      "text/plain": [
       "bundle_id         0\n",
       "correct_answer    0\n",
       "part              0\n",
       "tags              1\n",
       "dtype: int64"
      ]
     },
     "execution_count": 28,
     "metadata": {},
     "output_type": "execute_result"
    }
   ],
   "source": [
    "que.isnull().sum()"
   ]
  },
  {
   "cell_type": "markdown",
   "metadata": {
    "papermill": {
     "duration": 0.08765,
     "end_time": "2020-11-18T19:54:34.854124",
     "exception": false,
     "start_time": "2020-11-18T19:54:34.766474",
     "status": "completed"
    },
    "tags": []
   },
   "source": [
    "### correct_answer"
   ]
  },
  {
   "cell_type": "code",
   "execution_count": 29,
   "metadata": {
    "execution": {
     "iopub.execute_input": "2020-11-18T19:54:35.047022Z",
     "iopub.status.busy": "2020-11-18T19:54:35.045890Z",
     "iopub.status.idle": "2020-11-18T19:54:35.050823Z",
     "shell.execute_reply": "2020-11-18T19:54:35.050067Z"
    },
    "papermill": {
     "duration": 0.108465,
     "end_time": "2020-11-18T19:54:35.050966",
     "exception": false,
     "start_time": "2020-11-18T19:54:34.942501",
     "status": "completed"
    },
    "tags": []
   },
   "outputs": [
    {
     "data": {
      "text/html": [
       "<div>\n",
       "<style scoped>\n",
       "    .dataframe tbody tr th:only-of-type {\n",
       "        vertical-align: middle;\n",
       "    }\n",
       "\n",
       "    .dataframe tbody tr th {\n",
       "        vertical-align: top;\n",
       "    }\n",
       "\n",
       "    .dataframe thead th {\n",
       "        text-align: right;\n",
       "    }\n",
       "</style>\n",
       "<table border=\"1\" class=\"dataframe\">\n",
       "  <thead>\n",
       "    <tr style=\"text-align: right;\">\n",
       "      <th></th>\n",
       "      <th>correct_answer</th>\n",
       "      <th>number_of_answers</th>\n",
       "    </tr>\n",
       "  </thead>\n",
       "  <tbody>\n",
       "    <tr>\n",
       "      <th>0</th>\n",
       "      <td>0</td>\n",
       "      <td>0.274791</td>\n",
       "    </tr>\n",
       "    <tr>\n",
       "      <th>1</th>\n",
       "      <td>3</td>\n",
       "      <td>0.262072</td>\n",
       "    </tr>\n",
       "    <tr>\n",
       "      <th>2</th>\n",
       "      <td>1</td>\n",
       "      <td>0.257191</td>\n",
       "    </tr>\n",
       "    <tr>\n",
       "      <th>3</th>\n",
       "      <td>2</td>\n",
       "      <td>0.205945</td>\n",
       "    </tr>\n",
       "  </tbody>\n",
       "</table>\n",
       "</div>"
      ],
      "text/plain": [
       "   correct_answer  number_of_answers\n",
       "0               0           0.274791\n",
       "1               3           0.262072\n",
       "2               1           0.257191\n",
       "3               2           0.205945"
      ]
     },
     "execution_count": 29,
     "metadata": {},
     "output_type": "execute_result"
    }
   ],
   "source": [
    "ds = que['correct_answer'].value_counts(normalize=True).reset_index()\n",
    "ds.columns = ['correct_answer', 'number_of_answers']\n",
    "ds = ds.sort_values(['number_of_answers'], ascending=False)\n",
    "\n",
    "ds"
   ]
  },
  {
   "cell_type": "markdown",
   "metadata": {
    "papermill": {
     "duration": 0.089454,
     "end_time": "2020-11-18T19:54:35.228996",
     "exception": false,
     "start_time": "2020-11-18T19:54:35.139542",
     "status": "completed"
    },
    "tags": []
   },
   "source": [
    "### bundle_id"
   ]
  },
  {
   "cell_type": "code",
   "execution_count": 30,
   "metadata": {
    "execution": {
     "iopub.execute_input": "2020-11-18T19:54:35.411542Z",
     "iopub.status.busy": "2020-11-18T19:54:35.410797Z",
     "iopub.status.idle": "2020-11-18T19:54:35.418724Z",
     "shell.execute_reply": "2020-11-18T19:54:35.419276Z"
    },
    "papermill": {
     "duration": 0.101973,
     "end_time": "2020-11-18T19:54:35.419448",
     "exception": false,
     "start_time": "2020-11-18T19:54:35.317475",
     "status": "completed"
    },
    "tags": []
   },
   "outputs": [
    {
     "data": {
      "text/plain": [
       "7795    5\n",
       "6971    5\n",
       "7421    5\n",
       "7770    5\n",
       "8144    5\n",
       "       ..\n",
       "8385    1\n",
       "197     1\n",
       "6342    1\n",
       "4295    1\n",
       "0       1\n",
       "Name: bundle_id, Length: 9765, dtype: int64"
      ]
     },
     "execution_count": 30,
     "metadata": {},
     "output_type": "execute_result"
    }
   ],
   "source": [
    "que.bundle_id.value_counts()"
   ]
  },
  {
   "cell_type": "code",
   "execution_count": 31,
   "metadata": {
    "execution": {
     "iopub.execute_input": "2020-11-18T19:54:35.605323Z",
     "iopub.status.busy": "2020-11-18T19:54:35.604495Z",
     "iopub.status.idle": "2020-11-18T19:54:35.618395Z",
     "shell.execute_reply": "2020-11-18T19:54:35.617799Z"
    },
    "papermill": {
     "duration": 0.109958,
     "end_time": "2020-11-18T19:54:35.618525",
     "exception": false,
     "start_time": "2020-11-18T19:54:35.508567",
     "status": "completed"
    },
    "tags": []
   },
   "outputs": [
    {
     "data": {
      "text/html": [
       "<div>\n",
       "<style scoped>\n",
       "    .dataframe tbody tr th:only-of-type {\n",
       "        vertical-align: middle;\n",
       "    }\n",
       "\n",
       "    .dataframe tbody tr th {\n",
       "        vertical-align: top;\n",
       "    }\n",
       "\n",
       "    .dataframe thead th {\n",
       "        text-align: right;\n",
       "    }\n",
       "</style>\n",
       "<table border=\"1\" class=\"dataframe\">\n",
       "  <thead>\n",
       "    <tr style=\"text-align: right;\">\n",
       "      <th></th>\n",
       "      <th>#_in_bundle</th>\n",
       "      <th>percentage_of_questions</th>\n",
       "    </tr>\n",
       "  </thead>\n",
       "  <tbody>\n",
       "    <tr>\n",
       "      <th>0</th>\n",
       "      <td>1</td>\n",
       "      <td>0.834716</td>\n",
       "    </tr>\n",
       "    <tr>\n",
       "      <th>1</th>\n",
       "      <td>3</td>\n",
       "      <td>0.107834</td>\n",
       "    </tr>\n",
       "    <tr>\n",
       "      <th>2</th>\n",
       "      <td>4</td>\n",
       "      <td>0.038812</td>\n",
       "    </tr>\n",
       "    <tr>\n",
       "      <th>3</th>\n",
       "      <td>5</td>\n",
       "      <td>0.011367</td>\n",
       "    </tr>\n",
       "    <tr>\n",
       "      <th>4</th>\n",
       "      <td>2</td>\n",
       "      <td>0.007271</td>\n",
       "    </tr>\n",
       "  </tbody>\n",
       "</table>\n",
       "</div>"
      ],
      "text/plain": [
       "   #_in_bundle  percentage_of_questions\n",
       "0            1                 0.834716\n",
       "1            3                 0.107834\n",
       "2            4                 0.038812\n",
       "3            5                 0.011367\n",
       "4            2                 0.007271"
      ]
     },
     "execution_count": 31,
     "metadata": {},
     "output_type": "execute_result"
    }
   ],
   "source": [
    "ds = que.bundle_id.value_counts().value_counts(normalize=True)\n",
    "ds = pd.DataFrame({'#_in_bundle':ds.index, 'percentage_of_questions':ds.values}) #created a data frame otherwise it would come out as a series\n",
    "ds"
   ]
  },
  {
   "cell_type": "code",
   "execution_count": 32,
   "metadata": {
    "execution": {
     "iopub.execute_input": "2020-11-18T19:54:35.813323Z",
     "iopub.status.busy": "2020-11-18T19:54:35.812415Z",
     "iopub.status.idle": "2020-11-18T19:54:35.817029Z",
     "shell.execute_reply": "2020-11-18T19:54:35.816279Z"
    },
    "papermill": {
     "duration": 0.107885,
     "end_time": "2020-11-18T19:54:35.817164",
     "exception": false,
     "start_time": "2020-11-18T19:54:35.709279",
     "status": "completed"
    },
    "tags": []
   },
   "outputs": [
    {
     "data": {
      "text/html": [
       "<div>\n",
       "<style scoped>\n",
       "    .dataframe tbody tr th:only-of-type {\n",
       "        vertical-align: middle;\n",
       "    }\n",
       "\n",
       "    .dataframe tbody tr th {\n",
       "        vertical-align: top;\n",
       "    }\n",
       "\n",
       "    .dataframe thead th {\n",
       "        text-align: right;\n",
       "    }\n",
       "</style>\n",
       "<table border=\"1\" class=\"dataframe\">\n",
       "  <thead>\n",
       "    <tr style=\"text-align: right;\">\n",
       "      <th></th>\n",
       "      <th>bundle_id</th>\n",
       "      <th>correct_answer</th>\n",
       "      <th>part</th>\n",
       "      <th>tags</th>\n",
       "    </tr>\n",
       "    <tr>\n",
       "      <th>question_id</th>\n",
       "      <th></th>\n",
       "      <th></th>\n",
       "      <th></th>\n",
       "      <th></th>\n",
       "    </tr>\n",
       "  </thead>\n",
       "  <tbody>\n",
       "    <tr>\n",
       "      <th>7795</th>\n",
       "      <td>7795</td>\n",
       "      <td>1</td>\n",
       "      <td>7</td>\n",
       "      <td>145 160 16 22 122</td>\n",
       "    </tr>\n",
       "    <tr>\n",
       "      <th>7796</th>\n",
       "      <td>7795</td>\n",
       "      <td>2</td>\n",
       "      <td>7</td>\n",
       "      <td>118 160 16 22 122</td>\n",
       "    </tr>\n",
       "    <tr>\n",
       "      <th>7797</th>\n",
       "      <td>7795</td>\n",
       "      <td>1</td>\n",
       "      <td>7</td>\n",
       "      <td>97 160 16 22 122</td>\n",
       "    </tr>\n",
       "    <tr>\n",
       "      <th>7798</th>\n",
       "      <td>7795</td>\n",
       "      <td>2</td>\n",
       "      <td>7</td>\n",
       "      <td>97 160 16 22 122</td>\n",
       "    </tr>\n",
       "    <tr>\n",
       "      <th>7799</th>\n",
       "      <td>7795</td>\n",
       "      <td>1</td>\n",
       "      <td>7</td>\n",
       "      <td>97 160 16 22 122</td>\n",
       "    </tr>\n",
       "  </tbody>\n",
       "</table>\n",
       "</div>"
      ],
      "text/plain": [
       "             bundle_id  correct_answer  part               tags\n",
       "question_id                                                    \n",
       "7795              7795               1     7  145 160 16 22 122\n",
       "7796              7795               2     7  118 160 16 22 122\n",
       "7797              7795               1     7   97 160 16 22 122\n",
       "7798              7795               2     7   97 160 16 22 122\n",
       "7799              7795               1     7   97 160 16 22 122"
      ]
     },
     "execution_count": 32,
     "metadata": {},
     "output_type": "execute_result"
    }
   ],
   "source": [
    "que.loc[que['bundle_id'] == 7795]"
   ]
  },
  {
   "cell_type": "markdown",
   "metadata": {
    "papermill": {
     "duration": 0.091194,
     "end_time": "2020-11-18T19:54:36.000917",
     "exception": false,
     "start_time": "2020-11-18T19:54:35.909723",
     "status": "completed"
    },
    "tags": []
   },
   "source": [
    "Note: Maybe bundles with more that one question are connected? ie if you get the first question wrong you might be able to solve the remaining Q's?\n"
   ]
  },
  {
   "cell_type": "markdown",
   "metadata": {
    "papermill": {
     "duration": 0.091271,
     "end_time": "2020-11-18T19:54:36.186294",
     "exception": false,
     "start_time": "2020-11-18T19:54:36.095023",
     "status": "completed"
    },
    "tags": []
   },
   "source": [
    "### part"
   ]
  },
  {
   "cell_type": "code",
   "execution_count": 33,
   "metadata": {
    "execution": {
     "iopub.execute_input": "2020-11-18T19:54:36.415806Z",
     "iopub.status.busy": "2020-11-18T19:54:36.414611Z",
     "iopub.status.idle": "2020-11-18T19:54:36.420083Z",
     "shell.execute_reply": "2020-11-18T19:54:36.420804Z"
    },
    "papermill": {
     "duration": 0.139543,
     "end_time": "2020-11-18T19:54:36.420983",
     "exception": false,
     "start_time": "2020-11-18T19:54:36.281440",
     "status": "completed"
    },
    "tags": []
   },
   "outputs": [
    {
     "data": {
      "text/html": [
       "<div>\n",
       "<style scoped>\n",
       "    .dataframe tbody tr th:only-of-type {\n",
       "        vertical-align: middle;\n",
       "    }\n",
       "\n",
       "    .dataframe tbody tr th {\n",
       "        vertical-align: top;\n",
       "    }\n",
       "\n",
       "    .dataframe thead th {\n",
       "        text-align: right;\n",
       "    }\n",
       "</style>\n",
       "<table border=\"1\" class=\"dataframe\">\n",
       "  <thead>\n",
       "    <tr style=\"text-align: right;\">\n",
       "      <th></th>\n",
       "      <th>parts</th>\n",
       "      <th>percentage_of_questions</th>\n",
       "    </tr>\n",
       "  </thead>\n",
       "  <tbody>\n",
       "    <tr>\n",
       "      <th>0</th>\n",
       "      <td>5</td>\n",
       "      <td>0.407528</td>\n",
       "    </tr>\n",
       "    <tr>\n",
       "      <th>1</th>\n",
       "      <td>2</td>\n",
       "      <td>0.121793</td>\n",
       "    </tr>\n",
       "    <tr>\n",
       "      <th>2</th>\n",
       "      <td>3</td>\n",
       "      <td>0.115507</td>\n",
       "    </tr>\n",
       "    <tr>\n",
       "      <th>3</th>\n",
       "      <td>4</td>\n",
       "      <td>0.106411</td>\n",
       "    </tr>\n",
       "    <tr>\n",
       "      <th>4</th>\n",
       "      <td>6</td>\n",
       "      <td>0.089625</td>\n",
       "    </tr>\n",
       "    <tr>\n",
       "      <th>5</th>\n",
       "      <td>7</td>\n",
       "      <td>0.085780</td>\n",
       "    </tr>\n",
       "    <tr>\n",
       "      <th>6</th>\n",
       "      <td>1</td>\n",
       "      <td>0.073357</td>\n",
       "    </tr>\n",
       "  </tbody>\n",
       "</table>\n",
       "</div>"
      ],
      "text/plain": [
       "   parts  percentage_of_questions\n",
       "0      5                 0.407528\n",
       "1      2                 0.121793\n",
       "2      3                 0.115507\n",
       "3      4                 0.106411\n",
       "4      6                 0.089625\n",
       "5      7                 0.085780\n",
       "6      1                 0.073357"
      ]
     },
     "execution_count": 33,
     "metadata": {},
     "output_type": "execute_result"
    }
   ],
   "source": [
    "ds = que['part'].value_counts(normalize=True).reset_index()\n",
    "ds.columns = ['parts', 'percentage_of_questions']\n",
    "ds = ds.sort_values(['percentage_of_questions'], ascending=False)\n",
    "ds"
   ]
  },
  {
   "cell_type": "markdown",
   "metadata": {
    "papermill": {
     "duration": 0.109986,
     "end_time": "2020-11-18T19:54:36.630946",
     "exception": false,
     "start_time": "2020-11-18T19:54:36.520960",
     "status": "completed"
    },
    "tags": []
   },
   "source": [
    "### tags\n",
    "\n",
    "some feature eng here for sure"
   ]
  },
  {
   "cell_type": "code",
   "execution_count": 34,
   "metadata": {
    "execution": {
     "iopub.execute_input": "2020-11-18T19:54:36.831961Z",
     "iopub.status.busy": "2020-11-18T19:54:36.830866Z",
     "iopub.status.idle": "2020-11-18T19:54:36.871933Z",
     "shell.execute_reply": "2020-11-18T19:54:36.871103Z"
    },
    "papermill": {
     "duration": 0.145291,
     "end_time": "2020-11-18T19:54:36.872081",
     "exception": false,
     "start_time": "2020-11-18T19:54:36.726790",
     "status": "completed"
    },
    "tags": []
   },
   "outputs": [
    {
     "data": {
      "text/html": [
       "<div>\n",
       "<style scoped>\n",
       "    .dataframe tbody tr th:only-of-type {\n",
       "        vertical-align: middle;\n",
       "    }\n",
       "\n",
       "    .dataframe tbody tr th {\n",
       "        vertical-align: top;\n",
       "    }\n",
       "\n",
       "    .dataframe thead th {\n",
       "        text-align: right;\n",
       "    }\n",
       "</style>\n",
       "<table border=\"1\" class=\"dataframe\">\n",
       "  <thead>\n",
       "    <tr style=\"text-align: right;\">\n",
       "      <th></th>\n",
       "      <th>#_of_tags</th>\n",
       "      <th>percentage_of_questions</th>\n",
       "    </tr>\n",
       "  </thead>\n",
       "  <tbody>\n",
       "    <tr>\n",
       "      <th>0</th>\n",
       "      <td>1</td>\n",
       "      <td>0.485135</td>\n",
       "    </tr>\n",
       "    <tr>\n",
       "      <th>1</th>\n",
       "      <td>3</td>\n",
       "      <td>0.294039</td>\n",
       "    </tr>\n",
       "    <tr>\n",
       "      <th>2</th>\n",
       "      <td>4</td>\n",
       "      <td>0.149460</td>\n",
       "    </tr>\n",
       "    <tr>\n",
       "      <th>3</th>\n",
       "      <td>5</td>\n",
       "      <td>0.050732</td>\n",
       "    </tr>\n",
       "    <tr>\n",
       "      <th>4</th>\n",
       "      <td>2</td>\n",
       "      <td>0.012646</td>\n",
       "    </tr>\n",
       "    <tr>\n",
       "      <th>5</th>\n",
       "      <td>6</td>\n",
       "      <td>0.007987</td>\n",
       "    </tr>\n",
       "  </tbody>\n",
       "</table>\n",
       "</div>"
      ],
      "text/plain": [
       "   #_of_tags  percentage_of_questions\n",
       "0          1                 0.485135\n",
       "1          3                 0.294039\n",
       "2          4                 0.149460\n",
       "3          5                 0.050732\n",
       "4          2                 0.012646\n",
       "5          6                 0.007987"
      ]
     },
     "execution_count": 34,
     "metadata": {},
     "output_type": "execute_result"
    }
   ],
   "source": [
    "#seeing how many tags most of the questions have \n",
    "ds = que['tags'].str.split().str.len().value_counts(normalize=True)\n",
    "ds = pd.DataFrame({'#_of_tags':ds.index, 'percentage_of_questions':ds.values})\n",
    "ds['#_of_tags'] = ds['#_of_tags'].astype(int)\n",
    "\n",
    "ds"
   ]
  },
  {
   "cell_type": "code",
   "execution_count": 35,
   "metadata": {
    "execution": {
     "iopub.execute_input": "2020-11-18T19:54:37.089424Z",
     "iopub.status.busy": "2020-11-18T19:54:37.084137Z",
     "iopub.status.idle": "2020-11-18T19:54:37.156526Z",
     "shell.execute_reply": "2020-11-18T19:54:37.155763Z"
    },
    "papermill": {
     "duration": 0.188239,
     "end_time": "2020-11-18T19:54:37.156715",
     "exception": false,
     "start_time": "2020-11-18T19:54:36.968476",
     "status": "completed"
    },
    "tags": []
   },
   "outputs": [
    {
     "data": {
      "text/html": [
       "<div>\n",
       "<style scoped>\n",
       "    .dataframe tbody tr th:only-of-type {\n",
       "        vertical-align: middle;\n",
       "    }\n",
       "\n",
       "    .dataframe tbody tr th {\n",
       "        vertical-align: top;\n",
       "    }\n",
       "\n",
       "    .dataframe thead th {\n",
       "        text-align: right;\n",
       "    }\n",
       "</style>\n",
       "<table border=\"1\" class=\"dataframe\">\n",
       "  <thead>\n",
       "    <tr style=\"text-align: right;\">\n",
       "      <th></th>\n",
       "      <th>tag_number</th>\n",
       "      <th>count</th>\n",
       "    </tr>\n",
       "  </thead>\n",
       "  <tbody>\n",
       "    <tr>\n",
       "      <th>0</th>\n",
       "      <td>92</td>\n",
       "      <td>2269</td>\n",
       "    </tr>\n",
       "    <tr>\n",
       "      <th>1</th>\n",
       "      <td>38</td>\n",
       "      <td>2256</td>\n",
       "    </tr>\n",
       "    <tr>\n",
       "      <th>2</th>\n",
       "      <td>81</td>\n",
       "      <td>1969</td>\n",
       "    </tr>\n",
       "    <tr>\n",
       "      <th>3</th>\n",
       "      <td>29</td>\n",
       "      <td>1707</td>\n",
       "    </tr>\n",
       "    <tr>\n",
       "      <th>4</th>\n",
       "      <td>136</td>\n",
       "      <td>1033</td>\n",
       "    </tr>\n",
       "    <tr>\n",
       "      <th>...</th>\n",
       "      <td>...</td>\n",
       "      <td>...</td>\n",
       "    </tr>\n",
       "    <tr>\n",
       "      <th>183</th>\n",
       "      <td>34</td>\n",
       "      <td>6</td>\n",
       "    </tr>\n",
       "    <tr>\n",
       "      <th>184</th>\n",
       "      <td>63</td>\n",
       "      <td>5</td>\n",
       "    </tr>\n",
       "    <tr>\n",
       "      <th>185</th>\n",
       "      <td>121</td>\n",
       "      <td>5</td>\n",
       "    </tr>\n",
       "    <tr>\n",
       "      <th>186</th>\n",
       "      <td>186</td>\n",
       "      <td>3</td>\n",
       "    </tr>\n",
       "    <tr>\n",
       "      <th>187</th>\n",
       "      <td>86</td>\n",
       "      <td>1</td>\n",
       "    </tr>\n",
       "  </tbody>\n",
       "</table>\n",
       "<p>188 rows × 2 columns</p>\n",
       "</div>"
      ],
      "text/plain": [
       "    tag_number  count\n",
       "0           92   2269\n",
       "1           38   2256\n",
       "2           81   1969\n",
       "3           29   1707\n",
       "4          136   1033\n",
       "..         ...    ...\n",
       "183         34      6\n",
       "184         63      5\n",
       "185        121      5\n",
       "186        186      3\n",
       "187         86      1\n",
       "\n",
       "[188 rows x 2 columns]"
      ]
     },
     "execution_count": 35,
     "metadata": {},
     "output_type": "execute_result"
    }
   ],
   "source": [
    "#seeing which tags occur most frequently\n",
    "ds = que['tags'].str.split(' ').explode('tags').reset_index()\n",
    "ds = ds['tags'].value_counts().reset_index()\n",
    "ds.columns = ['tag_number', 'count']\n",
    "\n",
    "ds"
   ]
  },
  {
   "cell_type": "code",
   "execution_count": 36,
   "metadata": {
    "execution": {
     "iopub.execute_input": "2020-11-18T19:54:37.363455Z",
     "iopub.status.busy": "2020-11-18T19:54:37.356510Z",
     "iopub.status.idle": "2020-11-18T19:54:37.720561Z",
     "shell.execute_reply": "2020-11-18T19:54:37.719734Z"
    },
    "papermill": {
     "duration": 0.466996,
     "end_time": "2020-11-18T19:54:37.720722",
     "exception": false,
     "start_time": "2020-11-18T19:54:37.253726",
     "status": "completed"
    },
    "tags": []
   },
   "outputs": [
    {
     "data": {
      "text/plain": [
       "<matplotlib.axes._subplots.AxesSubplot at 0x7f0c8be1f590>"
      ]
     },
     "execution_count": 36,
     "metadata": {},
     "output_type": "execute_result"
    },
    {
     "data": {
      "image/png": "[encoded data removed]",
      "text/plain": [
       "<Figure size 720x432 with 1 Axes>"
      ]
     },
     "metadata": {
      "needs_background": "light"
     },
     "output_type": "display_data"
    }
   ],
   "source": [
    "plt.figure(figsize=(10,6))\n",
    "plt.title('Top 30: tags')\n",
    "\n",
    "sns.barplot(x=ds.head(30)['count'], y=ds.head(30).tag_number, orient = 'h', \n",
    "            order=ds.head(30).sort_values('count', ascending = False).tag_number)"
   ]
  },
  {
   "cell_type": "code",
   "execution_count": 37,
   "metadata": {
    "execution": {
     "iopub.execute_input": "2020-11-18T19:54:37.936035Z",
     "iopub.status.busy": "2020-11-18T19:54:37.935101Z",
     "iopub.status.idle": "2020-11-18T19:54:38.306445Z",
     "shell.execute_reply": "2020-11-18T19:54:38.305695Z"
    },
    "papermill": {
     "duration": 0.48714,
     "end_time": "2020-11-18T19:54:38.306572",
     "exception": false,
     "start_time": "2020-11-18T19:54:37.819432",
     "status": "completed"
    },
    "tags": []
   },
   "outputs": [
    {
     "data": {
      "text/plain": [
       "<matplotlib.axes._subplots.AxesSubplot at 0x7f0c8bf29410>"
      ]
     },
     "execution_count": 37,
     "metadata": {},
     "output_type": "execute_result"
    },
    {
     "data": {
      "image/png": "[encoded data removed]",
      "text/plain": [
       "<Figure size 720x432 with 1 Axes>"
      ]
     },
     "metadata": {
      "needs_background": "light"
     },
     "output_type": "display_data"
    }
   ],
   "source": [
    "plt.figure(figsize=(10,6))\n",
    "plt.title('Bottom 30: tags')\n",
    "\n",
    "sns.barplot(x=ds.tail(30)['count'], y=ds.tail(30).tag_number, orient = 'h', \n",
    "            order=ds.tail(30).sort_values('count', ascending = False).tag_number)"
   ]
  },
  {
   "cell_type": "code",
   "execution_count": 38,
   "metadata": {
    "execution": {
     "iopub.execute_input": "2020-11-18T19:54:38.525071Z",
     "iopub.status.busy": "2020-11-18T19:54:38.522617Z",
     "iopub.status.idle": "2020-11-18T19:54:40.087108Z",
     "shell.execute_reply": "2020-11-18T19:54:40.086275Z"
    },
    "papermill": {
     "duration": 1.680947,
     "end_time": "2020-11-18T19:54:40.087263",
     "exception": false,
     "start_time": "2020-11-18T19:54:38.406316",
     "status": "completed"
    },
    "tags": []
   },
   "outputs": [
    {
     "data": {
      "text/plain": [
       "<matplotlib.axes._subplots.AxesSubplot at 0x7f0c8c0319d0>"
      ]
     },
     "execution_count": 38,
     "metadata": {},
     "output_type": "execute_result"
    },
    {
     "data": {
      "image/png": "[encoded data removed]",
      "text/plain": [
       "<Figure size 1008x432 with 1 Axes>"
      ]
     },
     "metadata": {
      "needs_background": "light"
     },
     "output_type": "display_data"
    }
   ],
   "source": [
    "plt.figure(figsize=(14,6))\n",
    "sns.lineplot(x=ds['tag_number'], y=ds['count'])"
   ]
  },
  {
   "cell_type": "markdown",
   "metadata": {
    "papermill": {
     "duration": 0.102009,
     "end_time": "2020-11-18T19:54:40.291599",
     "exception": false,
     "start_time": "2020-11-18T19:54:40.189590",
     "status": "completed"
    },
    "tags": []
   },
   "source": [
    "# lectures.csv"
   ]
  },
  {
   "cell_type": "code",
   "execution_count": 39,
   "metadata": {
    "execution": {
     "iopub.execute_input": "2020-11-18T19:54:40.498884Z",
     "iopub.status.busy": "2020-11-18T19:54:40.498029Z",
     "iopub.status.idle": "2020-11-18T19:54:40.514396Z",
     "shell.execute_reply": "2020-11-18T19:54:40.513614Z"
    },
    "papermill": {
     "duration": 0.122808,
     "end_time": "2020-11-18T19:54:40.514533",
     "exception": false,
     "start_time": "2020-11-18T19:54:40.391725",
     "status": "completed"
    },
    "tags": []
   },
   "outputs": [
    {
     "data": {
      "text/html": [
       "<div>\n",
       "<style scoped>\n",
       "    .dataframe tbody tr th:only-of-type {\n",
       "        vertical-align: middle;\n",
       "    }\n",
       "\n",
       "    .dataframe tbody tr th {\n",
       "        vertical-align: top;\n",
       "    }\n",
       "\n",
       "    .dataframe thead th {\n",
       "        text-align: right;\n",
       "    }\n",
       "</style>\n",
       "<table border=\"1\" class=\"dataframe\">\n",
       "  <thead>\n",
       "    <tr style=\"text-align: right;\">\n",
       "      <th></th>\n",
       "      <th>lecture_id</th>\n",
       "      <th>tag</th>\n",
       "      <th>part</th>\n",
       "      <th>type_of</th>\n",
       "    </tr>\n",
       "  </thead>\n",
       "  <tbody>\n",
       "    <tr>\n",
       "      <th>0</th>\n",
       "      <td>89</td>\n",
       "      <td>159</td>\n",
       "      <td>5</td>\n",
       "      <td>concept</td>\n",
       "    </tr>\n",
       "    <tr>\n",
       "      <th>1</th>\n",
       "      <td>100</td>\n",
       "      <td>70</td>\n",
       "      <td>1</td>\n",
       "      <td>concept</td>\n",
       "    </tr>\n",
       "    <tr>\n",
       "      <th>2</th>\n",
       "      <td>185</td>\n",
       "      <td>45</td>\n",
       "      <td>6</td>\n",
       "      <td>concept</td>\n",
       "    </tr>\n",
       "    <tr>\n",
       "      <th>3</th>\n",
       "      <td>192</td>\n",
       "      <td>79</td>\n",
       "      <td>5</td>\n",
       "      <td>solving question</td>\n",
       "    </tr>\n",
       "    <tr>\n",
       "      <th>4</th>\n",
       "      <td>317</td>\n",
       "      <td>156</td>\n",
       "      <td>5</td>\n",
       "      <td>solving question</td>\n",
       "    </tr>\n",
       "    <tr>\n",
       "      <th>...</th>\n",
       "      <td>...</td>\n",
       "      <td>...</td>\n",
       "      <td>...</td>\n",
       "      <td>...</td>\n",
       "    </tr>\n",
       "    <tr>\n",
       "      <th>413</th>\n",
       "      <td>32535</td>\n",
       "      <td>8</td>\n",
       "      <td>5</td>\n",
       "      <td>solving question</td>\n",
       "    </tr>\n",
       "    <tr>\n",
       "      <th>414</th>\n",
       "      <td>32570</td>\n",
       "      <td>113</td>\n",
       "      <td>3</td>\n",
       "      <td>solving question</td>\n",
       "    </tr>\n",
       "    <tr>\n",
       "      <th>415</th>\n",
       "      <td>32604</td>\n",
       "      <td>24</td>\n",
       "      <td>6</td>\n",
       "      <td>concept</td>\n",
       "    </tr>\n",
       "    <tr>\n",
       "      <th>416</th>\n",
       "      <td>32625</td>\n",
       "      <td>142</td>\n",
       "      <td>2</td>\n",
       "      <td>concept</td>\n",
       "    </tr>\n",
       "    <tr>\n",
       "      <th>417</th>\n",
       "      <td>32736</td>\n",
       "      <td>82</td>\n",
       "      <td>3</td>\n",
       "      <td>concept</td>\n",
       "    </tr>\n",
       "  </tbody>\n",
       "</table>\n",
       "<p>418 rows × 4 columns</p>\n",
       "</div>"
      ],
      "text/plain": [
       "     lecture_id  tag  part           type_of\n",
       "0            89  159     5           concept\n",
       "1           100   70     1           concept\n",
       "2           185   45     6           concept\n",
       "3           192   79     5  solving question\n",
       "4           317  156     5  solving question\n",
       "..          ...  ...   ...               ...\n",
       "413       32535    8     5  solving question\n",
       "414       32570  113     3  solving question\n",
       "415       32604   24     6           concept\n",
       "416       32625  142     2           concept\n",
       "417       32736   82     3           concept\n",
       "\n",
       "[418 rows x 4 columns]"
      ]
     },
     "execution_count": 39,
     "metadata": {},
     "output_type": "execute_result"
    }
   ],
   "source": [
    "lect = pd.read_csv('../input/riiid-test-answer-prediction/lectures.csv')\n",
    "lect"
   ]
  },
  {
   "cell_type": "code",
   "execution_count": 40,
   "metadata": {
    "execution": {
     "iopub.execute_input": "2020-11-18T19:54:40.726564Z",
     "iopub.status.busy": "2020-11-18T19:54:40.725479Z",
     "iopub.status.idle": "2020-11-18T19:54:40.730642Z",
     "shell.execute_reply": "2020-11-18T19:54:40.729905Z"
    },
    "papermill": {
     "duration": 0.116297,
     "end_time": "2020-11-18T19:54:40.730799",
     "exception": false,
     "start_time": "2020-11-18T19:54:40.614502",
     "status": "completed"
    },
    "tags": []
   },
   "outputs": [
    {
     "data": {
      "text/plain": [
       "lecture_id    0\n",
       "tag           0\n",
       "part          0\n",
       "type_of       0\n",
       "dtype: int64"
      ]
     },
     "execution_count": 40,
     "metadata": {},
     "output_type": "execute_result"
    }
   ],
   "source": [
    "lect.isnull().sum()"
   ]
  },
  {
   "cell_type": "markdown",
   "metadata": {
    "papermill": {
     "duration": 0.101074,
     "end_time": "2020-11-18T19:54:40.933545",
     "exception": false,
     "start_time": "2020-11-18T19:54:40.832471",
     "status": "completed"
    },
    "tags": []
   },
   "source": [
    "### Part"
   ]
  },
  {
   "cell_type": "code",
   "execution_count": 41,
   "metadata": {
    "execution": {
     "iopub.execute_input": "2020-11-18T19:54:41.145245Z",
     "iopub.status.busy": "2020-11-18T19:54:41.144319Z",
     "iopub.status.idle": "2020-11-18T19:54:41.148986Z",
     "shell.execute_reply": "2020-11-18T19:54:41.148309Z"
    },
    "papermill": {
     "duration": 0.115045,
     "end_time": "2020-11-18T19:54:41.149147",
     "exception": false,
     "start_time": "2020-11-18T19:54:41.034102",
     "status": "completed"
    },
    "tags": []
   },
   "outputs": [
    {
     "data": {
      "text/plain": [
       "5    143\n",
       "6     83\n",
       "2     56\n",
       "1     54\n",
       "7     32\n",
       "4     31\n",
       "3     19\n",
       "Name: part, dtype: int64"
      ]
     },
     "execution_count": 41,
     "metadata": {},
     "output_type": "execute_result"
    }
   ],
   "source": [
    "ds = lect.part.value_counts()\n",
    "ds"
   ]
  },
  {
   "cell_type": "code",
   "execution_count": 42,
   "metadata": {
    "execution": {
     "iopub.execute_input": "2020-11-18T19:54:41.366435Z",
     "iopub.status.busy": "2020-11-18T19:54:41.365311Z",
     "iopub.status.idle": "2020-11-18T19:54:41.370803Z",
     "shell.execute_reply": "2020-11-18T19:54:41.370052Z"
    },
    "papermill": {
     "duration": 0.11956,
     "end_time": "2020-11-18T19:54:41.370935",
     "exception": false,
     "start_time": "2020-11-18T19:54:41.251375",
     "status": "completed"
    },
    "tags": []
   },
   "outputs": [
    {
     "data": {
      "text/html": [
       "<div>\n",
       "<style scoped>\n",
       "    .dataframe tbody tr th:only-of-type {\n",
       "        vertical-align: middle;\n",
       "    }\n",
       "\n",
       "    .dataframe tbody tr th {\n",
       "        vertical-align: top;\n",
       "    }\n",
       "\n",
       "    .dataframe thead th {\n",
       "        text-align: right;\n",
       "    }\n",
       "</style>\n",
       "<table border=\"1\" class=\"dataframe\">\n",
       "  <thead>\n",
       "    <tr style=\"text-align: right;\">\n",
       "      <th></th>\n",
       "      <th>part_numb</th>\n",
       "      <th>percentage_of_questions</th>\n",
       "    </tr>\n",
       "  </thead>\n",
       "  <tbody>\n",
       "    <tr>\n",
       "      <th>0</th>\n",
       "      <td>5</td>\n",
       "      <td>0.342105</td>\n",
       "    </tr>\n",
       "    <tr>\n",
       "      <th>1</th>\n",
       "      <td>6</td>\n",
       "      <td>0.198565</td>\n",
       "    </tr>\n",
       "    <tr>\n",
       "      <th>2</th>\n",
       "      <td>2</td>\n",
       "      <td>0.133971</td>\n",
       "    </tr>\n",
       "    <tr>\n",
       "      <th>3</th>\n",
       "      <td>1</td>\n",
       "      <td>0.129187</td>\n",
       "    </tr>\n",
       "    <tr>\n",
       "      <th>4</th>\n",
       "      <td>7</td>\n",
       "      <td>0.076555</td>\n",
       "    </tr>\n",
       "    <tr>\n",
       "      <th>5</th>\n",
       "      <td>4</td>\n",
       "      <td>0.074163</td>\n",
       "    </tr>\n",
       "    <tr>\n",
       "      <th>6</th>\n",
       "      <td>3</td>\n",
       "      <td>0.045455</td>\n",
       "    </tr>\n",
       "  </tbody>\n",
       "</table>\n",
       "</div>"
      ],
      "text/plain": [
       "   part_numb  percentage_of_questions\n",
       "0          5                 0.342105\n",
       "1          6                 0.198565\n",
       "2          2                 0.133971\n",
       "3          1                 0.129187\n",
       "4          7                 0.076555\n",
       "5          4                 0.074163\n",
       "6          3                 0.045455"
      ]
     },
     "execution_count": 42,
     "metadata": {},
     "output_type": "execute_result"
    }
   ],
   "source": [
    "ds = lect.part.value_counts(normalize=True)\n",
    "ds = pd.DataFrame({'part_numb':ds.index, 'percentage_of_questions':ds.values})\n",
    "ds"
   ]
  },
  {
   "cell_type": "markdown",
   "metadata": {
    "papermill": {
     "duration": 0.101756,
     "end_time": "2020-11-18T19:54:41.576161",
     "exception": false,
     "start_time": "2020-11-18T19:54:41.474405",
     "status": "completed"
    },
    "tags": []
   },
   "source": [
    "### type_of"
   ]
  },
  {
   "cell_type": "code",
   "execution_count": 43,
   "metadata": {
    "execution": {
     "iopub.execute_input": "2020-11-18T19:54:41.795501Z",
     "iopub.status.busy": "2020-11-18T19:54:41.794386Z",
     "iopub.status.idle": "2020-11-18T19:54:41.798753Z",
     "shell.execute_reply": "2020-11-18T19:54:41.798114Z"
    },
    "papermill": {
     "duration": 0.117447,
     "end_time": "2020-11-18T19:54:41.798900",
     "exception": false,
     "start_time": "2020-11-18T19:54:41.681453",
     "status": "completed"
    },
    "tags": []
   },
   "outputs": [
    {
     "data": {
      "text/plain": [
       "concept             222\n",
       "solving question    186\n",
       "intention             7\n",
       "starter               3\n",
       "Name: type_of, dtype: int64"
      ]
     },
     "execution_count": 43,
     "metadata": {},
     "output_type": "execute_result"
    }
   ],
   "source": [
    "ds = lect.type_of.value_counts()\n",
    "ds"
   ]
  },
  {
   "cell_type": "code",
   "execution_count": 44,
   "metadata": {
    "execution": {
     "iopub.execute_input": "2020-11-18T19:54:42.029120Z",
     "iopub.status.busy": "2020-11-18T19:54:42.026376Z",
     "iopub.status.idle": "2020-11-18T19:54:42.162394Z",
     "shell.execute_reply": "2020-11-18T19:54:42.161545Z"
    },
    "papermill": {
     "duration": 0.260303,
     "end_time": "2020-11-18T19:54:42.162541",
     "exception": false,
     "start_time": "2020-11-18T19:54:41.902238",
     "status": "completed"
    },
    "tags": []
   },
   "outputs": [
    {
     "data": {
      "text/plain": [
       "<matplotlib.axes._subplots.AxesSubplot at 0x7f0c8bab9550>"
      ]
     },
     "execution_count": 44,
     "metadata": {},
     "output_type": "execute_result"
    },
    {
     "data": {
      "image/png": "[encoded data removed]",
      "text/plain": [
       "<Figure size 432x288 with 1 Axes>"
      ]
     },
     "metadata": {
      "needs_background": "light"
     },
     "output_type": "display_data"
    }
   ],
   "source": [
    "ds = lect.type_of.value_counts()\n",
    "ds.plot(kind='bar', )"
   ]
  },
  {
   "cell_type": "code",
   "execution_count": 45,
   "metadata": {
    "execution": {
     "iopub.execute_input": "2020-11-18T19:54:42.394690Z",
     "iopub.status.busy": "2020-11-18T19:54:42.393539Z",
     "iopub.status.idle": "2020-11-18T19:54:42.603819Z",
     "shell.execute_reply": "2020-11-18T19:54:42.602996Z"
    },
    "papermill": {
     "duration": 0.335127,
     "end_time": "2020-11-18T19:54:42.603954",
     "exception": false,
     "start_time": "2020-11-18T19:54:42.268827",
     "status": "completed"
    },
    "tags": []
   },
   "outputs": [
    {
     "data": {
      "text/plain": [
       "<matplotlib.axes._subplots.AxesSubplot at 0x7f0c8ba8f210>"
      ]
     },
     "execution_count": 45,
     "metadata": {},
     "output_type": "execute_result"
    },
    {
     "data": {
      "image/png": "[encoded data removed]",
      "text/plain": [
       "<Figure size 432x288 with 1 Axes>"
      ]
     },
     "metadata": {
      "needs_background": "light"
     },
     "output_type": "display_data"
    }
   ],
   "source": [
    "ds = lect.loc[lect['type_of'] == 'solving question']\n",
    "ds.part.value_counts(normalize=True).plot(kind='bar')"
   ]
  },
  {
   "cell_type": "code",
   "execution_count": 46,
   "metadata": {
    "execution": {
     "iopub.execute_input": "2020-11-18T19:54:42.843021Z",
     "iopub.status.busy": "2020-11-18T19:54:42.836550Z",
     "iopub.status.idle": "2020-11-18T19:54:43.015093Z",
     "shell.execute_reply": "2020-11-18T19:54:43.014174Z"
    },
    "papermill": {
     "duration": 0.301083,
     "end_time": "2020-11-18T19:54:43.015244",
     "exception": false,
     "start_time": "2020-11-18T19:54:42.714161",
     "status": "completed"
    },
    "tags": []
   },
   "outputs": [
    {
     "data": {
      "text/plain": [
       "<matplotlib.axes._subplots.AxesSubplot at 0x7f0c8ba0d6d0>"
      ]
     },
     "execution_count": 46,
     "metadata": {},
     "output_type": "execute_result"
    },
    {
     "data": {
      "image/png": "[encoded data removed]",
      "text/plain": [
       "<Figure size 432x288 with 1 Axes>"
      ]
     },
     "metadata": {
      "needs_background": "light"
     },
     "output_type": "display_data"
    }
   ],
   "source": [
    "ds = lect.loc[lect['type_of'] == 'concept']\n",
    "ds.part.value_counts(normalize=True).plot(kind='bar')"
   ]
  },
  {
   "cell_type": "markdown",
   "metadata": {
    "papermill": {
     "duration": 0.11197,
     "end_time": "2020-11-18T19:54:43.239717",
     "exception": false,
     "start_time": "2020-11-18T19:54:43.127747",
     "status": "completed"
    },
    "tags": []
   },
   "source": [
    "### Tag"
   ]
  },
  {
   "cell_type": "code",
   "execution_count": 47,
   "metadata": {
    "execution": {
     "iopub.execute_input": "2020-11-18T19:54:43.493186Z",
     "iopub.status.busy": "2020-11-18T19:54:43.485269Z",
     "iopub.status.idle": "2020-11-18T19:54:43.696105Z",
     "shell.execute_reply": "2020-11-18T19:54:43.695361Z"
    },
    "papermill": {
     "duration": 0.344178,
     "end_time": "2020-11-18T19:54:43.696254",
     "exception": false,
     "start_time": "2020-11-18T19:54:43.352076",
     "status": "completed"
    },
    "tags": []
   },
   "outputs": [
    {
     "data": {
      "text/plain": [
       "Text(0.5, 1.0, 'Number of Lectures with each tag number')"
      ]
     },
     "execution_count": 47,
     "metadata": {},
     "output_type": "execute_result"
    },
    {
     "data": {
      "image/png": "[encoded data removed]",
      "text/plain": [
       "<Figure size 432x288 with 1 Axes>"
      ]
     },
     "metadata": {
      "needs_background": "light"
     },
     "output_type": "display_data"
    }
   ],
   "source": [
    "lect.tag.value_counts().value_counts().to_frame().plot(kind='bar')\n",
    "plt.xlabel('Tag_number')\n",
    "plt.ylabel('count')\n",
    "plt.title('Number of Lectures with each tag number')"
   ]
  },
  {
   "cell_type": "markdown",
   "metadata": {
    "papermill": {
     "duration": 0.114002,
     "end_time": "2020-11-18T19:54:43.925898",
     "exception": false,
     "start_time": "2020-11-18T19:54:43.811896",
     "status": "completed"
    },
    "tags": []
   },
   "source": [
    "# example_test_rows.csv"
   ]
  },
  {
   "cell_type": "code",
   "execution_count": 48,
   "metadata": {
    "execution": {
     "iopub.execute_input": "2020-11-18T19:54:44.162527Z",
     "iopub.status.busy": "2020-11-18T19:54:44.161384Z",
     "iopub.status.idle": "2020-11-18T19:54:44.191350Z",
     "shell.execute_reply": "2020-11-18T19:54:44.190524Z"
    },
    "papermill": {
     "duration": 0.150116,
     "end_time": "2020-11-18T19:54:44.191496",
     "exception": false,
     "start_time": "2020-11-18T19:54:44.041380",
     "status": "completed"
    },
    "tags": []
   },
   "outputs": [
    {
     "data": {
      "text/html": [
       "<div>\n",
       "<style scoped>\n",
       "    .dataframe tbody tr th:only-of-type {\n",
       "        vertical-align: middle;\n",
       "    }\n",
       "\n",
       "    .dataframe tbody tr th {\n",
       "        vertical-align: top;\n",
       "    }\n",
       "\n",
       "    .dataframe thead th {\n",
       "        text-align: right;\n",
       "    }\n",
       "</style>\n",
       "<table border=\"1\" class=\"dataframe\">\n",
       "  <thead>\n",
       "    <tr style=\"text-align: right;\">\n",
       "      <th></th>\n",
       "      <th>group_num</th>\n",
       "      <th>timestamp</th>\n",
       "      <th>user_id</th>\n",
       "      <th>content_id</th>\n",
       "      <th>content_type_id</th>\n",
       "      <th>task_container_id</th>\n",
       "      <th>prior_question_elapsed_time</th>\n",
       "      <th>prior_question_had_explanation</th>\n",
       "      <th>prior_group_answers_correct</th>\n",
       "      <th>prior_group_responses</th>\n",
       "    </tr>\n",
       "    <tr>\n",
       "      <th>row_id</th>\n",
       "      <th></th>\n",
       "      <th></th>\n",
       "      <th></th>\n",
       "      <th></th>\n",
       "      <th></th>\n",
       "      <th></th>\n",
       "      <th></th>\n",
       "      <th></th>\n",
       "      <th></th>\n",
       "      <th></th>\n",
       "    </tr>\n",
       "  </thead>\n",
       "  <tbody>\n",
       "    <tr>\n",
       "      <th>0</th>\n",
       "      <td>0</td>\n",
       "      <td>0</td>\n",
       "      <td>275030867</td>\n",
       "      <td>5729</td>\n",
       "      <td>0</td>\n",
       "      <td>0</td>\n",
       "      <td>NaN</td>\n",
       "      <td>NaN</td>\n",
       "      <td>[]</td>\n",
       "      <td>[]</td>\n",
       "    </tr>\n",
       "    <tr>\n",
       "      <th>1</th>\n",
       "      <td>0</td>\n",
       "      <td>13309898705</td>\n",
       "      <td>554169193</td>\n",
       "      <td>12010</td>\n",
       "      <td>0</td>\n",
       "      <td>4427</td>\n",
       "      <td>19000.0</td>\n",
       "      <td>True</td>\n",
       "      <td>NaN</td>\n",
       "      <td>NaN</td>\n",
       "    </tr>\n",
       "    <tr>\n",
       "      <th>2</th>\n",
       "      <td>0</td>\n",
       "      <td>4213672059</td>\n",
       "      <td>1720860329</td>\n",
       "      <td>457</td>\n",
       "      <td>0</td>\n",
       "      <td>240</td>\n",
       "      <td>17000.0</td>\n",
       "      <td>True</td>\n",
       "      <td>NaN</td>\n",
       "      <td>NaN</td>\n",
       "    </tr>\n",
       "    <tr>\n",
       "      <th>3</th>\n",
       "      <td>0</td>\n",
       "      <td>62798072960</td>\n",
       "      <td>288641214</td>\n",
       "      <td>13262</td>\n",
       "      <td>0</td>\n",
       "      <td>266</td>\n",
       "      <td>23000.0</td>\n",
       "      <td>True</td>\n",
       "      <td>NaN</td>\n",
       "      <td>NaN</td>\n",
       "    </tr>\n",
       "    <tr>\n",
       "      <th>4</th>\n",
       "      <td>0</td>\n",
       "      <td>10585422061</td>\n",
       "      <td>1728340777</td>\n",
       "      <td>6119</td>\n",
       "      <td>0</td>\n",
       "      <td>162</td>\n",
       "      <td>72400.0</td>\n",
       "      <td>True</td>\n",
       "      <td>NaN</td>\n",
       "      <td>NaN</td>\n",
       "    </tr>\n",
       "    <tr>\n",
       "      <th>...</th>\n",
       "      <td>...</td>\n",
       "      <td>...</td>\n",
       "      <td>...</td>\n",
       "      <td>...</td>\n",
       "      <td>...</td>\n",
       "      <td>...</td>\n",
       "      <td>...</td>\n",
       "      <td>...</td>\n",
       "      <td>...</td>\n",
       "      <td>...</td>\n",
       "    </tr>\n",
       "    <tr>\n",
       "      <th>104</th>\n",
       "      <td>3</td>\n",
       "      <td>13167339284</td>\n",
       "      <td>1900527744</td>\n",
       "      <td>3004</td>\n",
       "      <td>0</td>\n",
       "      <td>1179</td>\n",
       "      <td>24667.0</td>\n",
       "      <td>True</td>\n",
       "      <td>NaN</td>\n",
       "      <td>NaN</td>\n",
       "    </tr>\n",
       "    <tr>\n",
       "      <th>105</th>\n",
       "      <td>3</td>\n",
       "      <td>13167339284</td>\n",
       "      <td>1900527744</td>\n",
       "      <td>3003</td>\n",
       "      <td>0</td>\n",
       "      <td>1179</td>\n",
       "      <td>24667.0</td>\n",
       "      <td>True</td>\n",
       "      <td>NaN</td>\n",
       "      <td>NaN</td>\n",
       "    </tr>\n",
       "    <tr>\n",
       "      <th>106</th>\n",
       "      <td>3</td>\n",
       "      <td>64497673060</td>\n",
       "      <td>7792299</td>\n",
       "      <td>7908</td>\n",
       "      <td>0</td>\n",
       "      <td>676</td>\n",
       "      <td>19000.0</td>\n",
       "      <td>True</td>\n",
       "      <td>NaN</td>\n",
       "      <td>NaN</td>\n",
       "    </tr>\n",
       "    <tr>\n",
       "      <th>107</th>\n",
       "      <td>3</td>\n",
       "      <td>62798166743</td>\n",
       "      <td>288641214</td>\n",
       "      <td>9077</td>\n",
       "      <td>0</td>\n",
       "      <td>269</td>\n",
       "      <td>25000.0</td>\n",
       "      <td>True</td>\n",
       "      <td>NaN</td>\n",
       "      <td>NaN</td>\n",
       "    </tr>\n",
       "    <tr>\n",
       "      <th>108</th>\n",
       "      <td>3</td>\n",
       "      <td>2059176357</td>\n",
       "      <td>2018567473</td>\n",
       "      <td>12119</td>\n",
       "      <td>0</td>\n",
       "      <td>591</td>\n",
       "      <td>20000.0</td>\n",
       "      <td>True</td>\n",
       "      <td>NaN</td>\n",
       "      <td>NaN</td>\n",
       "    </tr>\n",
       "  </tbody>\n",
       "</table>\n",
       "<p>104 rows × 10 columns</p>\n",
       "</div>"
      ],
      "text/plain": [
       "        group_num    timestamp     user_id  content_id  content_type_id  \\\n",
       "row_id                                                                    \n",
       "0               0            0   275030867        5729                0   \n",
       "1               0  13309898705   554169193       12010                0   \n",
       "2               0   4213672059  1720860329         457                0   \n",
       "3               0  62798072960   288641214       13262                0   \n",
       "4               0  10585422061  1728340777        6119                0   \n",
       "...           ...          ...         ...         ...              ...   \n",
       "104             3  13167339284  1900527744        3004                0   \n",
       "105             3  13167339284  1900527744        3003                0   \n",
       "106             3  64497673060     7792299        7908                0   \n",
       "107             3  62798166743   288641214        9077                0   \n",
       "108             3   2059176357  2018567473       12119                0   \n",
       "\n",
       "        task_container_id  prior_question_elapsed_time  \\\n",
       "row_id                                                   \n",
       "0                       0                          NaN   \n",
       "1                    4427                      19000.0   \n",
       "2                     240                      17000.0   \n",
       "3                     266                      23000.0   \n",
       "4                     162                      72400.0   \n",
       "...                   ...                          ...   \n",
       "104                  1179                      24667.0   \n",
       "105                  1179                      24667.0   \n",
       "106                   676                      19000.0   \n",
       "107                   269                      25000.0   \n",
       "108                   591                      20000.0   \n",
       "\n",
       "       prior_question_had_explanation prior_group_answers_correct  \\\n",
       "row_id                                                              \n",
       "0                                 NaN                          []   \n",
       "1                                True                         NaN   \n",
       "2                                True                         NaN   \n",
       "3                                True                         NaN   \n",
       "4                                True                         NaN   \n",
       "...                               ...                         ...   \n",
       "104                              True                         NaN   \n",
       "105                              True                         NaN   \n",
       "106                              True                         NaN   \n",
       "107                              True                         NaN   \n",
       "108                              True                         NaN   \n",
       "\n",
       "       prior_group_responses  \n",
       "row_id                        \n",
       "0                         []  \n",
       "1                        NaN  \n",
       "2                        NaN  \n",
       "3                        NaN  \n",
       "4                        NaN  \n",
       "...                      ...  \n",
       "104                      NaN  \n",
       "105                      NaN  \n",
       "106                      NaN  \n",
       "107                      NaN  \n",
       "108                      NaN  \n",
       "\n",
       "[104 rows x 10 columns]"
      ]
     },
     "execution_count": 48,
     "metadata": {},
     "output_type": "execute_result"
    }
   ],
   "source": [
    "et = pd.read_csv('../input/riiid-test-answer-prediction/example_test.csv', index_col='row_id')\n",
    "et"
   ]
  },
  {
   "cell_type": "markdown",
   "metadata": {
    "papermill": {
     "duration": 0.112084,
     "end_time": "2020-11-18T19:54:44.418593",
     "exception": false,
     "start_time": "2020-11-18T19:54:44.306509",
     "status": "completed"
    },
    "tags": []
   },
   "source": [
    "# Some Feature Engineering"
   ]
  },
  {
   "cell_type": "code",
   "execution_count": 49,
   "metadata": {
    "execution": {
     "iopub.execute_input": "2020-11-18T19:54:44.653763Z",
     "iopub.status.busy": "2020-11-18T19:54:44.652973Z",
     "iopub.status.idle": "2020-11-18T19:54:45.161281Z",
     "shell.execute_reply": "2020-11-18T19:54:45.160480Z"
    },
    "papermill": {
     "duration": 0.626294,
     "end_time": "2020-11-18T19:54:45.161413",
     "exception": false,
     "start_time": "2020-11-18T19:54:44.535119",
     "status": "completed"
    },
    "tags": []
   },
   "outputs": [
    {
     "data": {
      "text/html": [
       "<div>\n",
       "<style scoped>\n",
       "    .dataframe tbody tr th:only-of-type {\n",
       "        vertical-align: middle;\n",
       "    }\n",
       "\n",
       "    .dataframe tbody tr th {\n",
       "        vertical-align: top;\n",
       "    }\n",
       "\n",
       "    .dataframe thead th {\n",
       "        text-align: right;\n",
       "    }\n",
       "</style>\n",
       "<table border=\"1\" class=\"dataframe\">\n",
       "  <thead>\n",
       "    <tr style=\"text-align: right;\">\n",
       "      <th></th>\n",
       "      <th>row_id</th>\n",
       "      <th>timestamp</th>\n",
       "      <th>user_id</th>\n",
       "      <th>content_id</th>\n",
       "      <th>content_type_id</th>\n",
       "      <th>task_container_id</th>\n",
       "      <th>user_answer</th>\n",
       "      <th>answered_correctly</th>\n",
       "      <th>prior_question_elapsed_time</th>\n",
       "      <th>prior_question_had_explanation</th>\n",
       "    </tr>\n",
       "  </thead>\n",
       "  <tbody>\n",
       "    <tr>\n",
       "      <th>0</th>\n",
       "      <td>0</td>\n",
       "      <td>0</td>\n",
       "      <td>115</td>\n",
       "      <td>5692</td>\n",
       "      <td>0</td>\n",
       "      <td>1</td>\n",
       "      <td>3</td>\n",
       "      <td>1</td>\n",
       "      <td>NaN</td>\n",
       "      <td>&lt;NA&gt;</td>\n",
       "    </tr>\n",
       "  </tbody>\n",
       "</table>\n",
       "</div>"
      ],
      "text/plain": [
       "   row_id  timestamp  user_id  content_id  content_type_id  task_container_id  \\\n",
       "0       0          0      115        5692                0                  1   \n",
       "\n",
       "   user_answer  answered_correctly  prior_question_elapsed_time  \\\n",
       "0            3                   1                          NaN   \n",
       "\n",
       "   prior_question_had_explanation  \n",
       "0                            <NA>  "
      ]
     },
     "execution_count": 49,
     "metadata": {},
     "output_type": "execute_result"
    }
   ],
   "source": [
    "train_questions_only_df = train_df[train_df['answered_correctly']!=-1]\n",
    "train_questions_only_df.head(1)"
   ]
  },
  {
   "cell_type": "code",
   "execution_count": 50,
   "metadata": {
    "execution": {
     "iopub.execute_input": "2020-11-18T19:54:45.402801Z",
     "iopub.status.busy": "2020-11-18T19:54:45.401821Z",
     "iopub.status.idle": "2020-11-18T19:54:46.631171Z",
     "shell.execute_reply": "2020-11-18T19:54:46.630362Z"
    },
    "papermill": {
     "duration": 1.355241,
     "end_time": "2020-11-18T19:54:46.631306",
     "exception": false,
     "start_time": "2020-11-18T19:54:45.276065",
     "status": "completed"
    },
    "tags": []
   },
   "outputs": [
    {
     "data": {
      "text/html": [
       "<div>\n",
       "<style scoped>\n",
       "    .dataframe tbody tr th:only-of-type {\n",
       "        vertical-align: middle;\n",
       "    }\n",
       "\n",
       "    .dataframe tbody tr th {\n",
       "        vertical-align: top;\n",
       "    }\n",
       "\n",
       "    .dataframe thead th {\n",
       "        text-align: right;\n",
       "    }\n",
       "</style>\n",
       "<table border=\"1\" class=\"dataframe\">\n",
       "  <thead>\n",
       "    <tr style=\"text-align: right;\">\n",
       "      <th></th>\n",
       "      <th>row_id</th>\n",
       "      <th>timestamp</th>\n",
       "      <th>user_id</th>\n",
       "      <th>content_id</th>\n",
       "      <th>content_type_id</th>\n",
       "      <th>task_container_id</th>\n",
       "      <th>user_answer</th>\n",
       "      <th>answered_correctly</th>\n",
       "      <th>prior_question_elapsed_time</th>\n",
       "      <th>prior_question_had_explanation</th>\n",
       "      <th>part</th>\n",
       "    </tr>\n",
       "  </thead>\n",
       "  <tbody>\n",
       "    <tr>\n",
       "      <th>0</th>\n",
       "      <td>0</td>\n",
       "      <td>0</td>\n",
       "      <td>115</td>\n",
       "      <td>5692</td>\n",
       "      <td>0</td>\n",
       "      <td>1</td>\n",
       "      <td>3</td>\n",
       "      <td>1</td>\n",
       "      <td>NaN</td>\n",
       "      <td>&lt;NA&gt;</td>\n",
       "      <td>5</td>\n",
       "    </tr>\n",
       "  </tbody>\n",
       "</table>\n",
       "</div>"
      ],
      "text/plain": [
       "   row_id  timestamp  user_id  content_id  content_type_id  task_container_id  \\\n",
       "0       0          0      115        5692                0                  1   \n",
       "\n",
       "   user_answer  answered_correctly  prior_question_elapsed_time  \\\n",
       "0            3                   1                          NaN   \n",
       "\n",
       "   prior_question_had_explanation  part  \n",
       "0                            <NA>     5  "
      ]
     },
     "execution_count": 50,
     "metadata": {},
     "output_type": "execute_result"
    }
   ],
   "source": [
    "train_questions_only_df = pd.merge(train_questions_only_df, questions['part'], \n",
    "                                   left_on='content_id', right_index=True, how = 'left')\n",
    "train_questions_only_df.head(1)"
   ]
  },
  {
   "cell_type": "code",
   "execution_count": 51,
   "metadata": {
    "execution": {
     "iopub.execute_input": "2020-11-18T19:54:46.864388Z",
     "iopub.status.busy": "2020-11-18T19:54:46.863297Z",
     "iopub.status.idle": "2020-11-18T19:54:55.015468Z",
     "shell.execute_reply": "2020-11-18T19:54:55.016307Z"
    },
    "papermill": {
     "duration": 8.272243,
     "end_time": "2020-11-18T19:54:55.016498",
     "exception": false,
     "start_time": "2020-11-18T19:54:46.744255",
     "status": "completed"
    },
    "tags": []
   },
   "outputs": [
    {
     "data": {
      "text/html": [
       "<div>\n",
       "<style scoped>\n",
       "    .dataframe tbody tr th:only-of-type {\n",
       "        vertical-align: middle;\n",
       "    }\n",
       "\n",
       "    .dataframe tbody tr th {\n",
       "        vertical-align: top;\n",
       "    }\n",
       "\n",
       "    .dataframe thead th {\n",
       "        text-align: right;\n",
       "    }\n",
       "</style>\n",
       "<table border=\"1\" class=\"dataframe\">\n",
       "  <thead>\n",
       "    <tr style=\"text-align: right;\">\n",
       "      <th></th>\n",
       "      <th>mean_user_accuracy</th>\n",
       "      <th>questions_answered</th>\n",
       "      <th>std_user_accuracy</th>\n",
       "      <th>median_user_accuracy</th>\n",
       "      <th>skew_user_accuracy</th>\n",
       "    </tr>\n",
       "    <tr>\n",
       "      <th>user_id</th>\n",
       "      <th></th>\n",
       "      <th></th>\n",
       "      <th></th>\n",
       "      <th></th>\n",
       "      <th></th>\n",
       "    </tr>\n",
       "  </thead>\n",
       "  <tbody>\n",
       "    <tr>\n",
       "      <th>115</th>\n",
       "      <td>0.695652</td>\n",
       "      <td>46</td>\n",
       "      <td>0.465215</td>\n",
       "      <td>1.0</td>\n",
       "      <td>-0.879359</td>\n",
       "    </tr>\n",
       "    <tr>\n",
       "      <th>124</th>\n",
       "      <td>0.233333</td>\n",
       "      <td>30</td>\n",
       "      <td>0.430183</td>\n",
       "      <td>0.0</td>\n",
       "      <td>1.328338</td>\n",
       "    </tr>\n",
       "    <tr>\n",
       "      <th>2746</th>\n",
       "      <td>0.578947</td>\n",
       "      <td>19</td>\n",
       "      <td>0.507257</td>\n",
       "      <td>1.0</td>\n",
       "      <td>-0.347892</td>\n",
       "    </tr>\n",
       "    <tr>\n",
       "      <th>5382</th>\n",
       "      <td>0.672000</td>\n",
       "      <td>125</td>\n",
       "      <td>0.471374</td>\n",
       "      <td>1.0</td>\n",
       "      <td>-0.741648</td>\n",
       "    </tr>\n",
       "    <tr>\n",
       "      <th>8623</th>\n",
       "      <td>0.642202</td>\n",
       "      <td>109</td>\n",
       "      <td>0.481566</td>\n",
       "      <td>1.0</td>\n",
       "      <td>-0.601619</td>\n",
       "    </tr>\n",
       "    <tr>\n",
       "      <th>...</th>\n",
       "      <td>...</td>\n",
       "      <td>...</td>\n",
       "      <td>...</td>\n",
       "      <td>...</td>\n",
       "      <td>...</td>\n",
       "    </tr>\n",
       "    <tr>\n",
       "      <th>216740611</th>\n",
       "      <td>0.685714</td>\n",
       "      <td>210</td>\n",
       "      <td>0.465340</td>\n",
       "      <td>1.0</td>\n",
       "      <td>-0.805862</td>\n",
       "    </tr>\n",
       "    <tr>\n",
       "      <th>216741934</th>\n",
       "      <td>0.788462</td>\n",
       "      <td>104</td>\n",
       "      <td>0.410377</td>\n",
       "      <td>1.0</td>\n",
       "      <td>-1.433402</td>\n",
       "    </tr>\n",
       "    <tr>\n",
       "      <th>216743480</th>\n",
       "      <td>0.294118</td>\n",
       "      <td>17</td>\n",
       "      <td>0.469668</td>\n",
       "      <td>0.0</td>\n",
       "      <td>0.993609</td>\n",
       "    </tr>\n",
       "    <tr>\n",
       "      <th>216747710</th>\n",
       "      <td>0.480000</td>\n",
       "      <td>175</td>\n",
       "      <td>0.501033</td>\n",
       "      <td>0.0</td>\n",
       "      <td>0.080758</td>\n",
       "    </tr>\n",
       "    <tr>\n",
       "      <th>216747867</th>\n",
       "      <td>0.744071</td>\n",
       "      <td>1012</td>\n",
       "      <td>0.436598</td>\n",
       "      <td>1.0</td>\n",
       "      <td>-1.120273</td>\n",
       "    </tr>\n",
       "  </tbody>\n",
       "</table>\n",
       "<p>39491 rows × 5 columns</p>\n",
       "</div>"
      ],
      "text/plain": [
       "           mean_user_accuracy  questions_answered  std_user_accuracy  \\\n",
       "user_id                                                                \n",
       "115                  0.695652                  46           0.465215   \n",
       "124                  0.233333                  30           0.430183   \n",
       "2746                 0.578947                  19           0.507257   \n",
       "5382                 0.672000                 125           0.471374   \n",
       "8623                 0.642202                 109           0.481566   \n",
       "...                       ...                 ...                ...   \n",
       "216740611            0.685714                 210           0.465340   \n",
       "216741934            0.788462                 104           0.410377   \n",
       "216743480            0.294118                  17           0.469668   \n",
       "216747710            0.480000                 175           0.501033   \n",
       "216747867            0.744071                1012           0.436598   \n",
       "\n",
       "           median_user_accuracy  skew_user_accuracy  \n",
       "user_id                                              \n",
       "115                         1.0           -0.879359  \n",
       "124                         0.0            1.328338  \n",
       "2746                        1.0           -0.347892  \n",
       "5382                        1.0           -0.741648  \n",
       "8623                        1.0           -0.601619  \n",
       "...                         ...                 ...  \n",
       "216740611                   1.0           -0.805862  \n",
       "216741934                   1.0           -1.433402  \n",
       "216743480                   0.0            0.993609  \n",
       "216747710                   0.0            0.080758  \n",
       "216747867                   1.0           -1.120273  \n",
       "\n",
       "[39491 rows x 5 columns]"
      ]
     },
     "execution_count": 51,
     "metadata": {},
     "output_type": "execute_result"
    }
   ],
   "source": [
    "#removes rows that are lectures and .groupby the user_id\n",
    "grouped_by_user_df = train_questions_only_df.groupby('user_id')\n",
    "\n",
    "#getting the mean accuracy, question count of each user and other math stuff\n",
    "user_answers_df = grouped_by_user_df.agg({'answered_correctly': ['mean', 'count', 'std', 'median', 'skew']}).copy()\n",
    "user_answers_df.columns = [\n",
    "    'mean_user_accuracy', \n",
    "    'questions_answered', \n",
    "    'std_user_accuracy', \n",
    "    'median_user_accuracy', \n",
    "    'skew_user_accuracy'\n",
    "]\n",
    "\n",
    "user_answers_df"
   ]
  },
  {
   "cell_type": "code",
   "execution_count": 52,
   "metadata": {
    "execution": {
     "iopub.execute_input": "2020-11-18T19:54:55.250522Z",
     "iopub.status.busy": "2020-11-18T19:54:55.249697Z",
     "iopub.status.idle": "2020-11-18T19:54:59.358306Z",
     "shell.execute_reply": "2020-11-18T19:54:59.358982Z"
    },
    "papermill": {
     "duration": 4.229104,
     "end_time": "2020-11-18T19:54:59.359169",
     "exception": false,
     "start_time": "2020-11-18T19:54:55.130065",
     "status": "completed"
    },
    "tags": []
   },
   "outputs": [
    {
     "data": {
      "text/html": [
       "<div>\n",
       "<style scoped>\n",
       "    .dataframe tbody tr th:only-of-type {\n",
       "        vertical-align: middle;\n",
       "    }\n",
       "\n",
       "    .dataframe tbody tr th {\n",
       "        vertical-align: top;\n",
       "    }\n",
       "\n",
       "    .dataframe thead th {\n",
       "        text-align: right;\n",
       "    }\n",
       "</style>\n",
       "<table border=\"1\" class=\"dataframe\">\n",
       "  <thead>\n",
       "    <tr style=\"text-align: right;\">\n",
       "      <th></th>\n",
       "      <th>mean_accuracy</th>\n",
       "      <th>question_asked</th>\n",
       "      <th>std_accuracy</th>\n",
       "      <th>median_accuracy</th>\n",
       "      <th>skew_accuracy</th>\n",
       "    </tr>\n",
       "    <tr>\n",
       "      <th>content_id</th>\n",
       "      <th></th>\n",
       "      <th></th>\n",
       "      <th></th>\n",
       "      <th></th>\n",
       "      <th></th>\n",
       "    </tr>\n",
       "  </thead>\n",
       "  <tbody>\n",
       "    <tr>\n",
       "      <th>0</th>\n",
       "      <td>0.908828</td>\n",
       "      <td>691</td>\n",
       "      <td>0.288062</td>\n",
       "      <td>1.0</td>\n",
       "      <td>-2.846707</td>\n",
       "    </tr>\n",
       "    <tr>\n",
       "      <th>1</th>\n",
       "      <td>0.893939</td>\n",
       "      <td>726</td>\n",
       "      <td>0.308127</td>\n",
       "      <td>1.0</td>\n",
       "      <td>-2.564053</td>\n",
       "    </tr>\n",
       "    <tr>\n",
       "      <th>2</th>\n",
       "      <td>0.562319</td>\n",
       "      <td>4501</td>\n",
       "      <td>0.496156</td>\n",
       "      <td>1.0</td>\n",
       "      <td>-0.251321</td>\n",
       "    </tr>\n",
       "    <tr>\n",
       "      <th>3</th>\n",
       "      <td>0.780316</td>\n",
       "      <td>2276</td>\n",
       "      <td>0.414123</td>\n",
       "      <td>1.0</td>\n",
       "      <td>-1.354973</td>\n",
       "    </tr>\n",
       "    <tr>\n",
       "      <th>4</th>\n",
       "      <td>0.627973</td>\n",
       "      <td>3153</td>\n",
       "      <td>0.483422</td>\n",
       "      <td>1.0</td>\n",
       "      <td>-0.529784</td>\n",
       "    </tr>\n",
       "    <tr>\n",
       "      <th>...</th>\n",
       "      <td>...</td>\n",
       "      <td>...</td>\n",
       "      <td>...</td>\n",
       "      <td>...</td>\n",
       "      <td>...</td>\n",
       "    </tr>\n",
       "    <tr>\n",
       "      <th>13518</th>\n",
       "      <td>0.790698</td>\n",
       "      <td>86</td>\n",
       "      <td>0.409197</td>\n",
       "      <td>1.0</td>\n",
       "      <td>-1.454651</td>\n",
       "    </tr>\n",
       "    <tr>\n",
       "      <th>13519</th>\n",
       "      <td>0.581395</td>\n",
       "      <td>86</td>\n",
       "      <td>0.496224</td>\n",
       "      <td>1.0</td>\n",
       "      <td>-0.335870</td>\n",
       "    </tr>\n",
       "    <tr>\n",
       "      <th>13520</th>\n",
       "      <td>0.682927</td>\n",
       "      <td>82</td>\n",
       "      <td>0.468200</td>\n",
       "      <td>1.0</td>\n",
       "      <td>-0.800940</td>\n",
       "    </tr>\n",
       "    <tr>\n",
       "      <th>13521</th>\n",
       "      <td>0.781609</td>\n",
       "      <td>87</td>\n",
       "      <td>0.415549</td>\n",
       "      <td>1.0</td>\n",
       "      <td>-1.387250</td>\n",
       "    </tr>\n",
       "    <tr>\n",
       "      <th>13522</th>\n",
       "      <td>0.895349</td>\n",
       "      <td>86</td>\n",
       "      <td>0.307899</td>\n",
       "      <td>1.0</td>\n",
       "      <td>-2.629188</td>\n",
       "    </tr>\n",
       "  </tbody>\n",
       "</table>\n",
       "<p>13500 rows × 5 columns</p>\n",
       "</div>"
      ],
      "text/plain": [
       "            mean_accuracy  question_asked  std_accuracy  median_accuracy  \\\n",
       "content_id                                                                 \n",
       "0                0.908828             691      0.288062              1.0   \n",
       "1                0.893939             726      0.308127              1.0   \n",
       "2                0.562319            4501      0.496156              1.0   \n",
       "3                0.780316            2276      0.414123              1.0   \n",
       "4                0.627973            3153      0.483422              1.0   \n",
       "...                   ...             ...           ...              ...   \n",
       "13518            0.790698              86      0.409197              1.0   \n",
       "13519            0.581395              86      0.496224              1.0   \n",
       "13520            0.682927              82      0.468200              1.0   \n",
       "13521            0.781609              87      0.415549              1.0   \n",
       "13522            0.895349              86      0.307899              1.0   \n",
       "\n",
       "            skew_accuracy  \n",
       "content_id                 \n",
       "0               -2.846707  \n",
       "1               -2.564053  \n",
       "2               -0.251321  \n",
       "3               -1.354973  \n",
       "4               -0.529784  \n",
       "...                   ...  \n",
       "13518           -1.454651  \n",
       "13519           -0.335870  \n",
       "13520           -0.800940  \n",
       "13521           -1.387250  \n",
       "13522           -2.629188  \n",
       "\n",
       "[13500 rows x 5 columns]"
      ]
     },
     "execution_count": 52,
     "metadata": {},
     "output_type": "execute_result"
    }
   ],
   "source": [
    "#grouping by content_id\n",
    "grouped_by_content_df = train_questions_only_df.groupby('content_id')\n",
    "\n",
    "#getting mean count and other stuff for each content_id\n",
    "content_answers_df = grouped_by_content_df.agg({'answered_correctly': ['mean', 'count', 'std', 'median', 'skew']}).copy()\n",
    "content_answers_df.columns = [\n",
    "    'mean_accuracy', \n",
    "    'question_asked', \n",
    "    'std_accuracy', \n",
    "    'median_accuracy', \n",
    "    'skew_accuracy'\n",
    "]\n",
    "\n",
    "content_answers_df"
   ]
  },
  {
   "cell_type": "code",
   "execution_count": 53,
   "metadata": {
    "execution": {
     "iopub.execute_input": "2020-11-18T19:54:59.592800Z",
     "iopub.status.busy": "2020-11-18T19:54:59.591550Z",
     "iopub.status.idle": "2020-11-18T19:55:00.762225Z",
     "shell.execute_reply": "2020-11-18T19:55:00.761415Z"
    },
    "papermill": {
     "duration": 1.290663,
     "end_time": "2020-11-18T19:55:00.762370",
     "exception": false,
     "start_time": "2020-11-18T19:54:59.471707",
     "status": "completed"
    },
    "tags": []
   },
   "outputs": [
    {
     "data": {
      "text/html": [
       "<div>\n",
       "<style scoped>\n",
       "    .dataframe tbody tr th:only-of-type {\n",
       "        vertical-align: middle;\n",
       "    }\n",
       "\n",
       "    .dataframe tbody tr th {\n",
       "        vertical-align: top;\n",
       "    }\n",
       "\n",
       "    .dataframe thead th {\n",
       "        text-align: right;\n",
       "    }\n",
       "</style>\n",
       "<table border=\"1\" class=\"dataframe\">\n",
       "  <thead>\n",
       "    <tr style=\"text-align: right;\">\n",
       "      <th></th>\n",
       "      <th>part_mean_accuracy</th>\n",
       "      <th>part_questions_answered</th>\n",
       "      <th>part_std_user_accuracy</th>\n",
       "      <th>part_skew_user_accuracy</th>\n",
       "    </tr>\n",
       "    <tr>\n",
       "      <th>part</th>\n",
       "      <th></th>\n",
       "      <th></th>\n",
       "      <th></th>\n",
       "      <th></th>\n",
       "    </tr>\n",
       "  </thead>\n",
       "  <tbody>\n",
       "    <tr>\n",
       "      <th>1</th>\n",
       "      <td>0.746104</td>\n",
       "      <td>738264</td>\n",
       "      <td>0.435239</td>\n",
       "      <td>-1.130896</td>\n",
       "    </tr>\n",
       "    <tr>\n",
       "      <th>2</th>\n",
       "      <td>0.711100</td>\n",
       "      <td>1862272</td>\n",
       "      <td>0.453251</td>\n",
       "      <td>-0.931494</td>\n",
       "    </tr>\n",
       "    <tr>\n",
       "      <th>3</th>\n",
       "      <td>0.704608</td>\n",
       "      <td>849569</td>\n",
       "      <td>0.456219</td>\n",
       "      <td>-0.896974</td>\n",
       "    </tr>\n",
       "    <tr>\n",
       "      <th>4</th>\n",
       "      <td>0.634820</td>\n",
       "      <td>799656</td>\n",
       "      <td>0.481481</td>\n",
       "      <td>-0.560026</td>\n",
       "    </tr>\n",
       "    <tr>\n",
       "      <th>5</th>\n",
       "      <td>0.609764</td>\n",
       "      <td>4005773</td>\n",
       "      <td>0.487803</td>\n",
       "      <td>-0.450033</td>\n",
       "    </tr>\n",
       "    <tr>\n",
       "      <th>6</th>\n",
       "      <td>0.668957</td>\n",
       "      <td>1048356</td>\n",
       "      <td>0.470589</td>\n",
       "      <td>-0.718067</td>\n",
       "    </tr>\n",
       "    <tr>\n",
       "      <th>7</th>\n",
       "      <td>0.663473</td>\n",
       "      <td>500714</td>\n",
       "      <td>0.472522</td>\n",
       "      <td>-0.691918</td>\n",
       "    </tr>\n",
       "  </tbody>\n",
       "</table>\n",
       "</div>"
      ],
      "text/plain": [
       "      part_mean_accuracy  part_questions_answered  part_std_user_accuracy  \\\n",
       "part                                                                        \n",
       "1               0.746104                   738264                0.435239   \n",
       "2               0.711100                  1862272                0.453251   \n",
       "3               0.704608                   849569                0.456219   \n",
       "4               0.634820                   799656                0.481481   \n",
       "5               0.609764                  4005773                0.487803   \n",
       "6               0.668957                  1048356                0.470589   \n",
       "7               0.663473                   500714                0.472522   \n",
       "\n",
       "      part_skew_user_accuracy  \n",
       "part                           \n",
       "1                   -1.130896  \n",
       "2                   -0.931494  \n",
       "3                   -0.896974  \n",
       "4                   -0.560026  \n",
       "5                   -0.450033  \n",
       "6                   -0.718067  \n",
       "7                   -0.691918  "
      ]
     },
     "execution_count": 53,
     "metadata": {},
     "output_type": "execute_result"
    }
   ],
   "source": [
    "grouped_by_part_df = train_questions_only_df.groupby('part')\n",
    "\n",
    "part_answers_df = grouped_by_part_df.agg({'answered_correctly': ['mean', 'count', 'std', 'skew']}).copy()\n",
    "part_answers_df.columns = [\n",
    "    'part_mean_accuracy', \n",
    "    'part_questions_answered', \n",
    "    'part_std_user_accuracy',  \n",
    "    'part_skew_user_accuracy'\n",
    "]\n",
    "\n",
    "part_answers_df"
   ]
  },
  {
   "cell_type": "code",
   "execution_count": 54,
   "metadata": {
    "execution": {
     "iopub.execute_input": "2020-11-18T19:55:00.996240Z",
     "iopub.status.busy": "2020-11-18T19:55:00.995074Z",
     "iopub.status.idle": "2020-11-18T19:55:00.998035Z",
     "shell.execute_reply": "2020-11-18T19:55:00.997346Z"
    },
    "papermill": {
     "duration": 0.122727,
     "end_time": "2020-11-18T19:55:00.998164",
     "exception": false,
     "start_time": "2020-11-18T19:55:00.875437",
     "status": "completed"
    },
    "tags": []
   },
   "outputs": [],
   "source": [
    "features = [\n",
    "    'mean_user_accuracy', \n",
    "    'questions_answered',\n",
    "    'std_user_accuracy', \n",
    "    'median_user_accuracy',\n",
    "    'skew_user_accuracy',\n",
    "    'mean_accuracy', \n",
    "    'question_asked',\n",
    "    'std_accuracy', \n",
    "    'median_accuracy',\n",
    "    'prior_question_elapsed_time', \n",
    "    'prior_question_had_explanation',\n",
    "    'skew_accuracy',\n",
    "    'part',\n",
    "    'part_mean_accuracy', \n",
    "    'part_questions_answered', \n",
    "    'part_std_user_accuracy',  \n",
    "    'part_skew_user_accuracy'\n",
    "]\n",
    "target = 'answered_correctly'"
   ]
  },
  {
   "cell_type": "markdown",
   "metadata": {
    "papermill": {
     "duration": 0.114061,
     "end_time": "2020-11-18T19:55:01.226790",
     "exception": false,
     "start_time": "2020-11-18T19:55:01.112729",
     "status": "completed"
    },
    "tags": []
   },
   "source": [
    "### Feature Selection"
   ]
  },
  {
   "cell_type": "code",
   "execution_count": 55,
   "metadata": {
    "execution": {
     "iopub.execute_input": "2020-11-18T19:55:01.467484Z",
     "iopub.status.busy": "2020-11-18T19:55:01.465976Z",
     "iopub.status.idle": "2020-11-18T19:55:13.355892Z",
     "shell.execute_reply": "2020-11-18T19:55:13.355206Z"
    },
    "papermill": {
     "duration": 12.014742,
     "end_time": "2020-11-18T19:55:13.356034",
     "exception": false,
     "start_time": "2020-11-18T19:55:01.341292",
     "status": "completed"
    },
    "tags": []
   },
   "outputs": [
    {
     "data": {
      "text/html": [
       "<div>\n",
       "<style scoped>\n",
       "    .dataframe tbody tr th:only-of-type {\n",
       "        vertical-align: middle;\n",
       "    }\n",
       "\n",
       "    .dataframe tbody tr th {\n",
       "        vertical-align: top;\n",
       "    }\n",
       "\n",
       "    .dataframe thead th {\n",
       "        text-align: right;\n",
       "    }\n",
       "</style>\n",
       "<table border=\"1\" class=\"dataframe\">\n",
       "  <thead>\n",
       "    <tr style=\"text-align: right;\">\n",
       "      <th></th>\n",
       "      <th>mean_user_accuracy</th>\n",
       "      <th>questions_answered</th>\n",
       "      <th>std_user_accuracy</th>\n",
       "      <th>median_user_accuracy</th>\n",
       "      <th>skew_user_accuracy</th>\n",
       "      <th>mean_accuracy</th>\n",
       "      <th>question_asked</th>\n",
       "      <th>std_accuracy</th>\n",
       "      <th>median_accuracy</th>\n",
       "      <th>prior_question_elapsed_time</th>\n",
       "      <th>prior_question_had_explanation</th>\n",
       "      <th>skew_accuracy</th>\n",
       "      <th>part</th>\n",
       "      <th>part_mean_accuracy</th>\n",
       "      <th>part_questions_answered</th>\n",
       "      <th>part_std_user_accuracy</th>\n",
       "      <th>part_skew_user_accuracy</th>\n",
       "      <th>answered_correctly</th>\n",
       "    </tr>\n",
       "  </thead>\n",
       "  <tbody>\n",
       "    <tr>\n",
       "      <th>0</th>\n",
       "      <td>0.695652</td>\n",
       "      <td>46</td>\n",
       "      <td>0.465215</td>\n",
       "      <td>1.0</td>\n",
       "      <td>-0.879359</td>\n",
       "      <td>0.741545</td>\n",
       "      <td>3548</td>\n",
       "      <td>0.437847</td>\n",
       "      <td>1.0</td>\n",
       "      <td>0.5</td>\n",
       "      <td>False</td>\n",
       "      <td>-1.103950</td>\n",
       "      <td>5</td>\n",
       "      <td>0.609764</td>\n",
       "      <td>4005773</td>\n",
       "      <td>0.487803</td>\n",
       "      <td>-0.450033</td>\n",
       "      <td>1</td>\n",
       "    </tr>\n",
       "    <tr>\n",
       "      <th>1</th>\n",
       "      <td>0.695652</td>\n",
       "      <td>46</td>\n",
       "      <td>0.465215</td>\n",
       "      <td>1.0</td>\n",
       "      <td>-0.879359</td>\n",
       "      <td>0.735690</td>\n",
       "      <td>2376</td>\n",
       "      <td>0.441058</td>\n",
       "      <td>1.0</td>\n",
       "      <td>37000.0</td>\n",
       "      <td>False</td>\n",
       "      <td>-1.069650</td>\n",
       "      <td>5</td>\n",
       "      <td>0.609764</td>\n",
       "      <td>4005773</td>\n",
       "      <td>0.487803</td>\n",
       "      <td>-0.450033</td>\n",
       "      <td>1</td>\n",
       "    </tr>\n",
       "    <tr>\n",
       "      <th>2</th>\n",
       "      <td>0.695652</td>\n",
       "      <td>46</td>\n",
       "      <td>0.465215</td>\n",
       "      <td>1.0</td>\n",
       "      <td>-0.879359</td>\n",
       "      <td>0.973877</td>\n",
       "      <td>1914</td>\n",
       "      <td>0.159544</td>\n",
       "      <td>1.0</td>\n",
       "      <td>55000.0</td>\n",
       "      <td>False</td>\n",
       "      <td>-5.946616</td>\n",
       "      <td>1</td>\n",
       "      <td>0.746104</td>\n",
       "      <td>738264</td>\n",
       "      <td>0.435239</td>\n",
       "      <td>-1.130896</td>\n",
       "      <td>1</td>\n",
       "    </tr>\n",
       "    <tr>\n",
       "      <th>3</th>\n",
       "      <td>0.695652</td>\n",
       "      <td>46</td>\n",
       "      <td>0.465215</td>\n",
       "      <td>1.0</td>\n",
       "      <td>-0.879359</td>\n",
       "      <td>0.955545</td>\n",
       "      <td>2137</td>\n",
       "      <td>0.206152</td>\n",
       "      <td>1.0</td>\n",
       "      <td>19000.0</td>\n",
       "      <td>False</td>\n",
       "      <td>-4.423655</td>\n",
       "      <td>1</td>\n",
       "      <td>0.746104</td>\n",
       "      <td>738264</td>\n",
       "      <td>0.435239</td>\n",
       "      <td>-1.130896</td>\n",
       "      <td>1</td>\n",
       "    </tr>\n",
       "    <tr>\n",
       "      <th>4</th>\n",
       "      <td>0.695652</td>\n",
       "      <td>46</td>\n",
       "      <td>0.465215</td>\n",
       "      <td>1.0</td>\n",
       "      <td>-0.879359</td>\n",
       "      <td>0.952609</td>\n",
       "      <td>1878</td>\n",
       "      <td>0.212530</td>\n",
       "      <td>1.0</td>\n",
       "      <td>11000.0</td>\n",
       "      <td>False</td>\n",
       "      <td>-4.263790</td>\n",
       "      <td>1</td>\n",
       "      <td>0.746104</td>\n",
       "      <td>738264</td>\n",
       "      <td>0.435239</td>\n",
       "      <td>-1.130896</td>\n",
       "      <td>1</td>\n",
       "    </tr>\n",
       "    <tr>\n",
       "      <th>...</th>\n",
       "      <td>...</td>\n",
       "      <td>...</td>\n",
       "      <td>...</td>\n",
       "      <td>...</td>\n",
       "      <td>...</td>\n",
       "      <td>...</td>\n",
       "      <td>...</td>\n",
       "      <td>...</td>\n",
       "      <td>...</td>\n",
       "      <td>...</td>\n",
       "      <td>...</td>\n",
       "      <td>...</td>\n",
       "      <td>...</td>\n",
       "      <td>...</td>\n",
       "      <td>...</td>\n",
       "      <td>...</td>\n",
       "      <td>...</td>\n",
       "      <td>...</td>\n",
       "    </tr>\n",
       "    <tr>\n",
       "      <th>9804599</th>\n",
       "      <td>0.744071</td>\n",
       "      <td>1012</td>\n",
       "      <td>0.436598</td>\n",
       "      <td>1.0</td>\n",
       "      <td>-1.120273</td>\n",
       "      <td>0.608974</td>\n",
       "      <td>624</td>\n",
       "      <td>0.488372</td>\n",
       "      <td>1.0</td>\n",
       "      <td>23000.0</td>\n",
       "      <td>True</td>\n",
       "      <td>-0.447711</td>\n",
       "      <td>5</td>\n",
       "      <td>0.609764</td>\n",
       "      <td>4005773</td>\n",
       "      <td>0.487803</td>\n",
       "      <td>-0.450033</td>\n",
       "      <td>1</td>\n",
       "    </tr>\n",
       "    <tr>\n",
       "      <th>9804600</th>\n",
       "      <td>0.744071</td>\n",
       "      <td>1012</td>\n",
       "      <td>0.436598</td>\n",
       "      <td>1.0</td>\n",
       "      <td>-1.120273</td>\n",
       "      <td>0.454511</td>\n",
       "      <td>5287</td>\n",
       "      <td>0.497974</td>\n",
       "      <td>0.0</td>\n",
       "      <td>13000.0</td>\n",
       "      <td>True</td>\n",
       "      <td>0.182765</td>\n",
       "      <td>5</td>\n",
       "      <td>0.609764</td>\n",
       "      <td>4005773</td>\n",
       "      <td>0.487803</td>\n",
       "      <td>-0.450033</td>\n",
       "      <td>0</td>\n",
       "    </tr>\n",
       "    <tr>\n",
       "      <th>9804601</th>\n",
       "      <td>0.744071</td>\n",
       "      <td>1012</td>\n",
       "      <td>0.436598</td>\n",
       "      <td>1.0</td>\n",
       "      <td>-1.120273</td>\n",
       "      <td>0.504699</td>\n",
       "      <td>1809</td>\n",
       "      <td>0.500116</td>\n",
       "      <td>1.0</td>\n",
       "      <td>66000.0</td>\n",
       "      <td>True</td>\n",
       "      <td>-0.018811</td>\n",
       "      <td>5</td>\n",
       "      <td>0.609764</td>\n",
       "      <td>4005773</td>\n",
       "      <td>0.487803</td>\n",
       "      <td>-0.450033</td>\n",
       "      <td>0</td>\n",
       "    </tr>\n",
       "    <tr>\n",
       "      <th>9804602</th>\n",
       "      <td>0.744071</td>\n",
       "      <td>1012</td>\n",
       "      <td>0.436598</td>\n",
       "      <td>1.0</td>\n",
       "      <td>-1.120273</td>\n",
       "      <td>0.541375</td>\n",
       "      <td>3855</td>\n",
       "      <td>0.498350</td>\n",
       "      <td>1.0</td>\n",
       "      <td>37000.0</td>\n",
       "      <td>True</td>\n",
       "      <td>-0.166134</td>\n",
       "      <td>5</td>\n",
       "      <td>0.609764</td>\n",
       "      <td>4005773</td>\n",
       "      <td>0.487803</td>\n",
       "      <td>-0.450033</td>\n",
       "      <td>1</td>\n",
       "    </tr>\n",
       "    <tr>\n",
       "      <th>9804603</th>\n",
       "      <td>0.744071</td>\n",
       "      <td>1012</td>\n",
       "      <td>0.436598</td>\n",
       "      <td>1.0</td>\n",
       "      <td>-1.120273</td>\n",
       "      <td>0.810757</td>\n",
       "      <td>502</td>\n",
       "      <td>0.392092</td>\n",
       "      <td>1.0</td>\n",
       "      <td>16000.0</td>\n",
       "      <td>True</td>\n",
       "      <td>-1.591462</td>\n",
       "      <td>5</td>\n",
       "      <td>0.609764</td>\n",
       "      <td>4005773</td>\n",
       "      <td>0.487803</td>\n",
       "      <td>-0.450033</td>\n",
       "      <td>1</td>\n",
       "    </tr>\n",
       "  </tbody>\n",
       "</table>\n",
       "<p>9804604 rows × 18 columns</p>\n",
       "</div>"
      ],
      "text/plain": [
       "         mean_user_accuracy  questions_answered  std_user_accuracy  \\\n",
       "0                  0.695652                  46           0.465215   \n",
       "1                  0.695652                  46           0.465215   \n",
       "2                  0.695652                  46           0.465215   \n",
       "3                  0.695652                  46           0.465215   \n",
       "4                  0.695652                  46           0.465215   \n",
       "...                     ...                 ...                ...   \n",
       "9804599            0.744071                1012           0.436598   \n",
       "9804600            0.744071                1012           0.436598   \n",
       "9804601            0.744071                1012           0.436598   \n",
       "9804602            0.744071                1012           0.436598   \n",
       "9804603            0.744071                1012           0.436598   \n",
       "\n",
       "         median_user_accuracy  skew_user_accuracy  mean_accuracy  \\\n",
       "0                         1.0           -0.879359       0.741545   \n",
       "1                         1.0           -0.879359       0.735690   \n",
       "2                         1.0           -0.879359       0.973877   \n",
       "3                         1.0           -0.879359       0.955545   \n",
       "4                         1.0           -0.879359       0.952609   \n",
       "...                       ...                 ...            ...   \n",
       "9804599                   1.0           -1.120273       0.608974   \n",
       "9804600                   1.0           -1.120273       0.454511   \n",
       "9804601                   1.0           -1.120273       0.504699   \n",
       "9804602                   1.0           -1.120273       0.541375   \n",
       "9804603                   1.0           -1.120273       0.810757   \n",
       "\n",
       "         question_asked  std_accuracy  median_accuracy  \\\n",
       "0                  3548      0.437847              1.0   \n",
       "1                  2376      0.441058              1.0   \n",
       "2                  1914      0.159544              1.0   \n",
       "3                  2137      0.206152              1.0   \n",
       "4                  1878      0.212530              1.0   \n",
       "...                 ...           ...              ...   \n",
       "9804599             624      0.488372              1.0   \n",
       "9804600            5287      0.497974              0.0   \n",
       "9804601            1809      0.500116              1.0   \n",
       "9804602            3855      0.498350              1.0   \n",
       "9804603             502      0.392092              1.0   \n",
       "\n",
       "         prior_question_elapsed_time  prior_question_had_explanation  \\\n",
       "0                                0.5                           False   \n",
       "1                            37000.0                           False   \n",
       "2                            55000.0                           False   \n",
       "3                            19000.0                           False   \n",
       "4                            11000.0                           False   \n",
       "...                              ...                             ...   \n",
       "9804599                      23000.0                            True   \n",
       "9804600                      13000.0                            True   \n",
       "9804601                      66000.0                            True   \n",
       "9804602                      37000.0                            True   \n",
       "9804603                      16000.0                            True   \n",
       "\n",
       "         skew_accuracy  part  part_mean_accuracy  part_questions_answered  \\\n",
       "0            -1.103950     5            0.609764                  4005773   \n",
       "1            -1.069650     5            0.609764                  4005773   \n",
       "2            -5.946616     1            0.746104                   738264   \n",
       "3            -4.423655     1            0.746104                   738264   \n",
       "4            -4.263790     1            0.746104                   738264   \n",
       "...                ...   ...                 ...                      ...   \n",
       "9804599      -0.447711     5            0.609764                  4005773   \n",
       "9804600       0.182765     5            0.609764                  4005773   \n",
       "9804601      -0.018811     5            0.609764                  4005773   \n",
       "9804602      -0.166134     5            0.609764                  4005773   \n",
       "9804603      -1.591462     5            0.609764                  4005773   \n",
       "\n",
       "         part_std_user_accuracy  part_skew_user_accuracy  answered_correctly  \n",
       "0                      0.487803                -0.450033                   1  \n",
       "1                      0.487803                -0.450033                   1  \n",
       "2                      0.435239                -1.130896                   1  \n",
       "3                      0.435239                -1.130896                   1  \n",
       "4                      0.435239                -1.130896                   1  \n",
       "...                         ...                      ...                 ...  \n",
       "9804599                0.487803                -0.450033                   1  \n",
       "9804600                0.487803                -0.450033                   0  \n",
       "9804601                0.487803                -0.450033                   0  \n",
       "9804602                0.487803                -0.450033                   1  \n",
       "9804603                0.487803                -0.450033                   1  \n",
       "\n",
       "[9804604 rows x 18 columns]"
      ]
     },
     "execution_count": 55,
     "metadata": {},
     "output_type": "execute_result"
    }
   ],
   "source": [
    "train_df = train_df[train_df[target] != -1]\n",
    "\n",
    "train_df = pd.merge(train_df, questions['part'], \n",
    "                    left_on='content_id', right_index=True, how = 'left')\n",
    "\n",
    "train_df = train_df.merge(user_answers_df, how='left', on='user_id')\n",
    "train_df = train_df.merge(content_answers_df, how='left', on='content_id')\n",
    "train_df = train_df.merge(part_answers_df, how='left', left_on='part', right_index=True)\n",
    "\n",
    "train_df['prior_question_had_explanation'] = train_df['prior_question_had_explanation'].fillna(value=False).astype(bool)\n",
    "train_df = train_df.fillna(value=0.5)\n",
    "\n",
    "train_df = train_df[features + [target]]\n",
    "train_df = train_df.replace([np.inf, -np.inf], np.nan)\n",
    "train_df = train_df.fillna(0.5)\n",
    "\n",
    "train_df"
   ]
  },
  {
   "cell_type": "markdown",
   "metadata": {
    "papermill": {
     "duration": 0.115269,
     "end_time": "2020-11-18T19:55:13.594992",
     "exception": false,
     "start_time": "2020-11-18T19:55:13.479723",
     "status": "completed"
    },
    "tags": []
   },
   "source": [
    "# Maybe creating a loop to see if user has seen question before"
   ]
  },
  {
   "cell_type": "markdown",
   "metadata": {
    "papermill": {
     "duration": 0.114429,
     "end_time": "2020-11-18T19:55:13.826311",
     "exception": false,
     "start_time": "2020-11-18T19:55:13.711882",
     "status": "completed"
    },
    "tags": []
   },
   "source": [
    "This is an idea I had to create some sort of loop that checks if the user has seen the question before. It takes far too long to run, and I might have to try a different mehtod than pandas to speed up the process. \n",
    "\n"
   ]
  },
  {
   "cell_type": "code",
   "execution_count": 56,
   "metadata": {
    "execution": {
     "iopub.execute_input": "2020-11-18T19:55:14.063260Z",
     "iopub.status.busy": "2020-11-18T19:55:14.062116Z",
     "iopub.status.idle": "2020-11-18T19:55:14.065392Z",
     "shell.execute_reply": "2020-11-18T19:55:14.064595Z"
    },
    "papermill": {
     "duration": 0.122522,
     "end_time": "2020-11-18T19:55:14.065529",
     "exception": false,
     "start_time": "2020-11-18T19:55:13.943007",
     "status": "completed"
    },
    "tags": []
   },
   "outputs": [],
   "source": [
    "from scipy.sparse import csc_matrix"
   ]
  },
  {
   "cell_type": "code",
   "execution_count": 57,
   "metadata": {
    "execution": {
     "iopub.execute_input": "2020-11-18T19:55:14.308309Z",
     "iopub.status.busy": "2020-11-18T19:55:14.307516Z",
     "iopub.status.idle": "2020-11-18T19:55:14.312818Z",
     "shell.execute_reply": "2020-11-18T19:55:14.312121Z"
    },
    "papermill": {
     "duration": 0.132609,
     "end_time": "2020-11-18T19:55:14.312945",
     "exception": false,
     "start_time": "2020-11-18T19:55:14.180336",
     "status": "completed"
    },
    "tags": []
   },
   "outputs": [],
   "source": [
    "seen_before_df_keys=csc_matrix((0, 0), dtype=np.int8).toarray()\n",
    "seen_before_df=csc_matrix((0, 13523), dtype=np.int8).toarray()\n",
    "clean_row=csc_matrix((1, 13523), dtype=np.int8).toarray()"
   ]
  },
  {
   "cell_type": "code",
   "execution_count": 58,
   "metadata": {
    "execution": {
     "iopub.execute_input": "2020-11-18T19:55:14.559426Z",
     "iopub.status.busy": "2020-11-18T19:55:14.554046Z",
     "iopub.status.idle": "2020-11-18T19:55:14.562949Z",
     "shell.execute_reply": "2020-11-18T19:55:14.562099Z"
    },
    "papermill": {
     "duration": 0.134046,
     "end_time": "2020-11-18T19:55:14.563085",
     "exception": false,
     "start_time": "2020-11-18T19:55:14.429039",
     "status": "completed"
    },
    "tags": []
   },
   "outputs": [],
   "source": [
    "def seen_question_before(dataset, seen_before_df_keys, seen_before_df, clean_row):\n",
    "    \n",
    "    dataset['seen_q_before']=0\n",
    "\n",
    "    for i in dataset.index:\n",
    "        x = dataset.loc[i] \n",
    "        if np.any(seen_before_df_keys == x.user_id)==True:\n",
    "            dataset.at[i, 'seen_q_before'] = seen_before_df[(np.where(seen_before_df_keys == x.user_id)[0][0]),(x.content_id)]\n",
    "            seen_before_df[(np.where(seen_before_df_keys == x.user_id)[0][0]),(x.content_id)]+=1\n",
    "\n",
    "        elif np.any(seen_before_df_keys == x.user_id)==False:\n",
    "            seen_before_df_keys = np.append(seen_before_df_keys, x.user_id)\n",
    "            seen_before_df = np.append(seen_before_df, clean_row, axis=0)\n",
    "\n",
    "            dataset.at[i, 'seen_q_before'] = seen_before_df[(np.where(seen_before_df_keys == x.user_id)[0][0]),(x.content_id)]\n",
    "            seen_before_df[(np.where(seen_before_df_keys == x.user_id)[0][0]),(x.content_id)]+=1\n",
    "    \n",
    "    return (dataset, seen_before_df_keys, seen_before_df)\n",
    "        \n",
    " "
   ]
  },
  {
   "cell_type": "code",
   "execution_count": 59,
   "metadata": {
    "execution": {
     "iopub.execute_input": "2020-11-18T19:55:14.807017Z",
     "iopub.status.busy": "2020-11-18T19:55:14.805826Z",
     "iopub.status.idle": "2020-11-18T19:55:14.852071Z",
     "shell.execute_reply": "2020-11-18T19:55:14.851426Z"
    },
    "papermill": {
     "duration": 0.17308,
     "end_time": "2020-11-18T19:55:14.852222",
     "exception": false,
     "start_time": "2020-11-18T19:55:14.679142",
     "status": "completed"
    },
    "tags": []
   },
   "outputs": [],
   "source": [
    "et, seen_before_df_keys, seen_before_df = seen_question_before(et, seen_before_df_keys, \n",
    "                                                                          seen_before_df, clean_row)"
   ]
  }
 ],
 "metadata": {
  "kernelspec": {
   "display_name": "Python 3",
   "language": "python",
   "name": "python3"
  },
  "language_info": {
   "codemirror_mode": {
    "name": "ipython",
    "version": 3
   },
   "file_extension": ".py",
   "mimetype": "text/x-python",
   "name": "python",
   "nbconvert_exporter": "python",
   "pygments_lexer": "ipython3",
   "version": "3.7.6"
  },
  "papermill": {
   "duration": 117.126676,
   "end_time": "2020-11-18T19:55:15.076213",
   "environment_variables": {},
   "exception": null,
   "input_path": "__notebook__.ipynb",
   "output_path": "__notebook__.ipynb",
   "parameters": {},
   "start_time": "2020-11-18T19:53:17.949537",
   "version": "2.1.0"
  }
 },
 "nbformat": 4,
 "nbformat_minor": 4
}
