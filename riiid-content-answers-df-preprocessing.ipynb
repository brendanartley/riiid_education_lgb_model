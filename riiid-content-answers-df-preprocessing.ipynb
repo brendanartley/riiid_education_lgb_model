{
 "cells": [
  {
   "cell_type": "markdown",
   "metadata": {
    "papermill": {
     "duration": 0.013698,
     "end_time": "2020-12-31T03:21:55.174142",
     "exception": false,
     "start_time": "2020-12-31T03:21:55.160444",
     "status": "completed"
    },
    "tags": []
   },
   "source": [
    "# Opening Notes\n",
    "\n",
    "This notebook is one of the key pieces of the LGB model I created. By creating this dataframe in a seperate notebook I was able to create some pretty awesome features and stay within the CPU limits of the kaggle notebook environment. "
   ]
  },
  {
   "cell_type": "code",
   "execution_count": 1,
   "metadata": {
    "_cell_guid": "79c7e3d0-c299-4dcb-8224-4455121ee9b0",
    "_uuid": "d629ff2d2480ee46fbb7e2d37f6b5fab8052498a",
    "execution": {
     "iopub.execute_input": "2020-12-31T03:21:55.200693Z",
     "iopub.status.busy": "2020-12-31T03:21:55.199918Z",
     "iopub.status.idle": "2020-12-31T03:21:55.204862Z",
     "shell.execute_reply": "2020-12-31T03:21:55.204182Z"
    },
    "papermill": {
     "duration": 0.021516,
     "end_time": "2020-12-31T03:21:55.204998",
     "exception": false,
     "start_time": "2020-12-31T03:21:55.183482",
     "status": "completed"
    },
    "tags": []
   },
   "outputs": [],
   "source": [
    "import numpy as np\n",
    "import pandas as pd\n",
    "\n",
    "from tqdm.notebook import tqdm"
   ]
  },
  {
   "cell_type": "markdown",
   "metadata": {
    "papermill": {
     "duration": 0.008863,
     "end_time": "2020-12-31T03:21:55.223481",
     "exception": false,
     "start_time": "2020-12-31T03:21:55.214618",
     "status": "completed"
    },
    "tags": []
   },
   "source": [
    "The final import in the following kernel was super awesome. I knew there was some way the tags were connected together, and the I found Alex Bader's method of clustering these tags to be the best! His notebook taught me about an awesome framework called networkx which provided some awesome visualizations of the connections between tags. Please check out his notebook at this link -> [Link](https://www.kaggle.com/spacelx/2020-r3id-clustering-question-tags)"
   ]
  },
  {
   "cell_type": "code",
   "execution_count": 2,
   "metadata": {
    "execution": {
     "iopub.execute_input": "2020-12-31T03:21:55.252490Z",
     "iopub.status.busy": "2020-12-31T03:21:55.251806Z",
     "iopub.status.idle": "2020-12-31T03:21:55.308570Z",
     "shell.execute_reply": "2020-12-31T03:21:55.307504Z"
    },
    "papermill": {
     "duration": 0.076253,
     "end_time": "2020-12-31T03:21:55.308931",
     "exception": false,
     "start_time": "2020-12-31T03:21:55.232678",
     "status": "completed"
    },
    "tags": []
   },
   "outputs": [
    {
     "name": "stdout",
     "output_type": "stream",
     "text": [
      "CPU times: user 18 ms, sys: 4.08 ms, total: 22.1 ms\n",
      "Wall time: 54.3 ms\n"
     ]
    }
   ],
   "source": [
    "%%time\n",
    "\n",
    "used_data_types_dict = {\n",
    "    'question_id': 'int16',\n",
    "    'bundle_id': 'int16',\n",
    "    'correct_answer': 'int8',\n",
    "    'part': 'int8',\n",
    "    'tags': 'str',\n",
    "}\n",
    "\n",
    "questions = pd.read_csv('/kaggle/input/riiid-test-answer-prediction/questions.csv',\n",
    "                       usecols = used_data_types_dict.keys(), dtype=used_data_types_dict)\n",
    "\n",
    "lectures_df = pd.read_csv('../input/riiid-test-answer-prediction/lectures.csv')\n",
    "#ex = pd.read_csv('../input/riiid-test-answer-prediction/example_test.csv')\n",
    "\n",
    "questions_communities = pd.read_csv('../input/2020-r3id-clustering-question-tags/question_cmnts.csv')"
   ]
  },
  {
   "cell_type": "code",
   "execution_count": 3,
   "metadata": {
    "execution": {
     "iopub.execute_input": "2020-12-31T03:21:55.336758Z",
     "iopub.status.busy": "2020-12-31T03:21:55.335963Z",
     "iopub.status.idle": "2020-12-31T03:22:41.813137Z",
     "shell.execute_reply": "2020-12-31T03:22:41.813642Z"
    },
    "papermill": {
     "duration": 46.493346,
     "end_time": "2020-12-31T03:22:41.813830",
     "exception": false,
     "start_time": "2020-12-31T03:21:55.320484",
     "status": "completed"
    },
    "tags": []
   },
   "outputs": [
    {
     "name": "stdout",
     "output_type": "stream",
     "text": [
      "CPU times: user 17.8 s, sys: 14.6 s, total: 32.4 s\n",
      "Wall time: 46.5 s\n"
     ]
    }
   ],
   "source": [
    "%%time\n",
    "features_df = pd.read_pickle('../input/riiid-splitting-train-and-test-data/features_q_only.pkl.zip')\n",
    "#train_df = pd.read_pickle('../input/riiid-splitting-train-and-test-data/train_q_only.pkl.zip')"
   ]
  },
  {
   "cell_type": "markdown",
   "metadata": {
    "papermill": {
     "duration": 0.009966,
     "end_time": "2020-12-31T03:22:41.837009",
     "exception": false,
     "start_time": "2020-12-31T03:22:41.827043",
     "status": "completed"
    },
    "tags": []
   },
   "source": [
    "The following cell shifts the prior_question_elapsed_time variable up one position so that we can see the amount of time it took to answer the question. I used this variable to find out the average amount of time it took to answer each question. "
   ]
  },
  {
   "cell_type": "code",
   "execution_count": 4,
   "metadata": {
    "execution": {
     "iopub.execute_input": "2020-12-31T03:22:41.867230Z",
     "iopub.status.busy": "2020-12-31T03:22:41.866609Z",
     "iopub.status.idle": "2020-12-31T03:22:42.024254Z",
     "shell.execute_reply": "2020-12-31T03:22:42.023462Z"
    },
    "papermill": {
     "duration": 0.177306,
     "end_time": "2020-12-31T03:22:42.024426",
     "exception": false,
     "start_time": "2020-12-31T03:22:41.847120",
     "status": "completed"
    },
    "tags": []
   },
   "outputs": [],
   "source": [
    "features_df['q_time'] = features_df['prior_question_elapsed_time'].shift(-1)"
   ]
  },
  {
   "cell_type": "code",
   "execution_count": 5,
   "metadata": {
    "execution": {
     "iopub.execute_input": "2020-12-31T03:22:42.056934Z",
     "iopub.status.busy": "2020-12-31T03:22:42.056212Z",
     "iopub.status.idle": "2020-12-31T03:22:50.524919Z",
     "shell.execute_reply": "2020-12-31T03:22:50.524398Z"
    },
    "papermill": {
     "duration": 8.483893,
     "end_time": "2020-12-31T03:22:50.525064",
     "exception": false,
     "start_time": "2020-12-31T03:22:42.041171",
     "status": "completed"
    },
    "tags": []
   },
   "outputs": [],
   "source": [
    "#dropping all lectures\n",
    "train_questions_only_df = features_df[features_df['answered_correctly']!=-1]"
   ]
  },
  {
   "cell_type": "markdown",
   "metadata": {
    "papermill": {
     "duration": 0.009841,
     "end_time": "2020-12-31T03:22:50.545751",
     "exception": false,
     "start_time": "2020-12-31T03:22:50.535910",
     "status": "completed"
    },
    "tags": []
   },
   "source": [
    "The following function was used to get the average question time of each question by question_id. One thing to note is that it took me a while to figure out why I kept getting all these inf variables for average question time. I figured out that the only way to solve this issue was to replace all the inf values in the column with nan values, and then use fillna on those cells. There was probably a better value that zero, buts that what I used!"
   ]
  },
  {
   "cell_type": "code",
   "execution_count": 6,
   "metadata": {
    "execution": {
     "iopub.execute_input": "2020-12-31T03:22:50.577492Z",
     "iopub.status.busy": "2020-12-31T03:22:50.576433Z",
     "iopub.status.idle": "2020-12-31T03:23:22.054590Z",
     "shell.execute_reply": "2020-12-31T03:23:22.054025Z"
    },
    "papermill": {
     "duration": 31.498948,
     "end_time": "2020-12-31T03:23:22.054716",
     "exception": false,
     "start_time": "2020-12-31T03:22:50.555768",
     "status": "completed"
    },
    "tags": []
   },
   "outputs": [],
   "source": [
    "def get_avg_q_time(train_questions_only_df):\n",
    "    \n",
    "    train_questions_only_df = train_questions_only_df.replace([np.inf, -np.inf], np.nan)\n",
    "    train_questions_only_df['q_time'].fillna(0, inplace=True)\n",
    "    train_questions_only_df = train_questions_only_df[train_questions_only_df['answered_correctly']!=0]\n",
    "    \n",
    "    grouped_by_content_df = train_questions_only_df.groupby('content_id')\n",
    "    \n",
    "    content_avg_q_time_df = grouped_by_content_df.agg({'q_time':['mean']})\n",
    "    \n",
    "    for i in questions[~questions.index.isin(content_avg_q_time_df.index)].index.values:\n",
    "        content_avg_q_time_df.loc[i] = content_avg_q_time_df.values.mean()\n",
    "     \n",
    "    content_avg_q_time_df = content_avg_q_time_df.reset_index()\n",
    "    \n",
    "    content_avg_q_time_df.columns = [\n",
    "    'content_id',\n",
    "    'avg_q_time', \n",
    "    ]\n",
    "    \n",
    "    content_avg_q_time_df = content_avg_q_time_df.set_index('content_id').sort_index()\n",
    "        \n",
    "    return(content_avg_q_time_df)\n",
    "\n",
    "content_avg_q_time_df = get_avg_q_time(train_questions_only_df)"
   ]
  },
  {
   "cell_type": "markdown",
   "metadata": {
    "papermill": {
     "duration": 0.010078,
     "end_time": "2020-12-31T03:23:22.076031",
     "exception": false,
     "start_time": "2020-12-31T03:23:22.065953",
     "status": "completed"
    },
    "tags": []
   },
   "source": [
    "Getting questions accuracy, number of times it was asked and the number of times it was correct. I took all three of these so that I could loop through and update these as we see more datapoints. "
   ]
  },
  {
   "cell_type": "code",
   "execution_count": 7,
   "metadata": {
    "execution": {
     "iopub.execute_input": "2020-12-31T03:23:22.104579Z",
     "iopub.status.busy": "2020-12-31T03:23:22.103446Z",
     "iopub.status.idle": "2020-12-31T03:23:36.758844Z",
     "shell.execute_reply": "2020-12-31T03:23:36.758247Z"
    },
    "papermill": {
     "duration": 14.672465,
     "end_time": "2020-12-31T03:23:36.758964",
     "exception": false,
     "start_time": "2020-12-31T03:23:22.086499",
     "status": "completed"
    },
    "tags": []
   },
   "outputs": [],
   "source": [
    "#grouping by content_id\n",
    "grouped_by_content_df = train_questions_only_df.groupby('content_id')\n",
    "\n",
    "#getting mean count and other stuff for each content_id\n",
    "content_answers_df = grouped_by_content_df.agg({'answered_correctly': ['mean', 'count', 'sum']}).copy()\n",
    "content_answers_df.columns = [\n",
    "    'q_mean_accuracy', \n",
    "    'q_question_asked',\n",
    "    'q_question_correct',\n",
    "]"
   ]
  },
  {
   "cell_type": "markdown",
   "metadata": {
    "papermill": {
     "duration": 0.010035,
     "end_time": "2020-12-31T03:23:36.780063",
     "exception": false,
     "start_time": "2020-12-31T03:23:36.770028",
     "status": "completed"
    },
    "tags": []
   },
   "source": [
    "There were actually some question_id's that we did not get to see, and I created a nifty function to fill these values. I filled the ration of number of correct and incorrect with roughly the overall avg. I thought adding the number of times the question was asked at 10 was reasonable. This was because I was planning on looping and updating this. If this was 1, one or two incorrect questions would seriouslt effect the supposed question accuracy."
   ]
  },
  {
   "cell_type": "code",
   "execution_count": 8,
   "metadata": {
    "execution": {
     "iopub.execute_input": "2020-12-31T03:23:36.809958Z",
     "iopub.status.busy": "2020-12-31T03:23:36.809155Z",
     "iopub.status.idle": "2020-12-31T03:23:36.828290Z",
     "shell.execute_reply": "2020-12-31T03:23:36.827542Z"
    },
    "papermill": {
     "duration": 0.038204,
     "end_time": "2020-12-31T03:23:36.828434",
     "exception": false,
     "start_time": "2020-12-31T03:23:36.790230",
     "status": "completed"
    },
    "tags": []
   },
   "outputs": [],
   "source": [
    "def add_missing_questions(content_answers_df, questions):\n",
    "    \n",
    "    for i in questions[~questions.index.isin(content_answers_df.index)].index.values:\n",
    "        content_answers_df.loc[i] = [0.6, 10, 6]\n",
    "        \n",
    "    content_answers_df = content_answers_df.sort_index()\n",
    "        \n",
    "    return(content_answers_df)\n",
    "\n",
    "content_answers_df = add_missing_questions(content_answers_df, questions)"
   ]
  },
  {
   "cell_type": "markdown",
   "metadata": {
    "papermill": {
     "duration": 0.009922,
     "end_time": "2020-12-31T03:23:36.848956",
     "exception": false,
     "start_time": "2020-12-31T03:23:36.839034",
     "status": "completed"
    },
    "tags": []
   },
   "source": [
    "This is another nifty pandas manipulation statement and checks how many quesitons in the bundle_id that is tied to that specific question. This is a pretty cool feature I extracted, and Im glad I was able to do so in one line!"
   ]
  },
  {
   "cell_type": "code",
   "execution_count": 9,
   "metadata": {
    "execution": {
     "iopub.execute_input": "2020-12-31T03:23:36.875458Z",
     "iopub.status.busy": "2020-12-31T03:23:36.874790Z",
     "iopub.status.idle": "2020-12-31T03:23:36.882523Z",
     "shell.execute_reply": "2020-12-31T03:23:36.881920Z"
    },
    "papermill": {
     "duration": 0.023554,
     "end_time": "2020-12-31T03:23:36.882642",
     "exception": false,
     "start_time": "2020-12-31T03:23:36.859088",
     "status": "completed"
    },
    "tags": []
   },
   "outputs": [],
   "source": [
    "questions['num_in_bundle'] = questions.groupby(['bundle_id'])['question_id'].transform('count')"
   ]
  },
  {
   "cell_type": "markdown",
   "metadata": {
    "papermill": {
     "duration": 0.010033,
     "end_time": "2020-12-31T03:23:36.903916",
     "exception": false,
     "start_time": "2020-12-31T03:23:36.893883",
     "status": "completed"
    },
    "tags": []
   },
   "source": [
    "Merging all the dataframes I have created in this notebook into one. "
   ]
  },
  {
   "cell_type": "code",
   "execution_count": 10,
   "metadata": {
    "execution": {
     "iopub.execute_input": "2020-12-31T03:23:36.933012Z",
     "iopub.status.busy": "2020-12-31T03:23:36.932385Z",
     "iopub.status.idle": "2020-12-31T03:23:36.963355Z",
     "shell.execute_reply": "2020-12-31T03:23:36.962770Z"
    },
    "papermill": {
     "duration": 0.049137,
     "end_time": "2020-12-31T03:23:36.963460",
     "exception": false,
     "start_time": "2020-12-31T03:23:36.914323",
     "status": "completed"
    },
    "tags": []
   },
   "outputs": [
    {
     "data": {
      "text/html": [
       "<div>\n",
       "<style scoped>\n",
       "    .dataframe tbody tr th:only-of-type {\n",
       "        vertical-align: middle;\n",
       "    }\n",
       "\n",
       "    .dataframe tbody tr th {\n",
       "        vertical-align: top;\n",
       "    }\n",
       "\n",
       "    .dataframe thead th {\n",
       "        text-align: right;\n",
       "    }\n",
       "</style>\n",
       "<table border=\"1\" class=\"dataframe\">\n",
       "  <thead>\n",
       "    <tr style=\"text-align: right;\">\n",
       "      <th></th>\n",
       "      <th>q_mean_accuracy</th>\n",
       "      <th>q_question_asked</th>\n",
       "      <th>q_question_correct</th>\n",
       "      <th>community</th>\n",
       "      <th>num_in_bundle</th>\n",
       "      <th>avg_q_time</th>\n",
       "    </tr>\n",
       "    <tr>\n",
       "      <th>content_id</th>\n",
       "      <th></th>\n",
       "      <th></th>\n",
       "      <th></th>\n",
       "      <th></th>\n",
       "      <th></th>\n",
       "      <th></th>\n",
       "    </tr>\n",
       "  </thead>\n",
       "  <tbody>\n",
       "    <tr>\n",
       "      <th>0</th>\n",
       "      <td>0.907535</td>\n",
       "      <td>6543.0</td>\n",
       "      <td>5938.0</td>\n",
       "      <td>2</td>\n",
       "      <td>1</td>\n",
       "      <td>18880.0</td>\n",
       "    </tr>\n",
       "    <tr>\n",
       "      <th>1</th>\n",
       "      <td>0.889810</td>\n",
       "      <td>6997.0</td>\n",
       "      <td>6226.0</td>\n",
       "      <td>2</td>\n",
       "      <td>1</td>\n",
       "      <td>18272.0</td>\n",
       "    </tr>\n",
       "    <tr>\n",
       "      <th>2</th>\n",
       "      <td>0.553755</td>\n",
       "      <td>42880.0</td>\n",
       "      <td>23745.0</td>\n",
       "      <td>2</td>\n",
       "      <td>1</td>\n",
       "      <td>22576.0</td>\n",
       "    </tr>\n",
       "    <tr>\n",
       "      <th>3</th>\n",
       "      <td>0.778388</td>\n",
       "      <td>21655.0</td>\n",
       "      <td>16856.0</td>\n",
       "      <td>2</td>\n",
       "      <td>1</td>\n",
       "      <td>20224.0</td>\n",
       "    </tr>\n",
       "    <tr>\n",
       "      <th>4</th>\n",
       "      <td>0.611676</td>\n",
       "      <td>30611.0</td>\n",
       "      <td>18724.0</td>\n",
       "      <td>2</td>\n",
       "      <td>1</td>\n",
       "      <td>20672.0</td>\n",
       "    </tr>\n",
       "    <tr>\n",
       "      <th>...</th>\n",
       "      <td>...</td>\n",
       "      <td>...</td>\n",
       "      <td>...</td>\n",
       "      <td>...</td>\n",
       "      <td>...</td>\n",
       "      <td>...</td>\n",
       "    </tr>\n",
       "    <tr>\n",
       "      <th>13518</th>\n",
       "      <td>0.770115</td>\n",
       "      <td>609.0</td>\n",
       "      <td>469.0</td>\n",
       "      <td>0</td>\n",
       "      <td>1</td>\n",
       "      <td>13984.0</td>\n",
       "    </tr>\n",
       "    <tr>\n",
       "      <th>13519</th>\n",
       "      <td>0.557960</td>\n",
       "      <td>647.0</td>\n",
       "      <td>361.0</td>\n",
       "      <td>1</td>\n",
       "      <td>1</td>\n",
       "      <td>23552.0</td>\n",
       "    </tr>\n",
       "    <tr>\n",
       "      <th>13520</th>\n",
       "      <td>0.668842</td>\n",
       "      <td>613.0</td>\n",
       "      <td>410.0</td>\n",
       "      <td>1</td>\n",
       "      <td>1</td>\n",
       "      <td>24400.0</td>\n",
       "    </tr>\n",
       "    <tr>\n",
       "      <th>13521</th>\n",
       "      <td>0.820513</td>\n",
       "      <td>585.0</td>\n",
       "      <td>480.0</td>\n",
       "      <td>0</td>\n",
       "      <td>1</td>\n",
       "      <td>18720.0</td>\n",
       "    </tr>\n",
       "    <tr>\n",
       "      <th>13522</th>\n",
       "      <td>0.916522</td>\n",
       "      <td>575.0</td>\n",
       "      <td>527.0</td>\n",
       "      <td>1</td>\n",
       "      <td>1</td>\n",
       "      <td>19632.0</td>\n",
       "    </tr>\n",
       "  </tbody>\n",
       "</table>\n",
       "<p>13523 rows × 6 columns</p>\n",
       "</div>"
      ],
      "text/plain": [
       "            q_mean_accuracy  q_question_asked  q_question_correct  community  \\\n",
       "content_id                                                                     \n",
       "0                  0.907535            6543.0              5938.0          2   \n",
       "1                  0.889810            6997.0              6226.0          2   \n",
       "2                  0.553755           42880.0             23745.0          2   \n",
       "3                  0.778388           21655.0             16856.0          2   \n",
       "4                  0.611676           30611.0             18724.0          2   \n",
       "...                     ...               ...                 ...        ...   \n",
       "13518              0.770115             609.0               469.0          0   \n",
       "13519              0.557960             647.0               361.0          1   \n",
       "13520              0.668842             613.0               410.0          1   \n",
       "13521              0.820513             585.0               480.0          0   \n",
       "13522              0.916522             575.0               527.0          1   \n",
       "\n",
       "            num_in_bundle  avg_q_time  \n",
       "content_id                             \n",
       "0                       1     18880.0  \n",
       "1                       1     18272.0  \n",
       "2                       1     22576.0  \n",
       "3                       1     20224.0  \n",
       "4                       1     20672.0  \n",
       "...                   ...         ...  \n",
       "13518                   1     13984.0  \n",
       "13519                   1     23552.0  \n",
       "13520                   1     24400.0  \n",
       "13521                   1     18720.0  \n",
       "13522                   1     19632.0  \n",
       "\n",
       "[13523 rows x 6 columns]"
      ]
     },
     "execution_count": 10,
     "metadata": {},
     "output_type": "execute_result"
    }
   ],
   "source": [
    "#adding community\n",
    "content_answers_df = content_answers_df.merge(questions_communities['community'], left_index=True, right_index=True)\n",
    "\n",
    "#adding numb in bundle\n",
    "content_answers_df = content_answers_df.merge(questions['num_in_bundle'], left_index=True, right_index=True)\n",
    "\n",
    "#adding avg_q_time\n",
    "content_answers_df = content_answers_df.merge(content_avg_q_time_df['avg_q_time'], left_index=True, right_index=True)\n",
    "\n",
    "content_answers_df"
   ]
  },
  {
   "cell_type": "code",
   "execution_count": 11,
   "metadata": {
    "execution": {
     "iopub.execute_input": "2020-12-31T03:23:36.992565Z",
     "iopub.status.busy": "2020-12-31T03:23:36.991960Z",
     "iopub.status.idle": "2020-12-31T03:23:37.035960Z",
     "shell.execute_reply": "2020-12-31T03:23:37.035415Z"
    },
    "papermill": {
     "duration": 0.061325,
     "end_time": "2020-12-31T03:23:37.036070",
     "exception": false,
     "start_time": "2020-12-31T03:23:36.974745",
     "status": "completed"
    },
    "tags": []
   },
   "outputs": [],
   "source": [
    "content_answers_df.to_pickle('./content_answers_df.pkl.zip')"
   ]
  },
  {
   "cell_type": "markdown",
   "metadata": {
    "papermill": {
     "duration": 0.010912,
     "end_time": "2020-12-31T03:23:37.058220",
     "exception": false,
     "start_time": "2020-12-31T03:23:37.047308",
     "status": "completed"
    },
    "tags": []
   },
   "source": [
    "# Closing Notes\n",
    "\n",
    "Its typical for a data scientist working on decision tree models, but I do wonder what other features I could have gotten that could be tied to eac question_id. I defintaley could have filled the questions that were unseen with values that were representive of their tag or part. \n",
    "\n",
    "I think its impossible to fully exlpore all ways you can create features from the data given, but I do think I could have utilizaed the timestamp and lag_time features in conjunction with these stats to create some pretty powerful varaibles. Im interested to see some creative features used after the competition ends."
   ]
  }
 ],
 "metadata": {
  "kernelspec": {
   "display_name": "Python 3",
   "language": "python",
   "name": "python3"
  },
  "language_info": {
   "codemirror_mode": {
    "name": "ipython",
    "version": 3
   },
   "file_extension": ".py",
   "mimetype": "text/x-python",
   "name": "python",
   "nbconvert_exporter": "python",
   "pygments_lexer": "ipython3",
   "version": "3.7.6"
  },
  "papermill": {
   "duration": 108.08262,
   "end_time": "2020-12-31T03:23:38.277954",
   "environment_variables": {},
   "exception": null,
   "input_path": "__notebook__.ipynb",
   "output_path": "__notebook__.ipynb",
   "parameters": {},
   "start_time": "2020-12-31T03:21:50.195334",
   "version": "2.1.0"
  }
 },
 "nbformat": 4,
 "nbformat_minor": 4
}
