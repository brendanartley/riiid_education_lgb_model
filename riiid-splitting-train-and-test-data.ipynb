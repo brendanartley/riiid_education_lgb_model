{
 "cells": [
  {
   "cell_type": "markdown",
   "metadata": {
    "papermill": {
     "duration": 0.025848,
     "end_time": "2020-12-31T03:22:03.220122",
     "exception": false,
     "start_time": "2020-12-31T03:22:03.194274",
     "status": "completed"
    },
    "tags": []
   },
   "source": [
    "# Opening Notes\n",
    "\n",
    "For this dataset, we are given a few things. We are told that it is sort of time-series tabular data. What I mean is that the data is organized by user_id, and in order of how the questions were viewed by that user. So the way I wanted to split the data was by taking features from the first questions each user saw, and create the training data on the later questions.\n",
    "\n",
    "There was no easy way I found to do this, but I managed to group user_id's by the number of quesitions they had seen. I used these groups to set aside roughly 9-12% of the data to create my training dataset. the remaining 89-90% of the data was used to create features.\n",
    "\n",
    "In this notebook I also created the lag_time variable which was the most prominent feature on the LGB Model I submitted!\n",
    "\n"
   ]
  },
  {
   "cell_type": "code",
   "execution_count": 1,
   "metadata": {
    "_cell_guid": "b1076dfc-b9ad-4769-8c92-a6c4dae69d19",
    "_uuid": "8f2839f25d086af736a60e9eeb907d3b93b6e0e5",
    "execution": {
     "iopub.execute_input": "2020-12-31T03:22:03.270313Z",
     "iopub.status.busy": "2020-12-31T03:22:03.269439Z",
     "iopub.status.idle": "2020-12-31T03:22:04.685386Z",
     "shell.execute_reply": "2020-12-31T03:22:04.686108Z"
    },
    "papermill": {
     "duration": 1.444444,
     "end_time": "2020-12-31T03:22:04.686579",
     "exception": false,
     "start_time": "2020-12-31T03:22:03.242135",
     "status": "completed"
    },
    "tags": []
   },
   "outputs": [],
   "source": [
    "#basic\n",
    "import numpy as np\n",
    "import pandas as pd\n",
    "from sklearn.model_selection import train_test_split\n",
    "from tqdm.notebook import tqdm\n",
    "import gc\n",
    "\n",
    "\n",
    "import os"
   ]
  },
  {
   "cell_type": "code",
   "execution_count": 2,
   "metadata": {
    "_cell_guid": "79c7e3d0-c299-4dcb-8224-4455121ee9b0",
    "_uuid": "d629ff2d2480ee46fbb7e2d37f6b5fab8052498a",
    "execution": {
     "iopub.execute_input": "2020-12-31T03:22:04.738585Z",
     "iopub.status.busy": "2020-12-31T03:22:04.737864Z",
     "iopub.status.idle": "2020-12-31T03:22:27.939047Z",
     "shell.execute_reply": "2020-12-31T03:22:27.938428Z"
    },
    "papermill": {
     "duration": 23.230118,
     "end_time": "2020-12-31T03:22:27.939167",
     "exception": false,
     "start_time": "2020-12-31T03:22:04.709049",
     "status": "completed"
    },
    "tags": []
   },
   "outputs": [
    {
     "name": "stdout",
     "output_type": "stream",
     "text": [
      "CPU times: user 873 ms, sys: 5.01 s, total: 5.88 s\n",
      "Wall time: 23.2 s\n"
     ]
    }
   ],
   "source": [
    "%%time\n",
    "train_questions_only_df = pd.read_pickle('../input/riiid-train-df/train_df.pkl.gzip')\n",
    "\n",
    "used_data_types_dict = {\n",
    "    'question_id': 'int16',\n",
    "    'bundle_id': 'int16',\n",
    "    'correct_answer': 'int8',\n",
    "    'part': 'int8',\n",
    "    'tags': 'str',\n",
    "}"
   ]
  },
  {
   "cell_type": "code",
   "execution_count": 3,
   "metadata": {
    "execution": {
     "iopub.execute_input": "2020-12-31T03:22:27.980687Z",
     "iopub.status.busy": "2020-12-31T03:22:27.979899Z",
     "iopub.status.idle": "2020-12-31T03:22:27.985631Z",
     "shell.execute_reply": "2020-12-31T03:22:27.986182Z"
    },
    "papermill": {
     "duration": 0.031217,
     "end_time": "2020-12-31T03:22:27.986358",
     "exception": false,
     "start_time": "2020-12-31T03:22:27.955141",
     "status": "completed"
    },
    "tags": []
   },
   "outputs": [],
   "source": [
    "def get_lag_time(df):\n",
    "    \n",
    "    lag_dict = {}\n",
    "    lag_list = []\n",
    "    prev_timestamp = 123\n",
    "    \n",
    "    for pair in tqdm(df[['user_id','timestamp']].values):\n",
    "        if pair[0] in lag_dict:\n",
    "            if prev_timestamp == pair[1]:\n",
    "                lag_list.append(lag_list[-1])\n",
    "            else:\n",
    "                lag_list.append(pair[1] - lag_dict[pair[0]])\n",
    "                lag_dict[pair[0]] = pair[1]\n",
    "            \n",
    "        else:\n",
    "            lag_dict[pair[0]]= 0\n",
    "            lag_list.append(0)\n",
    "            \n",
    "        prev_timestamp=pair[1]\n",
    "            \n",
    "    df['lag_time']=lag_list\n",
    "    \n",
    "    return(df)"
   ]
  },
  {
   "cell_type": "code",
   "execution_count": 4,
   "metadata": {
    "execution": {
     "iopub.execute_input": "2020-12-31T03:22:29.600019Z",
     "iopub.status.busy": "2020-12-31T03:22:28.744010Z",
     "iopub.status.idle": "2020-12-31T03:27:54.987934Z",
     "shell.execute_reply": "2020-12-31T03:27:54.988487Z"
    },
    "papermill": {
     "duration": 326.987199,
     "end_time": "2020-12-31T03:27:54.988633",
     "exception": false,
     "start_time": "2020-12-31T03:22:28.001434",
     "status": "completed"
    },
    "tags": []
   },
   "outputs": [
    {
     "data": {
      "application/vnd.jupyter.widget-view+json": {
       "model_id": "87dfe1775629484f81ac2a49a0569fc9",
       "version_major": 2,
       "version_minor": 0
      },
      "text/plain": [
       "HBox(children=(FloatProgress(value=0.0, max=101230332.0), HTML(value='')))"
      ]
     },
     "metadata": {},
     "output_type": "display_data"
    },
    {
     "name": "stdout",
     "output_type": "stream",
     "text": [
      "\n"
     ]
    }
   ],
   "source": [
    "train_questions_only_df = get_lag_time(train_questions_only_df)"
   ]
  },
  {
   "cell_type": "code",
   "execution_count": 5,
   "metadata": {
    "execution": {
     "iopub.execute_input": "2020-12-31T03:27:55.034174Z",
     "iopub.status.busy": "2020-12-31T03:27:55.033501Z",
     "iopub.status.idle": "2020-12-31T03:27:59.392029Z",
     "shell.execute_reply": "2020-12-31T03:27:59.390894Z"
    },
    "papermill": {
     "duration": 4.386745,
     "end_time": "2020-12-31T03:27:59.392173",
     "exception": false,
     "start_time": "2020-12-31T03:27:55.005428",
     "status": "completed"
    },
    "tags": []
   },
   "outputs": [
    {
     "name": "stdout",
     "output_type": "stream",
     "text": [
      "0.08949360586291752\n"
     ]
    }
   ],
   "source": [
    "b=train_questions_only_df[train_questions_only_df.groupby('user_id')['user_id'].transform('size') >= 10000]\n",
    "valid_split1 = b.groupby('user_id').tail(1000)\n",
    "train_split1 = b[~b.index.isin(valid_split1.index)]\n",
    "\n",
    "print(valid_split1.shape[0]/train_split1.shape[0])"
   ]
  },
  {
   "cell_type": "code",
   "execution_count": 6,
   "metadata": {
    "execution": {
     "iopub.execute_input": "2020-12-31T03:27:59.451949Z",
     "iopub.status.busy": "2020-12-31T03:27:59.450514Z",
     "iopub.status.idle": "2020-12-31T03:28:11.057665Z",
     "shell.execute_reply": "2020-12-31T03:28:11.058363Z"
    },
    "papermill": {
     "duration": 11.641667,
     "end_time": "2020-12-31T03:28:11.058576",
     "exception": false,
     "start_time": "2020-12-31T03:27:59.416909",
     "status": "completed"
    },
    "tags": []
   },
   "outputs": [
    {
     "name": "stdout",
     "output_type": "stream",
     "text": [
      "0.10014560088491771\n"
     ]
    }
   ],
   "source": [
    "b=train_questions_only_df[train_questions_only_df.groupby('user_id')['user_id'].transform('size') < 10000]\n",
    "c=b[b.groupby('user_id')['user_id'].transform('size') >= 5000]\n",
    "valid_split2 = c.groupby('user_id').tail(600)\n",
    "train_split2 = c[~c.index.isin(valid_split2.index)]\n",
    "\n",
    "print(valid_split2.shape[0]/train_split2.shape[0])"
   ]
  },
  {
   "cell_type": "code",
   "execution_count": 7,
   "metadata": {
    "execution": {
     "iopub.execute_input": "2020-12-31T03:28:11.114029Z",
     "iopub.status.busy": "2020-12-31T03:28:11.113087Z",
     "iopub.status.idle": "2020-12-31T03:28:30.825390Z",
     "shell.execute_reply": "2020-12-31T03:28:30.824825Z"
    },
    "papermill": {
     "duration": 19.741035,
     "end_time": "2020-12-31T03:28:30.825515",
     "exception": false,
     "start_time": "2020-12-31T03:28:11.084480",
     "status": "completed"
    },
    "tags": []
   },
   "outputs": [
    {
     "name": "stdout",
     "output_type": "stream",
     "text": [
      "0.10266382602036785\n"
     ]
    }
   ],
   "source": [
    "b=train_questions_only_df[train_questions_only_df.groupby('user_id')['user_id'].transform('size') < 5000]\n",
    "c=b[b.groupby('user_id')['user_id'].transform('size') >= 1000]\n",
    "valid_split3 = c.groupby('user_id').tail(185)\n",
    "train_split3 = c[~c.index.isin(valid_split3.index)]\n",
    "\n",
    "print(valid_split3.shape[0]/train_split3.shape[0])"
   ]
  },
  {
   "cell_type": "code",
   "execution_count": 8,
   "metadata": {
    "execution": {
     "iopub.execute_input": "2020-12-31T03:28:30.867786Z",
     "iopub.status.busy": "2020-12-31T03:28:30.867089Z",
     "iopub.status.idle": "2020-12-31T03:28:41.608149Z",
     "shell.execute_reply": "2020-12-31T03:28:41.608667Z"
    },
    "papermill": {
     "duration": 10.765819,
     "end_time": "2020-12-31T03:28:41.608850",
     "exception": false,
     "start_time": "2020-12-31T03:28:30.843031",
     "status": "completed"
    },
    "tags": []
   },
   "outputs": [
    {
     "name": "stdout",
     "output_type": "stream",
     "text": [
      "0.1014135185675947\n"
     ]
    }
   ],
   "source": [
    "b=train_questions_only_df[train_questions_only_df.groupby('user_id')['user_id'].transform('size') < 1000]\n",
    "c=b[b.groupby('user_id')['user_id'].transform('size') >= 500]\n",
    "valid_split4 = c.groupby('user_id').tail(65)\n",
    "train_split4 = c[~c.index.isin(valid_split4.index)]\n",
    "\n",
    "print(valid_split4.shape[0]/train_split4.shape[0])"
   ]
  },
  {
   "cell_type": "code",
   "execution_count": 9,
   "metadata": {
    "execution": {
     "iopub.execute_input": "2020-12-31T03:28:41.655532Z",
     "iopub.status.busy": "2020-12-31T03:28:41.654491Z",
     "iopub.status.idle": "2020-12-31T03:28:49.188966Z",
     "shell.execute_reply": "2020-12-31T03:28:49.189751Z"
    },
    "papermill": {
     "duration": 7.562704,
     "end_time": "2020-12-31T03:28:49.189900",
     "exception": false,
     "start_time": "2020-12-31T03:28:41.627196",
     "status": "completed"
    },
    "tags": []
   },
   "outputs": [
    {
     "name": "stdout",
     "output_type": "stream",
     "text": [
      "0.09606992576414827\n"
     ]
    }
   ],
   "source": [
    "b=train_questions_only_df[train_questions_only_df.groupby('user_id')['user_id'].transform('size') < 500]\n",
    "c=b[b.groupby('user_id')['user_id'].transform('size') >= 200]\n",
    "valid_split5 = c.groupby('user_id').tail(28)\n",
    "train_split5 = c[~c.index.isin(valid_split5.index)]\n",
    "\n",
    "print(valid_split5.shape[0]/train_split5.shape[0])"
   ]
  },
  {
   "cell_type": "code",
   "execution_count": 10,
   "metadata": {
    "execution": {
     "iopub.execute_input": "2020-12-31T03:28:49.232664Z",
     "iopub.status.busy": "2020-12-31T03:28:49.231456Z",
     "iopub.status.idle": "2020-12-31T03:28:55.894958Z",
     "shell.execute_reply": "2020-12-31T03:28:55.893959Z"
    },
    "papermill": {
     "duration": 6.686023,
     "end_time": "2020-12-31T03:28:55.895160",
     "exception": false,
     "start_time": "2020-12-31T03:28:49.209137",
     "status": "completed"
    },
    "tags": []
   },
   "outputs": [
    {
     "name": "stdout",
     "output_type": "stream",
     "text": [
      "0.08868120729430187\n"
     ]
    }
   ],
   "source": [
    "b=train_questions_only_df[train_questions_only_df.groupby('user_id')['user_id'].transform('size') < 200]\n",
    "c=b[b.groupby('user_id')['user_id'].transform('size') >= 50]\n",
    "valid_split6 = c.groupby('user_id').tail(8)\n",
    "train_split6 = c[~c.index.isin(valid_split6.index)]\n",
    "\n",
    "print(valid_split6.shape[0]/train_split6.shape[0])"
   ]
  },
  {
   "cell_type": "code",
   "execution_count": 11,
   "metadata": {
    "execution": {
     "iopub.execute_input": "2020-12-31T03:28:55.949809Z",
     "iopub.status.busy": "2020-12-31T03:28:55.948748Z",
     "iopub.status.idle": "2020-12-31T03:29:01.050191Z",
     "shell.execute_reply": "2020-12-31T03:29:01.049426Z"
    },
    "papermill": {
     "duration": 5.127248,
     "end_time": "2020-12-31T03:29:01.050354",
     "exception": false,
     "start_time": "2020-12-31T03:28:55.923106",
     "status": "completed"
    },
    "tags": []
   },
   "outputs": [
    {
     "name": "stdout",
     "output_type": "stream",
     "text": [
      "0.12428416860063977\n"
     ]
    }
   ],
   "source": [
    "b=train_questions_only_df[train_questions_only_df.groupby('user_id')['user_id'].transform('size') < 50]\n",
    "c=b[b.groupby('user_id')['user_id'].transform('size') >= 2]\n",
    "valid_split7 = c.groupby('user_id').tail(3)\n",
    "train_split7 = c[~c.index.isin(valid_split7.index)]\n",
    "\n",
    "print(valid_split7.shape[0]/train_split7.shape[0])"
   ]
  },
  {
   "cell_type": "code",
   "execution_count": 12,
   "metadata": {
    "execution": {
     "iopub.execute_input": "2020-12-31T03:29:01.122643Z",
     "iopub.status.busy": "2020-12-31T03:29:01.121994Z",
     "iopub.status.idle": "2020-12-31T03:29:04.187331Z",
     "shell.execute_reply": "2020-12-31T03:29:04.187905Z"
    },
    "papermill": {
     "duration": 3.106629,
     "end_time": "2020-12-31T03:29:04.188066",
     "exception": false,
     "start_time": "2020-12-31T03:29:01.081437",
     "status": "completed"
    },
    "tags": []
   },
   "outputs": [
    {
     "name": "stdout",
     "output_type": "stream",
     "text": [
      "0.10126582278481013\n"
     ]
    }
   ],
   "source": [
    "b=train_questions_only_df[train_questions_only_df.groupby('user_id')['user_id'].transform('size') < 50]\n",
    "c=b[b.groupby('user_id')['user_id'].transform('size') < 2]\n",
    "\n",
    "features_df, train_df = train_test_split(c, test_size=0.09, random_state=314)\n",
    "\n",
    "print(train_df.shape[0]/features_df.shape[0])"
   ]
  },
  {
   "cell_type": "code",
   "execution_count": 13,
   "metadata": {
    "execution": {
     "iopub.execute_input": "2020-12-31T03:29:04.402854Z",
     "iopub.status.busy": "2020-12-31T03:29:04.299688Z",
     "iopub.status.idle": "2020-12-31T03:29:04.410166Z",
     "shell.execute_reply": "2020-12-31T03:29:04.409451Z"
    },
    "papermill": {
     "duration": 0.201198,
     "end_time": "2020-12-31T03:29:04.410288",
     "exception": false,
     "start_time": "2020-12-31T03:29:04.209090",
     "status": "completed"
    },
    "tags": []
   },
   "outputs": [
    {
     "data": {
      "text/plain": [
       "73"
      ]
     },
     "execution_count": 13,
     "metadata": {},
     "output_type": "execute_result"
    }
   ],
   "source": [
    "del train_questions_only_df, b, c\n",
    "gc.collect()"
   ]
  },
  {
   "cell_type": "markdown",
   "metadata": {
    "papermill": {
     "duration": 0.020401,
     "end_time": "2020-12-31T03:29:04.452933",
     "exception": false,
     "start_time": "2020-12-31T03:29:04.432532",
     "status": "completed"
    },
    "tags": []
   },
   "source": [
    "I grouped all the dataframes together in the next cell, and when looping through I made sure to delete each df from memory. This was the only way I could get this done and stay withing the CPU limits."
   ]
  },
  {
   "cell_type": "code",
   "execution_count": 14,
   "metadata": {
    "execution": {
     "iopub.execute_input": "2020-12-31T03:29:04.502073Z",
     "iopub.status.busy": "2020-12-31T03:29:04.501324Z",
     "iopub.status.idle": "2020-12-31T03:29:10.681202Z",
     "shell.execute_reply": "2020-12-31T03:29:10.681702Z"
    },
    "papermill": {
     "duration": 6.208641,
     "end_time": "2020-12-31T03:29:10.681977",
     "exception": false,
     "start_time": "2020-12-31T03:29:04.473336",
     "status": "completed"
    },
    "tags": []
   },
   "outputs": [
    {
     "name": "stdout",
     "output_type": "stream",
     "text": [
      "0.10068372099987073\n"
     ]
    }
   ],
   "source": [
    "for df in (valid_split1, valid_split2, valid_split3, valid_split4, valid_split5, valid_split6, valid_split7):\n",
    "    train_df = pd.concat([train_df, df], axis=0)\n",
    "    del df\n",
    "    \n",
    "for df in (train_split1, train_split2, train_split3, train_split4, train_split5, train_split6, train_split7):\n",
    "    features_df = pd.concat([features_df, df], axis=0)\n",
    "    del df\n",
    "    \n",
    "print(train_df.shape[0]/features_df.shape[0])"
   ]
  },
  {
   "cell_type": "markdown",
   "metadata": {
    "papermill": {
     "duration": 0.020815,
     "end_time": "2020-12-31T03:29:10.724207",
     "exception": false,
     "start_time": "2020-12-31T03:29:10.703392",
     "status": "completed"
    },
    "tags": []
   },
   "source": [
    "I did not take the exact same percentage of rows from each group as if I did so the average number of questions correct were a little odd. I both datasets to have roughly the same ratio of number of questions correct to the number of questions incorrect."
   ]
  },
  {
   "cell_type": "code",
   "execution_count": 15,
   "metadata": {
    "execution": {
     "iopub.execute_input": "2020-12-31T03:29:10.773486Z",
     "iopub.status.busy": "2020-12-31T03:29:10.772667Z",
     "iopub.status.idle": "2020-12-31T03:29:10.847215Z",
     "shell.execute_reply": "2020-12-31T03:29:10.846314Z"
    },
    "papermill": {
     "duration": 0.102352,
     "end_time": "2020-12-31T03:29:10.847344",
     "exception": false,
     "start_time": "2020-12-31T03:29:10.744992",
     "status": "completed"
    },
    "tags": []
   },
   "outputs": [
    {
     "name": "stdout",
     "output_type": "stream",
     "text": [
      "features_df - average correct: 0.625398251735512\n",
      "train_df - average correct: 0.6228412482479606\n"
     ]
    }
   ],
   "source": [
    "print(\"features_df - average correct:\",features_df.answered_correctly.mean())\n",
    "print(\"train_df - average correct:\", train_df.answered_correctly.mean())"
   ]
  },
  {
   "cell_type": "markdown",
   "metadata": {
    "papermill": {
     "duration": 0.021994,
     "end_time": "2020-12-31T03:29:10.890850",
     "exception": false,
     "start_time": "2020-12-31T03:29:10.868856",
     "status": "completed"
    },
    "tags": []
   },
   "source": [
    "I found it useful to sort the rows just to keep everything nice and neat once I read the pickle file in the main notebook. This aided in the transparency and readability of the two dataframes."
   ]
  },
  {
   "cell_type": "code",
   "execution_count": 16,
   "metadata": {
    "execution": {
     "iopub.execute_input": "2020-12-31T03:29:10.941275Z",
     "iopub.status.busy": "2020-12-31T03:29:10.940557Z",
     "iopub.status.idle": "2020-12-31T03:29:20.963311Z",
     "shell.execute_reply": "2020-12-31T03:29:20.962735Z"
    },
    "papermill": {
     "duration": 10.051429,
     "end_time": "2020-12-31T03:29:20.963430",
     "exception": false,
     "start_time": "2020-12-31T03:29:10.912001",
     "status": "completed"
    },
    "tags": []
   },
   "outputs": [],
   "source": [
    "train_df = train_df.sort_index()\n",
    "features_df = features_df.sort_index()"
   ]
  },
  {
   "cell_type": "code",
   "execution_count": 17,
   "metadata": {
    "execution": {
     "iopub.execute_input": "2020-12-31T03:29:21.012640Z",
     "iopub.status.busy": "2020-12-31T03:29:21.012011Z",
     "iopub.status.idle": "2020-12-31T03:34:19.047779Z",
     "shell.execute_reply": "2020-12-31T03:34:19.048419Z"
    },
    "papermill": {
     "duration": 298.063535,
     "end_time": "2020-12-31T03:34:19.048739",
     "exception": false,
     "start_time": "2020-12-31T03:29:20.985204",
     "status": "completed"
    },
    "tags": []
   },
   "outputs": [],
   "source": [
    "#writing data to use in main notebook\n",
    "train_df.to_pickle('./train_q_only.pkl.zip')\n",
    "features_df.to_pickle('./features_q_only.pkl.zip')"
   ]
  },
  {
   "cell_type": "markdown",
   "metadata": {
    "papermill": {
     "duration": 0.021096,
     "end_time": "2020-12-31T03:34:19.092882",
     "exception": false,
     "start_time": "2020-12-31T03:34:19.071786",
     "status": "completed"
    },
    "tags": []
   },
   "source": [
    "# Closing Notes\n",
    "\n",
    "I do think I would have a stronger model if I was able to select a few key features and train on a larger portion of the data. If I were to have time to do this competition over again I would attempt to create a model which could be trained on all 100 million rows."
   ]
  }
 ],
 "metadata": {
  "kernelspec": {
   "display_name": "Python 3",
   "language": "python",
   "name": "python3"
  },
  "language_info": {
   "codemirror_mode": {
    "name": "ipython",
    "version": 3
   },
   "file_extension": ".py",
   "mimetype": "text/x-python",
   "name": "python",
   "nbconvert_exporter": "python",
   "pygments_lexer": "ipython3",
   "version": "3.7.6"
  },
  "papermill": {
   "duration": 741.894937,
   "end_time": "2020-12-31T03:34:19.227976",
   "environment_variables": {},
   "exception": null,
   "input_path": "__notebook__.ipynb",
   "output_path": "__notebook__.ipynb",
   "parameters": {},
   "start_time": "2020-12-31T03:21:57.333039",
   "version": "2.1.0"
  },
  "widgets": {
   "application/vnd.jupyter.widget-state+json": {
    "state": {
     "04f784358715477cbb6d51eae74a2dbe": {
      "model_module": "@jupyter-widgets/controls",
      "model_module_version": "1.5.0",
      "model_name": "ProgressStyleModel",
      "state": {
       "_model_module": "@jupyter-widgets/controls",
       "_model_module_version": "1.5.0",
       "_model_name": "ProgressStyleModel",
       "_view_count": null,
       "_view_module": "@jupyter-widgets/base",
       "_view_module_version": "1.2.0",
       "_view_name": "StyleView",
       "bar_color": null,
       "description_width": "initial"
      }
     },
     "0a7d238fd7dc4c11b4ec066f344e91bc": {
      "model_module": "@jupyter-widgets/base",
      "model_module_version": "1.2.0",
      "model_name": "LayoutModel",
      "state": {
       "_model_module": "@jupyter-widgets/base",
       "_model_module_version": "1.2.0",
       "_model_name": "LayoutModel",
       "_view_count": null,
       "_view_module": "@jupyter-widgets/base",
       "_view_module_version": "1.2.0",
       "_view_name": "LayoutView",
       "align_content": null,
       "align_items": null,
       "align_self": null,
       "border": null,
       "bottom": null,
       "display": null,
       "flex": null,
       "flex_flow": null,
       "grid_area": null,
       "grid_auto_columns": null,
       "grid_auto_flow": null,
       "grid_auto_rows": null,
       "grid_column": null,
       "grid_gap": null,
       "grid_row": null,
       "grid_template_areas": null,
       "grid_template_columns": null,
       "grid_template_rows": null,
       "height": null,
       "justify_content": null,
       "justify_items": null,
       "left": null,
       "margin": null,
       "max_height": null,
       "max_width": null,
       "min_height": null,
       "min_width": null,
       "object_fit": null,
       "object_position": null,
       "order": null,
       "overflow": null,
       "overflow_x": null,
       "overflow_y": null,
       "padding": null,
       "right": null,
       "top": null,
       "visibility": null,
       "width": null
      }
     },
     "299fe4ac25404b7ea3ff4b9d0dbd6908": {
      "model_module": "@jupyter-widgets/controls",
      "model_module_version": "1.5.0",
      "model_name": "FloatProgressModel",
      "state": {
       "_dom_classes": [],
       "_model_module": "@jupyter-widgets/controls",
       "_model_module_version": "1.5.0",
       "_model_name": "FloatProgressModel",
       "_view_count": null,
       "_view_module": "@jupyter-widgets/controls",
       "_view_module_version": "1.5.0",
       "_view_name": "ProgressView",
       "bar_style": "success",
       "description": "100%",
       "description_tooltip": null,
       "layout": "IPY_MODEL_0a7d238fd7dc4c11b4ec066f344e91bc",
       "max": 101230332.0,
       "min": 0.0,
       "orientation": "horizontal",
       "style": "IPY_MODEL_04f784358715477cbb6d51eae74a2dbe",
       "value": 101230332.0
      }
     },
     "83124230331c4b1585ff223f818a8446": {
      "model_module": "@jupyter-widgets/controls",
      "model_module_version": "1.5.0",
      "model_name": "HTMLModel",
      "state": {
       "_dom_classes": [],
       "_model_module": "@jupyter-widgets/controls",
       "_model_module_version": "1.5.0",
       "_model_name": "HTMLModel",
       "_view_count": null,
       "_view_module": "@jupyter-widgets/controls",
       "_view_module_version": "1.5.0",
       "_view_name": "HTMLView",
       "description": "",
       "description_tooltip": null,
       "layout": "IPY_MODEL_e3a86064851e4f7691d79a386266abcd",
       "placeholder": "​",
       "style": "IPY_MODEL_a27847fb2a264557b7af41feb780d0df",
       "value": " 101230332/101230332 [05:24&lt;00:00, 312040.74it/s]"
      }
     },
     "87dfe1775629484f81ac2a49a0569fc9": {
      "model_module": "@jupyter-widgets/controls",
      "model_module_version": "1.5.0",
      "model_name": "HBoxModel",
      "state": {
       "_dom_classes": [],
       "_model_module": "@jupyter-widgets/controls",
       "_model_module_version": "1.5.0",
       "_model_name": "HBoxModel",
       "_view_count": null,
       "_view_module": "@jupyter-widgets/controls",
       "_view_module_version": "1.5.0",
       "_view_name": "HBoxView",
       "box_style": "",
       "children": [
        "IPY_MODEL_299fe4ac25404b7ea3ff4b9d0dbd6908",
        "IPY_MODEL_83124230331c4b1585ff223f818a8446"
       ],
       "layout": "IPY_MODEL_ae5605bf3bd64c719f7dbf5003010506"
      }
     },
     "a27847fb2a264557b7af41feb780d0df": {
      "model_module": "@jupyter-widgets/controls",
      "model_module_version": "1.5.0",
      "model_name": "DescriptionStyleModel",
      "state": {
       "_model_module": "@jupyter-widgets/controls",
       "_model_module_version": "1.5.0",
       "_model_name": "DescriptionStyleModel",
       "_view_count": null,
       "_view_module": "@jupyter-widgets/base",
       "_view_module_version": "1.2.0",
       "_view_name": "StyleView",
       "description_width": ""
      }
     },
     "ae5605bf3bd64c719f7dbf5003010506": {
      "model_module": "@jupyter-widgets/base",
      "model_module_version": "1.2.0",
      "model_name": "LayoutModel",
      "state": {
       "_model_module": "@jupyter-widgets/base",
       "_model_module_version": "1.2.0",
       "_model_name": "LayoutModel",
       "_view_count": null,
       "_view_module": "@jupyter-widgets/base",
       "_view_module_version": "1.2.0",
       "_view_name": "LayoutView",
       "align_content": null,
       "align_items": null,
       "align_self": null,
       "border": null,
       "bottom": null,
       "display": null,
       "flex": null,
       "flex_flow": null,
       "grid_area": null,
       "grid_auto_columns": null,
       "grid_auto_flow": null,
       "grid_auto_rows": null,
       "grid_column": null,
       "grid_gap": null,
       "grid_row": null,
       "grid_template_areas": null,
       "grid_template_columns": null,
       "grid_template_rows": null,
       "height": null,
       "justify_content": null,
       "justify_items": null,
       "left": null,
       "margin": null,
       "max_height": null,
       "max_width": null,
       "min_height": null,
       "min_width": null,
       "object_fit": null,
       "object_position": null,
       "order": null,
       "overflow": null,
       "overflow_x": null,
       "overflow_y": null,
       "padding": null,
       "right": null,
       "top": null,
       "visibility": null,
       "width": null
      }
     },
     "e3a86064851e4f7691d79a386266abcd": {
      "model_module": "@jupyter-widgets/base",
      "model_module_version": "1.2.0",
      "model_name": "LayoutModel",
      "state": {
       "_model_module": "@jupyter-widgets/base",
       "_model_module_version": "1.2.0",
       "_model_name": "LayoutModel",
       "_view_count": null,
       "_view_module": "@jupyter-widgets/base",
       "_view_module_version": "1.2.0",
       "_view_name": "LayoutView",
       "align_content": null,
       "align_items": null,
       "align_self": null,
       "border": null,
       "bottom": null,
       "display": null,
       "flex": null,
       "flex_flow": null,
       "grid_area": null,
       "grid_auto_columns": null,
       "grid_auto_flow": null,
       "grid_auto_rows": null,
       "grid_column": null,
       "grid_gap": null,
       "grid_row": null,
       "grid_template_areas": null,
       "grid_template_columns": null,
       "grid_template_rows": null,
       "height": null,
       "justify_content": null,
       "justify_items": null,
       "left": null,
       "margin": null,
       "max_height": null,
       "max_width": null,
       "min_height": null,
       "min_width": null,
       "object_fit": null,
       "object_position": null,
       "order": null,
       "overflow": null,
       "overflow_x": null,
       "overflow_y": null,
       "padding": null,
       "right": null,
       "top": null,
       "visibility": null,
       "width": null
      }
     }
    },
    "version_major": 2,
    "version_minor": 0
   }
  }
 },
 "nbformat": 4,
 "nbformat_minor": 4
}
